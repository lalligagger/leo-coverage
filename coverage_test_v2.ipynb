{
 "cells": [
  {
   "cell_type": "code",
   "execution_count": null,
   "metadata": {},
   "outputs": [],
   "source": [
    "import numpy as np\n",
    "from skyfield.api import load, wgs84, Distance\n",
    "from skyfield.toposlib import ITRSPosition\n",
    "from skyfield.framelib import itrs\n",
    "from coverage_v2 import *\n",
    "from scipy.spatial.transform import Rotation as R\n",
    "\n",
    "import geopandas as gpd\n",
    "from shapely.geometry import Polygon"
   ]
  },
  {
   "cell_type": "code",
   "execution_count": null,
   "metadata": {},
   "outputs": [],
   "source": [
    "tles = gen_sats(sat_nos=[49260])\n",
    "sat = tles[0][0]\n",
    "times = gen_times(start_yr=2021, start_mo=11, start_day=27, days=1, step_min=1)\n",
    "\n",
    "hfov_x = 15\n",
    "hfov_y = 10\n"
   ]
  },
  {
   "cell_type": "code",
   "execution_count": null,
   "metadata": {},
   "outputs": [],
   "source": [
    "# https://github.com/skyfielders/python-skyfield/issues/492\n",
    "# https://github.com/skyfielders/python-skyfield/issues/557\n",
    "\n",
    "# lvlh issues"
   ]
  },
  {
   "cell_type": "code",
   "execution_count": null,
   "metadata": {},
   "outputs": [],
   "source": [
    "inst = gen_instrument(name=\"tirs\", fl=178, pitch=0.025, h_pix=1850, v_pix=1800, mm=True)\n",
    "\n",
    "hfov_x = inst[\"hfov_deg\"]/2\n",
    "hfov_y = inst[\"vfov_deg\"]/2\n",
    "\n",
    "cs_dict = {\"c1\": {\"X\" : -hfov_x, \"Y\": hfov_y}, \n",
    "    \"c2\": {\"X\" : hfov_x, \"Y\": hfov_y},\n",
    "    \"c3\": {\"X\" : hfov_x, \"Y\": -hfov_y},\n",
    "    \"c4\": {\"X\" : -hfov_x, \"Y\": -hfov_y}\n",
    "}\n",
    "\n",
    "cs_lla_dict = {\"c1\": {\"lat\" : None, \"lon\": None}, \n",
    "    \"c2\": {\"lat\" : None, \"lon\": None},\n",
    "    \"c3\": {\"lat\" : None, \"lon\": None},\n",
    "    \"c4\": {\"lat\" : None, \"lon\": None}\n",
    "}"
   ]
  },
  {
   "cell_type": "code",
   "execution_count": null,
   "metadata": {},
   "outputs": [],
   "source": [
    "polys = []\n",
    "\n",
    "for time in times:\n",
    "\n",
    "    SSP_lat, SSP_lon, SSP_d, lvlh, vec = get_los2(sat, time)\n",
    "    xyz_rates = sat.at(time).frame_xyz_and_velocity(itrs)\n",
    "    xyz_dist = xyz_rates[0]\n",
    "\n",
    "    for c in cs_dict:\n",
    "        # Generate X anx Y rotation vectors\n",
    "        rot_X_deg = cs_dict[c][\"X\"]\n",
    "        rot_X_rad = np.radians(rot_X_deg)\n",
    "        rot_X_ax = lvlh[\"X\"]\n",
    "\n",
    "        rot_Y_deg = cs_dict[c][\"Y\"]\n",
    "        rot_Y_rad = np.radians(rot_Y_deg)\n",
    "        rot_Y_ax = lvlh[\"Y\"]\n",
    "\n",
    "        # Rotate about X\n",
    "        rot_X_vec = rot_X_rad * rot_X_ax\n",
    "        rot_X = R.from_rotvec(rot_X_vec)\n",
    "        los_X = rot_X.apply(vec)\n",
    "\n",
    "        # Rotate about Y\n",
    "        rot_Y_vec = rot_Y_rad * rot_Y_ax\n",
    "        rot_Y = R.from_rotvec(rot_Y_vec)\n",
    "        los_XY = rot_Y.apply(los_X)\n",
    "\n",
    "        los_xyz = los_to_earth(xyz_dist.km, los_XY)\n",
    "        los = Distance(km=los_xyz)\n",
    "        los_itrs = ITRSPosition(los)\n",
    "        los_itrs.at(time).frame_xyz(itrs).km\n",
    "\n",
    "        los_lat, los_lon = wgs84.latlon_of(los_itrs.at(time))\n",
    "        cs_lla_dict[c][\"lat\"] = los_lat.degrees\n",
    "        cs_lla_dict[c][\"lon\"] = los_lon.degrees\n",
    "\n",
    "    polys.append(Polygon([(cs_lla_dict[\"c1\"][\"lon\"], cs_lla_dict[\"c1\"][\"lat\"]), \n",
    "            (cs_lla_dict[\"c2\"][\"lon\"], cs_lla_dict[\"c2\"][\"lat\"]), \n",
    "            (cs_lla_dict[\"c3\"][\"lon\"], cs_lla_dict[\"c3\"][\"lat\"]),\n",
    "            (cs_lla_dict[\"c4\"][\"lon\"], cs_lla_dict[\"c4\"][\"lat\"]),\n",
    "            (cs_lla_dict[\"c1\"][\"lon\"], cs_lla_dict[\"c1\"][\"lat\"])]\n",
    "            # (gdf.loc[n].bound1_lon, gdf.loc[n].bound1_lat)\n",
    "            ))\n",
    "        "
   ]
  },
  {
   "cell_type": "code",
   "execution_count": null,
   "metadata": {},
   "outputs": [],
   "source": [
    "cs_lla_dict"
   ]
  },
  {
   "cell_type": "code",
   "execution_count": null,
   "metadata": {},
   "outputs": [],
   "source": [
    "poly_df = gpd.GeoDataFrame(\n",
    "        data=polys, \n",
    "        columns=['geometry'], \n",
    "        crs=\"EPSG:4326\"\n",
    "        )"
   ]
  },
  {
   "cell_type": "code",
   "execution_count": null,
   "metadata": {},
   "outputs": [],
   "source": [
    "poly_plot = poly_df.geometry.to_crs(\"ESRI:54009\")\n",
    "poly_plot = poly_plot[poly_plot.area < poly_plot.area.quantile(.96)]\n",
    "poly_plot.explore()"
   ]
  },
  {
   "cell_type": "code",
   "execution_count": null,
   "metadata": {},
   "outputs": [],
   "source": [
    "poly_df.to_crs(\"ESRI:54009\").to_parquet(\"v2_test.parquet\")"
   ]
  },
  {
   "cell_type": "code",
   "execution_count": null,
   "metadata": {},
   "outputs": [],
   "source": []
  }
 ],
 "metadata": {
  "interpreter": {
   "hash": "6732e973076e7115f37404b6c02070351da73f1ea73132f1ec72b9bbd3b6f861"
  },
  "kernelspec": {
   "display_name": "Python 3.9.4 64-bit ('skyfield': virtualenv)",
   "language": "python",
   "name": "python3"
  },
  "language_info": {
   "codemirror_mode": {
    "name": "ipython",
    "version": 3
   },
   "file_extension": ".py",
   "mimetype": "text/x-python",
   "name": "python",
   "nbconvert_exporter": "python",
   "pygments_lexer": "ipython3",
   "version": "3.9.4"
  },
  "orig_nbformat": 4
 },
 "nbformat": 4,
 "nbformat_minor": 2
}
