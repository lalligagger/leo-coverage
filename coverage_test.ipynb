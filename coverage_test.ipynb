{
 "cells": [
  {
   "cell_type": "code",
   "execution_count": null,
   "metadata": {},
   "outputs": [],
   "source": [
    "import numpy as np\n",
    "from coverage import *\n",
    "\n",
    "import geopandas as gpd\n",
    "import pandas as pd\n",
    "import branca\n",
    "import folium\n"
   ]
  },
  {
   "cell_type": "code",
   "execution_count": null,
   "metadata": {},
   "outputs": [],
   "source": [
    "num_days = 8\n",
    "tles = gen_sats(sat_nos=[39084,49260])\n",
    "times = gen_times(start_yr=2021, start_mo=12, start_day=10, days=num_days, step_min=1)\n",
    "\n",
    "# Generate the instrument from basic specs\n",
    "# inst = gen_instrument(name=\"tirs\", fl=178, pitch=0.025, h_pix=1850, v_pix=1800, mm=True) # Actual TIRS\n",
    "inst = gen_instrument(name=\"tirs\", fl=178, pitch=0.025, h_pix=1850, v_pix=4000, mm=True) # Adjusted TIRS for 1 min FOVs\n",
    "\n",
    "# Select cell size for coverage map\n",
    "xcell_size = ycell_size = 0.5\n",
    "\n",
    "## Select AOI from gpd naturalearth dataset (filter by .name for country, .continent for continent)\n",
    "world = gpd.read_file(gpd.datasets.get_path('naturalearth_lowres'))\n",
    "\n",
    "# aoi =  world[world.name == \"Brazil\"].geometry\n",
    "aoi =  world[world.continent == \"South America\"].geometry\n",
    "# aoi = world[world.name == \"United States of America\"]#.geometry"
   ]
  },
  {
   "cell_type": "code",
   "execution_count": null,
   "metadata": {},
   "outputs": [],
   "source": [
    "# Batch FOV generation over N satellites\n",
    "\n",
    "gdfs = []\n",
    "for tle in tles:\n",
    "    sat = tle[0]\n",
    "    poly_df = forecast_fovs(sat, times, inst)\n",
    "    gdfs.append(poly_df)\n",
    "\n",
    "poly_df = gpd.GeoDataFrame(pd.concat(gdfs, ignore_index=True), crs=\"epsg:4326\")\n",
    "poly_df[\"lonspan\"] = poly_df.bounds['maxx'] - poly_df.bounds['minx']\n",
    "\n",
    "# Create cmap for unique satellites and create color column\n",
    "sat_ids = list(poly_df[\"id\"].unique()).sort()\n",
    "cmap = branca.colormap.StepColormap(['red', 'blue'], sat_ids, vmin=139084, vmax = 149260)\n",
    "poly_df['color'] = poly_df['id'].apply(cmap)"
   ]
  },
  {
   "cell_type": "code",
   "execution_count": null,
   "metadata": {},
   "outputs": [],
   "source": [
    "# Filter shapes crossing anti-meridian\n",
    "plot_df = poly_df[poly_df[\"lonspan\"] < 20].copy()\n",
    "\n",
    "# Filter by AOI\n",
    "xmin, ymin, xmax, ymax= aoi.total_bounds\n",
    "plot_df = plot_df.cx[xmin: xmax, ymin: ymax]\n",
    "\n",
    "m = plot_df.explore(color=\"color\", tooltip=[\"satellite\", \"time\"])\n",
    "m#.save(\"fov_output.html\")"
   ]
  },
  {
   "cell_type": "code",
   "execution_count": null,
   "metadata": {},
   "outputs": [],
   "source": [
    "## Coverage data analysis for single satellite/ batch of satellites\n",
    "# 1) Create a grid of equally spaced points\n",
    "\n",
    "grid, grid_shape = create_grid(aoi.total_bounds, xcell_size, ycell_size)\n",
    "\n",
    "\n",
    "# 2) Add \"n_visits\" column to grid using sjoin/ dissolve\n",
    "shapes = gpd.GeoDataFrame(plot_df.geometry)\n",
    "merged = gpd.sjoin(shapes, grid, how='left', predicate=\"intersects\")\n",
    "merged['n_visits']=0 # this will be replaced with nan or positive int where n_visits > 0\n",
    "dissolve = merged.dissolve(by=\"index_right\", aggfunc=\"count\") # no difference in count vs. sum here?\n",
    "grid.loc[dissolve.index, 'n_visits'] = dissolve.n_visits.values\n",
    "\n",
    "grid.n_visits.describe()\n"
   ]
  },
  {
   "cell_type": "code",
   "execution_count": null,
   "metadata": {},
   "outputs": [],
   "source": [
    "# Plotting\n",
    "# Form 2D array of n_visits based on grid shape\n",
    "img = np.rot90(grid.n_visits.values.reshape(grid_shape))\n",
    "\n",
    "# Create colormap and apply to img\n",
    "colormap = branca.colormap.step.viridis.scale(1, grid.n_visits.max())\n",
    "# colormap = branca.colormap.step.viridis.scale(1, 2)\n",
    "\n",
    "def colorfunc(x):\n",
    "    if np.isnan(x):\n",
    "        return (0,0,0,0)\n",
    "    else:\n",
    "        return colormap.rgba_bytes_tuple(x)\n",
    "\n",
    "# Apply cmap to img array and rearrange for RGBA\n",
    "cmap = np.vectorize(colorfunc)\n",
    "rgba_img = np.array(cmap(img))\n",
    "rgba_img = np.moveaxis(rgba_img, 0, 2)\n",
    "\n",
    "# Update image corner bounds based on cell size\n",
    "xmin, ymin, xmax, ymax= grid.total_bounds\n",
    "xmin = xmin - xcell_size/2\n",
    "ymin = ymin - ycell_size/2\n",
    "xmax = xmax + xcell_size/2\n",
    "ymax = ymax + ycell_size/2\n",
    "\n",
    "m = folium.Map()\n",
    "m.fit_bounds([[ymin, xmin], [ymax, xmax]])\n",
    "m.add_child(folium.raster_layers.ImageOverlay(rgba_img, opacity=.4, mercator_project=True,# crs=\"EPSG:4326\",\n",
    "                                 bounds = [[ymin,xmin],[ymax,xmax]]))\n",
    "colormap.add_to(m)\n",
    "m#.save(\"coverage_output.html\")\n"
   ]
  },
  {
   "cell_type": "code",
   "execution_count": null,
   "metadata": {},
   "outputs": [],
   "source": []
  }
 ],
 "metadata": {
  "interpreter": {
   "hash": "6732e973076e7115f37404b6c02070351da73f1ea73132f1ec72b9bbd3b6f861"
  },
  "kernelspec": {
   "display_name": "Python 3.9.4 64-bit ('skyfield': virtualenv)",
   "language": "python",
   "name": "python3"
  },
  "language_info": {
   "codemirror_mode": {
    "name": "ipython",
    "version": 3
   },
   "file_extension": ".py",
   "mimetype": "text/x-python",
   "name": "python",
   "nbconvert_exporter": "python",
   "pygments_lexer": "ipython3",
   "version": "3.9.4"
  },
  "orig_nbformat": 4
 },
 "nbformat": 4,
 "nbformat_minor": 2
}
