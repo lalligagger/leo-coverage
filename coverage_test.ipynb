{
 "cells": [
  {
   "cell_type": "code",
   "execution_count": null,
   "metadata": {},
   "outputs": [],
   "source": [
    "import numpy as np\n",
    "from skyfield.framelib import itrs\n",
    "from coverage import *\n",
    "\n",
    "import geopandas as gpd\n",
    "import pandas as pd\n",
    "import shapely\n",
    "from shapely.geometry import Polygon\n",
    "import branca\n",
    "import folium\n"
   ]
  },
  {
   "cell_type": "code",
   "execution_count": null,
   "metadata": {},
   "outputs": [],
   "source": [
    "num_days = 3\n",
    "tles = gen_sats(sat_nos=[39084,49260])\n",
    "\n",
    "times = gen_times(start_yr=2021, start_mo=12, start_day=10, days=num_days, step_min=1)\n",
    "\n",
    "# Generate the instrument from basic specs\n",
    "# inst = gen_instrument(name=\"tirs\", fl=178, pitch=0.025, h_pix=1850, v_pix=1800, mm=True)\n",
    "inst = gen_instrument(name=\"tirs\", fl=178, pitch=0.025, h_pix=1850, v_pix=4000, mm=True)"
   ]
  },
  {
   "cell_type": "code",
   "execution_count": null,
   "metadata": {},
   "outputs": [],
   "source": [
    "# %%timeit\n",
    "\n",
    "# get_inst_fov(tles[0][0], times[0], inst)"
   ]
  },
  {
   "cell_type": "code",
   "execution_count": null,
   "metadata": {},
   "outputs": [],
   "source": [
    "gdfs = []\n",
    "for tle in tles:\n",
    "    sat = tle[0]\n",
    "\n",
    "    def gen_fov_poly(time):\n",
    "        # Get the ITRS position of the satellite as origin of LVLH frame.\n",
    "        xyz_dist_rates = sat.at(time).frame_xyz_and_velocity(itrs)\n",
    "        # xyz_dist = xyz_dist_rates[0]\n",
    "        z_rate = xyz_dist_rates[1]\n",
    "        \n",
    "        # Descending only filter:\n",
    "        if z_rate.km_per_s[2] < 0:\n",
    "            cs_lla_dict = get_inst_fov(sat, time, inst)\n",
    "\n",
    "            # Add lat, lon offset for each corner of FOV\n",
    "            return Polygon([(cs_lla_dict[\"c1\"][\"lon\"], cs_lla_dict[\"c1\"][\"lat\"]), \n",
    "                    (cs_lla_dict[\"c2\"][\"lon\"], cs_lla_dict[\"c2\"][\"lat\"]), \n",
    "                    (cs_lla_dict[\"c3\"][\"lon\"], cs_lla_dict[\"c3\"][\"lat\"]),\n",
    "                    (cs_lla_dict[\"c4\"][\"lon\"], cs_lla_dict[\"c4\"][\"lat\"]),\n",
    "                    (cs_lla_dict[\"c1\"][\"lon\"], cs_lla_dict[\"c1\"][\"lat\"])]\n",
    "                    )\n",
    "\n",
    "    vfunc = np.vectorize(gen_fov_poly)\n",
    "    polys = vfunc(times)\n",
    "\n",
    "    poly_df = gpd.GeoDataFrame(\n",
    "            data=polys, \n",
    "            columns=['geometry'], \n",
    "            crs=\"EPSG:4326\"\n",
    "            )\n",
    "    poly_df[\"satellite\"] = sat.name\n",
    "    poly_df[\"id\"] = np.abs(sat.target)\n",
    "    poly_df[\"time\"] = times.utc_strftime()\n",
    "\n",
    "    gdfs.append(poly_df)\n",
    "\n",
    "poly_df = gpd.GeoDataFrame(pd.concat(gdfs, ignore_index=True), crs=\"epsg:4326\")\n",
    "poly_df[\"lonspan\"] = poly_df.bounds['maxx'] - poly_df.bounds['minx']\n",
    "\n",
    "# Create cmap for unique satellites and create color column\n",
    "sat_ids = list(poly_df[\"id\"].unique()).sort()\n",
    "cmap = branca.colormap.StepColormap(['red', 'blue'], sat_ids, vmin=139084, vmax = 149260)\n",
    "poly_df['color'] = poly_df['id'].apply(cmap)\n"
   ]
  },
  {
   "cell_type": "code",
   "execution_count": null,
   "metadata": {},
   "outputs": [],
   "source": [
    "## Select AOI from gpd naturalearth dataset (filter by .name for country, .continent for continent)\n",
    "world = gpd.read_file(gpd.datasets.get_path('naturalearth_lowres'))\n",
    "\n",
    "# aoi =  world[world.name == \"Brazil\"].geometry\n",
    "# aoi =  world[world.continent == \"Africa\"].geometry\n",
    "aoi = world[world.name == \"United States of America\"].geometry\n",
    "\n",
    "# Filter shapes crossing anti-meridian\n",
    "plot_df = poly_df[poly_df[\"lonspan\"] < 20].copy()\n",
    "\n",
    "# Filter by AOI\n",
    "xmin, ymin, xmax, ymax= aoi.total_bounds\n",
    "plot_df = plot_df.cx[xmin: xmax, ymin: ymax]"
   ]
  },
  {
   "cell_type": "code",
   "execution_count": null,
   "metadata": {},
   "outputs": [],
   "source": [
    "if num_days <= 16:\n",
    "    m = plot_df.explore(color=\"color\", tooltip=[\"satellite\", \"time\"])\n",
    "    display(m)\n",
    "    #m.save(\"fov_output.html\")"
   ]
  },
  {
   "cell_type": "code",
   "execution_count": null,
   "metadata": {},
   "outputs": [],
   "source": [
    "## Coverage data analysis\n",
    "# 1) Create grid of points with regular spacing in degrees\n",
    "xcell_size = ycell_size = 0.3\n",
    "# projection of the grid\n",
    "crs = 'EPSG:4326'\n",
    "\n",
    "xcells = np.arange(xmin, xmax+xcell_size, xcell_size)\n",
    "ycells = np.arange(ymin, ymax+ycell_size, ycell_size)\n",
    "\n",
    "# create the grid points in a loop\n",
    "grid_points = []\n",
    "for x0 in xcells:\n",
    "    for y0 in ycells:\n",
    "        grid_points.append(shapely.geometry.Point(x0, y0))\n",
    "\n",
    "grid = gpd.GeoDataFrame(grid_points, columns=['geometry'], \n",
    "                                 crs=crs)\n",
    "\n",
    "\n",
    "# 2) Add \"n_visits\" column to grid using sjoin/ dissolve\n",
    "shapes = gpd.GeoDataFrame(plot_df.geometry)\n",
    "merged = gpd.sjoin(shapes, grid, how='left', predicate=\"intersects\")\n",
    "merged['n_visits']=0 # this will be replaced with nan or positive int where n_visits > 0\n",
    "dissolve = merged.dissolve(by=\"index_right\", aggfunc=\"count\") # no difference in count vs. sum here?\n",
    "grid.loc[dissolve.index, 'n_visits'] = dissolve.n_visits.values"
   ]
  },
  {
   "cell_type": "code",
   "execution_count": null,
   "metadata": {},
   "outputs": [],
   "source": [
    "grid.n_visits.describe()"
   ]
  },
  {
   "cell_type": "code",
   "execution_count": null,
   "metadata": {},
   "outputs": [],
   "source": [
    "# Form 2D array of n_visits based on grid shape\n",
    "img = np.rot90(grid.n_visits.values.reshape(len(xcells),len(ycells)))\n",
    "\n",
    "# Create colormap and apply to img\n",
    "colormap = branca.colormap.step.viridis.scale(1, grid.n_visits.max())\n",
    "\n",
    "def colorfunc(x):\n",
    "    if np.isnan(x):\n",
    "        return (0,0,0,0)\n",
    "    else:\n",
    "        return colormap.rgba_bytes_tuple(x)\n",
    "\n",
    "# Apply cmap to img array and rearrange for RGBA\n",
    "cmap = np.vectorize(colorfunc)\n",
    "rgba_img = np.array(cmap(img))\n",
    "rgba_img = np.moveaxis(rgba_img, 0, 2)\n",
    "\n",
    "# Update image corner bounds based on cell size\n",
    "xmin, ymin, xmax, ymax= grid.total_bounds\n",
    "xmin = xmin - xcell_size/2\n",
    "ymin = ymin - ycell_size/2\n",
    "xmax = xmax + xcell_size/2\n",
    "ymax = ymax + ycell_size/2\n"
   ]
  },
  {
   "cell_type": "code",
   "execution_count": null,
   "metadata": {},
   "outputs": [],
   "source": [
    "m = folium.Map()\n",
    "m.fit_bounds([[ymin, xmin], [ymax, xmax]])\n",
    "m.add_child(folium.raster_layers.ImageOverlay(rgba_img, opacity=.6, mercator_project=True,# crs=\"EPSG:4326\",\n",
    "                                 bounds = [[ymin,xmin],[ymax,xmax]]))\n",
    "colormap.add_to(m)\n",
    "m#.save(\"coverage_output.html\")"
   ]
  },
  {
   "cell_type": "code",
   "execution_count": null,
   "metadata": {},
   "outputs": [],
   "source": []
  }
 ],
 "metadata": {
  "interpreter": {
   "hash": "6732e973076e7115f37404b6c02070351da73f1ea73132f1ec72b9bbd3b6f861"
  },
  "kernelspec": {
   "display_name": "Python 3.9.4 64-bit ('skyfield': virtualenv)",
   "language": "python",
   "name": "python3"
  },
  "language_info": {
   "codemirror_mode": {
    "name": "ipython",
    "version": 3
   },
   "file_extension": ".py",
   "mimetype": "text/x-python",
   "name": "python",
   "nbconvert_exporter": "python",
   "pygments_lexer": "ipython3",
   "version": "3.9.4"
  },
  "orig_nbformat": 4
 },
 "nbformat": 4,
 "nbformat_minor": 2
}
