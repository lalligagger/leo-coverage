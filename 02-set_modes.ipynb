{
 "cells": [
  {
   "cell_type": "code",
   "execution_count": 1,
   "metadata": {},
   "outputs": [],
   "source": [
    "# ! python -m pip install stactools"
   ]
  },
  {
   "cell_type": "code",
   "execution_count": 2,
   "metadata": {},
   "outputs": [
    {
     "name": "stdout",
     "output_type": "stream",
     "text": [
      "mkdir: tmp: File exists\n"
     ]
    }
   ],
   "source": [
    "import numpy as np\n",
    "from coverage import gen_sats, gen_times, camera_model, forecast_fovs, calculate_revisits\n",
    "from datetime import datetime, timezone, timedelta\n",
    "import dataclasses\n",
    "from shapely.geometry import Point\n",
    "import geopandas as gpd\n",
    "import matplotlib.pyplot as plt\n",
    "import pandas as pd\n",
    "import branca\n",
    "import folium\n",
    "\n",
    "from skyfield.framelib import itrs\n",
    "from landsat import Instrument, Platform, Scene\n",
    "\n",
    "! mkdir tmp"
   ]
  },
  {
   "cell_type": "code",
   "execution_count": 3,
   "metadata": {},
   "outputs": [
    {
     "data": {
      "text/html": [
       "<pre style=\"white-space:pre;overflow-x:auto;line-height:normal;font-family:Menlo,'DejaVu Sans Mono',consolas,'Courier New',monospace\"><span style=\"color: #800080; text-decoration-color: #800080; font-weight: bold\">Satellite</span><span style=\"font-weight: bold\">(</span>s<span style=\"font-weight: bold\">)</span> Loaded from TLE:\n",
       "</pre>\n"
      ],
      "text/plain": [
       "\u001b[1;35mSatellite\u001b[0m\u001b[1m(\u001b[0ms\u001b[1m)\u001b[0m Loaded from TLE:\n"
      ]
     },
     "metadata": {},
     "output_type": "display_data"
    },
    {
     "data": {
      "text/html": [
       "<pre style=\"white-space:pre;overflow-x:auto;line-height:normal;font-family:Menlo,'DejaVu Sans Mono',consolas,'Courier New',monospace\"><span style=\"font-weight: bold\">[&lt;</span><span style=\"color: #ff00ff; text-decoration-color: #ff00ff; font-weight: bold\">EarthSatellite</span><span style=\"color: #000000; text-decoration-color: #000000\"> LANDSAT </span><span style=\"color: #008080; text-decoration-color: #008080; font-weight: bold\">8</span><span style=\"color: #000000; text-decoration-color: #000000\"> catalog #</span><span style=\"color: #008080; text-decoration-color: #008080; font-weight: bold\">39084</span><span style=\"color: #000000; text-decoration-color: #000000\"> epoch </span><span style=\"color: #008080; text-decoration-color: #008080; font-weight: bold\">2022</span><span style=\"color: #000000; text-decoration-color: #000000\">-</span><span style=\"color: #008080; text-decoration-color: #008080; font-weight: bold\">06</span><span style=\"color: #000000; text-decoration-color: #000000\">-</span><span style=\"color: #008080; text-decoration-color: #008080; font-weight: bold\">15</span><span style=\"color: #000000; text-decoration-color: #000000\"> </span><span style=\"color: #00ff00; text-decoration-color: #00ff00; font-weight: bold\">18:38:09</span><span style=\"color: #000000; text-decoration-color: #000000\"> UTC</span><span style=\"font-weight: bold\">&gt;]</span>\n",
       "</pre>\n"
      ],
      "text/plain": [
       "\u001b[1m[\u001b[0m\u001b[1m<\u001b[0m\u001b[1;95mEarthSatellite\u001b[0m\u001b[39m LANDSAT \u001b[0m\u001b[1;36m8\u001b[0m\u001b[39m catalog #\u001b[0m\u001b[1;36m39084\u001b[0m\u001b[39m epoch \u001b[0m\u001b[1;36m2022\u001b[0m\u001b[39m-\u001b[0m\u001b[1;36m06\u001b[0m\u001b[39m-\u001b[0m\u001b[1;36m15\u001b[0m\u001b[39m \u001b[0m\u001b[1;92m18:38:09\u001b[0m\u001b[39m UTC\u001b[0m\u001b[1m>\u001b[0m\u001b[1m]\u001b[0m\n"
      ]
     },
     "metadata": {},
     "output_type": "display_data"
    },
    {
     "data": {
      "text/html": [
       "<pre style=\"white-space:pre;overflow-x:auto;line-height:normal;font-family:Menlo,'DejaVu Sans Mono',consolas,'Courier New',monospace\"><span style=\"font-weight: bold\">[&lt;</span><span style=\"color: #ff00ff; text-decoration-color: #ff00ff; font-weight: bold\">EarthSatellite</span><span style=\"color: #000000; text-decoration-color: #000000\"> LANDSAT </span><span style=\"color: #008080; text-decoration-color: #008080; font-weight: bold\">9</span><span style=\"color: #000000; text-decoration-color: #000000\"> catalog #</span><span style=\"color: #008080; text-decoration-color: #008080; font-weight: bold\">49260</span><span style=\"color: #000000; text-decoration-color: #000000\"> epoch </span><span style=\"color: #008080; text-decoration-color: #008080; font-weight: bold\">2022</span><span style=\"color: #000000; text-decoration-color: #000000\">-</span><span style=\"color: #008080; text-decoration-color: #008080; font-weight: bold\">06</span><span style=\"color: #000000; text-decoration-color: #000000\">-</span><span style=\"color: #008080; text-decoration-color: #008080; font-weight: bold\">15</span><span style=\"color: #000000; text-decoration-color: #000000\"> </span><span style=\"color: #00ff00; text-decoration-color: #00ff00; font-weight: bold\">11:12:37</span><span style=\"color: #000000; text-decoration-color: #000000\"> UTC</span><span style=\"font-weight: bold\">&gt;]</span>\n",
       "</pre>\n"
      ],
      "text/plain": [
       "\u001b[1m[\u001b[0m\u001b[1m<\u001b[0m\u001b[1;95mEarthSatellite\u001b[0m\u001b[39m LANDSAT \u001b[0m\u001b[1;36m9\u001b[0m\u001b[39m catalog #\u001b[0m\u001b[1;36m49260\u001b[0m\u001b[39m epoch \u001b[0m\u001b[1;36m2022\u001b[0m\u001b[39m-\u001b[0m\u001b[1;36m06\u001b[0m\u001b[39m-\u001b[0m\u001b[1;36m15\u001b[0m\u001b[39m \u001b[0m\u001b[1;92m11:12:37\u001b[0m\u001b[39m UTC\u001b[0m\u001b[1m>\u001b[0m\u001b[1m]\u001b[0m\n"
      ]
     },
     "metadata": {},
     "output_type": "display_data"
    },
    {
     "data": {
      "text/html": [
       "<pre style=\"white-space:pre;overflow-x:auto;line-height:normal;font-family:Menlo,'DejaVu Sans Mono',consolas,'Courier New',monospace\">Propogation time: \n",
       " <span style=\"color: #008080; text-decoration-color: #008080; font-weight: bold\">2022</span>-<span style=\"color: #008080; text-decoration-color: #008080; font-weight: bold\">07</span>-<span style=\"color: #008080; text-decoration-color: #008080; font-weight: bold\">26</span> <span style=\"color: #00ff00; text-decoration-color: #00ff00; font-weight: bold\">00:00:00</span>+<span style=\"color: #00ff00; text-decoration-color: #00ff00; font-weight: bold\">00:00</span> \n",
       "to \n",
       " <span style=\"color: #008080; text-decoration-color: #008080; font-weight: bold\">2022</span>-<span style=\"color: #008080; text-decoration-color: #008080; font-weight: bold\">07</span>-<span style=\"color: #008080; text-decoration-color: #008080; font-weight: bold\">27</span> <span style=\"color: #00ff00; text-decoration-color: #00ff00; font-weight: bold\">23:59:48</span>+<span style=\"color: #00ff00; text-decoration-color: #00ff00; font-weight: bold\">00:00</span>\n",
       "</pre>\n"
      ],
      "text/plain": [
       "Propogation time: \n",
       " \u001b[1;36m2022\u001b[0m-\u001b[1;36m07\u001b[0m-\u001b[1;36m26\u001b[0m \u001b[1;92m00:00:00\u001b[0m+\u001b[1;92m00:00\u001b[0m \n",
       "to \n",
       " \u001b[1;36m2022\u001b[0m-\u001b[1;36m07\u001b[0m-\u001b[1;36m27\u001b[0m \u001b[1;92m23:59:48\u001b[0m+\u001b[1;92m00:00\u001b[0m\n"
      ]
     },
     "metadata": {},
     "output_type": "display_data"
    }
   ],
   "source": [
    "start_dt = datetime.fromisoformat(Scene.start_utc)\n",
    "num_days = 2\n",
    "\n",
    "tles = gen_sats(\n",
    "    # sat_nos=[Platform.norad_id] # How to best handle multiple platforms? (TLE vs. SPG4 model too)\n",
    "    # sat_nos=[39084]\n",
    "    sat_nos=[39084,49260]\n",
    ")\n",
    "\n",
    "inst = camera_model(\n",
    "    name=Instrument.name, \n",
    "    fl=Instrument.focal_length_mm, \n",
    "    pitch=Instrument.pitch_um*1e-3, \n",
    "    h_pix=Instrument.rows, \n",
    "    v_pix=Instrument.cols, \n",
    ")\n",
    "\n",
    "times = gen_times(\n",
    "    start_yr=start_dt.year,\n",
    "    start_mo=start_dt.month, \n",
    "    start_day=start_dt.day, \n",
    "    days=num_days, \n",
    "    step_min=Instrument.img_period)\n",
    "\n",
    "xcell_size = ycell_size = .1"
   ]
  },
  {
   "cell_type": "code",
   "execution_count": 4,
   "metadata": {},
   "outputs": [],
   "source": [
    "## Batch FOV generation over N satellites - TODO: build multiple sats into config/ main script\n",
    "gdfs = []\n",
    "for tle in tles:\n",
    "    sat = tle[0]\n",
    "\n",
    "    fov_df = forecast_fovs(sat, times, inst)\n",
    "\n",
    "    xyz_dist_rates = sat.at(times).frame_xyz_and_velocity(itrs)\n",
    "    fov_df['x_pos'], fov_df['y_pos'], fov_df['z_pos'] = xyz_dist_rates[0].km\n",
    "    fov_df['x_vel'], fov_df['y_vel'], fov_df['z_vel'] = xyz_dist_rates[1].km_per_s\n",
    "\n",
    "    gdfs.append(fov_df)\n",
    "fov_df = gpd.GeoDataFrame(pd.concat(gdfs, ignore_index=True), crs=\"EPSG:4326\")\n",
    "\n",
    "# fov_df.drop('datetime', axis=1).explore()"
   ]
  },
  {
   "cell_type": "code",
   "execution_count": 5,
   "metadata": {},
   "outputs": [
    {
     "data": {
      "text/html": [
       "<div>\n",
       "<style scoped>\n",
       "    .dataframe tbody tr th:only-of-type {\n",
       "        vertical-align: middle;\n",
       "    }\n",
       "\n",
       "    .dataframe tbody tr th {\n",
       "        vertical-align: top;\n",
       "    }\n",
       "\n",
       "    .dataframe thead th {\n",
       "        text-align: right;\n",
       "    }\n",
       "</style>\n",
       "<table border=\"1\" class=\"dataframe\">\n",
       "  <thead>\n",
       "    <tr style=\"text-align: right;\">\n",
       "      <th></th>\n",
       "      <th>datetime</th>\n",
       "      <th>satellite</th>\n",
       "      <th>id</th>\n",
       "      <th>time</th>\n",
       "      <th>geometry</th>\n",
       "      <th>x_pos</th>\n",
       "      <th>y_pos</th>\n",
       "      <th>z_pos</th>\n",
       "      <th>x_vel</th>\n",
       "      <th>y_vel</th>\n",
       "      <th>z_vel</th>\n",
       "      <th>frac_days</th>\n",
       "      <th>time_gap</th>\n",
       "    </tr>\n",
       "  </thead>\n",
       "  <tbody>\n",
       "    <tr>\n",
       "      <th>0</th>\n",
       "      <td>2022-07-26 00:00:00+00:00</td>\n",
       "      <td>LANDSAT 8</td>\n",
       "      <td>139084</td>\n",
       "      <td>2022-07-26 00:00:00 UTC</td>\n",
       "      <td>POLYGON ((48.69251 -82.41929, 51.23184 -80.795...</td>\n",
       "      <td>763.336641</td>\n",
       "      <td>749.121101</td>\n",
       "      <td>-7006.279929</td>\n",
       "      <td>6.705559</td>\n",
       "      <td>-3.480048</td>\n",
       "      <td>0.359449</td>\n",
       "      <td>1.000000</td>\n",
       "      <td>NaN</td>\n",
       "    </tr>\n",
       "    <tr>\n",
       "      <th>1</th>\n",
       "      <td>2022-07-26 00:00:22+00:00</td>\n",
       "      <td>LANDSAT 8</td>\n",
       "      <td>139084</td>\n",
       "      <td>2022-07-26 00:00:22 UTC</td>\n",
       "      <td>POLYGON ((39.37295 -81.98888, 43.31485 -80.435...</td>\n",
       "      <td>910.518091</td>\n",
       "      <td>672.129420</td>\n",
       "      <td>-6996.479164</td>\n",
       "      <td>6.673917</td>\n",
       "      <td>-3.518846</td>\n",
       "      <td>0.531486</td>\n",
       "      <td>1.000255</td>\n",
       "      <td>0.000255</td>\n",
       "    </tr>\n",
       "    <tr>\n",
       "      <th>2</th>\n",
       "      <td>2022-07-26 00:00:44+00:00</td>\n",
       "      <td>LANDSAT 8</td>\n",
       "      <td>139084</td>\n",
       "      <td>2022-07-26 00:00:44 UTC</td>\n",
       "      <td>POLYGON ((31.16828 -81.37681, 36.07937 -79.914...</td>\n",
       "      <td>1056.962644</td>\n",
       "      <td>594.306058</td>\n",
       "      <td>-6982.896512</td>\n",
       "      <td>6.638573</td>\n",
       "      <td>-3.555650</td>\n",
       "      <td>0.703240</td>\n",
       "      <td>1.000509</td>\n",
       "      <td>0.000255</td>\n",
       "    </tr>\n",
       "    <tr>\n",
       "      <th>3</th>\n",
       "      <td>2022-07-26 00:01:06+00:00</td>\n",
       "      <td>LANDSAT 8</td>\n",
       "      <td>139084</td>\n",
       "      <td>2022-07-26 00:01:06 UTC</td>\n",
       "      <td>POLYGON ((24.14460 -80.61851, 29.62490 -79.255...</td>\n",
       "      <td>1202.589108</td>\n",
       "      <td>515.695254</td>\n",
       "      <td>-6965.539185</td>\n",
       "      <td>6.599550</td>\n",
       "      <td>-3.590427</td>\n",
       "      <td>0.874621</td>\n",
       "      <td>1.000764</td>\n",
       "      <td>0.000255</td>\n",
       "    </tr>\n",
       "    <tr>\n",
       "      <th>4</th>\n",
       "      <td>2022-07-26 00:01:28+00:00</td>\n",
       "      <td>LANDSAT 8</td>\n",
       "      <td>139084</td>\n",
       "      <td>2022-07-26 00:01:28 UTC</td>\n",
       "      <td>POLYGON ((18.21617 -79.74632, 23.95641 -78.481...</td>\n",
       "      <td>1347.316865</td>\n",
       "      <td>436.341931</td>\n",
       "      <td>-6944.416412</td>\n",
       "      <td>6.556877</td>\n",
       "      <td>-3.623147</td>\n",
       "      <td>1.045537</td>\n",
       "      <td>1.001019</td>\n",
       "      <td>0.000255</td>\n",
       "    </tr>\n",
       "    <tr>\n",
       "      <th>...</th>\n",
       "      <td>...</td>\n",
       "      <td>...</td>\n",
       "      <td>...</td>\n",
       "      <td>...</td>\n",
       "      <td>...</td>\n",
       "      <td>...</td>\n",
       "      <td>...</td>\n",
       "      <td>...</td>\n",
       "      <td>...</td>\n",
       "      <td>...</td>\n",
       "      <td>...</td>\n",
       "      <td>...</td>\n",
       "      <td>...</td>\n",
       "    </tr>\n",
       "    <tr>\n",
       "      <th>15705</th>\n",
       "      <td>2022-07-27 23:58:20+00:00</td>\n",
       "      <td>LANDSAT 9</td>\n",
       "      <td>149260</td>\n",
       "      <td>2022-07-27 23:58:20 UTC</td>\n",
       "      <td>POLYGON ((163.56990 46.82996, 161.26742 47.245...</td>\n",
       "      <td>-4675.803447</td>\n",
       "      <td>1509.042909</td>\n",
       "      <td>5094.035562</td>\n",
       "      <td>-4.450427</td>\n",
       "      <td>3.438390</td>\n",
       "      <td>-5.091799</td>\n",
       "      <td>2.998843</td>\n",
       "      <td>0.000255</td>\n",
       "    </tr>\n",
       "    <tr>\n",
       "      <th>15706</th>\n",
       "      <td>2022-07-27 23:58:42+00:00</td>\n",
       "      <td>LANDSAT 9</td>\n",
       "      <td>149260</td>\n",
       "      <td>2022-07-27 23:58:42 UTC</td>\n",
       "      <td>POLYGON ((163.05234 45.52560, 160.80283 45.934...</td>\n",
       "      <td>-4772.319345</td>\n",
       "      <td>1584.428542</td>\n",
       "      <td>4980.639227</td>\n",
       "      <td>-4.323363</td>\n",
       "      <td>3.414464</td>\n",
       "      <td>-5.216483</td>\n",
       "      <td>2.999097</td>\n",
       "      <td>0.000255</td>\n",
       "    </tr>\n",
       "    <tr>\n",
       "      <th>15707</th>\n",
       "      <td>2022-07-27 23:59:04+00:00</td>\n",
       "      <td>LANDSAT 9</td>\n",
       "      <td>149260</td>\n",
       "      <td>2022-07-27 23:59:04 UTC</td>\n",
       "      <td>POLYGON ((162.55460 44.21930, 160.35475 44.622...</td>\n",
       "      <td>-4866.014778</td>\n",
       "      <td>1659.262932</td>\n",
       "      <td>4864.530861</td>\n",
       "      <td>-4.194034</td>\n",
       "      <td>3.388278</td>\n",
       "      <td>-5.338335</td>\n",
       "      <td>2.999352</td>\n",
       "      <td>0.000255</td>\n",
       "    </tr>\n",
       "    <tr>\n",
       "      <th>15708</th>\n",
       "      <td>2022-07-27 23:59:26+00:00</td>\n",
       "      <td>LANDSAT 9</td>\n",
       "      <td>149260</td>\n",
       "      <td>2022-07-27 23:59:26 UTC</td>\n",
       "      <td>POLYGON ((162.07499 42.91118, 159.92174 43.308...</td>\n",
       "      <td>-4956.840767</td>\n",
       "      <td>1733.496440</td>\n",
       "      <td>4745.773504</td>\n",
       "      <td>-4.062518</td>\n",
       "      <td>3.359840</td>\n",
       "      <td>-5.457289</td>\n",
       "      <td>2.999606</td>\n",
       "      <td>0.000255</td>\n",
       "    </tr>\n",
       "    <tr>\n",
       "      <th>15709</th>\n",
       "      <td>2022-07-27 23:59:48+00:00</td>\n",
       "      <td>LANDSAT 9</td>\n",
       "      <td>149260</td>\n",
       "      <td>2022-07-27 23:59:48 UTC</td>\n",
       "      <td>POLYGON ((161.61200 41.60137, 159.50249 41.994...</td>\n",
       "      <td>-5044.750039</td>\n",
       "      <td>1807.079592</td>\n",
       "      <td>4624.431647</td>\n",
       "      <td>-3.928892</td>\n",
       "      <td>3.329156</td>\n",
       "      <td>-5.573278</td>\n",
       "      <td>2.999861</td>\n",
       "      <td>0.000255</td>\n",
       "    </tr>\n",
       "  </tbody>\n",
       "</table>\n",
       "<p>15710 rows × 13 columns</p>\n",
       "</div>"
      ],
      "text/plain": [
       "                       datetime  satellite      id                     time  \\\n",
       "0     2022-07-26 00:00:00+00:00  LANDSAT 8  139084  2022-07-26 00:00:00 UTC   \n",
       "1     2022-07-26 00:00:22+00:00  LANDSAT 8  139084  2022-07-26 00:00:22 UTC   \n",
       "2     2022-07-26 00:00:44+00:00  LANDSAT 8  139084  2022-07-26 00:00:44 UTC   \n",
       "3     2022-07-26 00:01:06+00:00  LANDSAT 8  139084  2022-07-26 00:01:06 UTC   \n",
       "4     2022-07-26 00:01:28+00:00  LANDSAT 8  139084  2022-07-26 00:01:28 UTC   \n",
       "...                         ...        ...     ...                      ...   \n",
       "15705 2022-07-27 23:58:20+00:00  LANDSAT 9  149260  2022-07-27 23:58:20 UTC   \n",
       "15706 2022-07-27 23:58:42+00:00  LANDSAT 9  149260  2022-07-27 23:58:42 UTC   \n",
       "15707 2022-07-27 23:59:04+00:00  LANDSAT 9  149260  2022-07-27 23:59:04 UTC   \n",
       "15708 2022-07-27 23:59:26+00:00  LANDSAT 9  149260  2022-07-27 23:59:26 UTC   \n",
       "15709 2022-07-27 23:59:48+00:00  LANDSAT 9  149260  2022-07-27 23:59:48 UTC   \n",
       "\n",
       "                                                geometry        x_pos  \\\n",
       "0      POLYGON ((48.69251 -82.41929, 51.23184 -80.795...   763.336641   \n",
       "1      POLYGON ((39.37295 -81.98888, 43.31485 -80.435...   910.518091   \n",
       "2      POLYGON ((31.16828 -81.37681, 36.07937 -79.914...  1056.962644   \n",
       "3      POLYGON ((24.14460 -80.61851, 29.62490 -79.255...  1202.589108   \n",
       "4      POLYGON ((18.21617 -79.74632, 23.95641 -78.481...  1347.316865   \n",
       "...                                                  ...          ...   \n",
       "15705  POLYGON ((163.56990 46.82996, 161.26742 47.245... -4675.803447   \n",
       "15706  POLYGON ((163.05234 45.52560, 160.80283 45.934... -4772.319345   \n",
       "15707  POLYGON ((162.55460 44.21930, 160.35475 44.622... -4866.014778   \n",
       "15708  POLYGON ((162.07499 42.91118, 159.92174 43.308... -4956.840767   \n",
       "15709  POLYGON ((161.61200 41.60137, 159.50249 41.994... -5044.750039   \n",
       "\n",
       "             y_pos        z_pos     x_vel     y_vel     z_vel  frac_days  \\\n",
       "0       749.121101 -7006.279929  6.705559 -3.480048  0.359449   1.000000   \n",
       "1       672.129420 -6996.479164  6.673917 -3.518846  0.531486   1.000255   \n",
       "2       594.306058 -6982.896512  6.638573 -3.555650  0.703240   1.000509   \n",
       "3       515.695254 -6965.539185  6.599550 -3.590427  0.874621   1.000764   \n",
       "4       436.341931 -6944.416412  6.556877 -3.623147  1.045537   1.001019   \n",
       "...            ...          ...       ...       ...       ...        ...   \n",
       "15705  1509.042909  5094.035562 -4.450427  3.438390 -5.091799   2.998843   \n",
       "15706  1584.428542  4980.639227 -4.323363  3.414464 -5.216483   2.999097   \n",
       "15707  1659.262932  4864.530861 -4.194034  3.388278 -5.338335   2.999352   \n",
       "15708  1733.496440  4745.773504 -4.062518  3.359840 -5.457289   2.999606   \n",
       "15709  1807.079592  4624.431647 -3.928892  3.329156 -5.573278   2.999861   \n",
       "\n",
       "       time_gap  \n",
       "0           NaN  \n",
       "1      0.000255  \n",
       "2      0.000255  \n",
       "3      0.000255  \n",
       "4      0.000255  \n",
       "...         ...  \n",
       "15705  0.000255  \n",
       "15706  0.000255  \n",
       "15707  0.000255  \n",
       "15708  0.000255  \n",
       "15709  0.000255  \n",
       "\n",
       "[15710 rows x 13 columns]"
      ]
     },
     "execution_count": 5,
     "metadata": {},
     "output_type": "execute_result"
    }
   ],
   "source": [
    "# fov_df.time = pd.to_datetime(fov_df.time)\n",
    "fov_df[\"frac_days\"] = fov_df.datetime.dt.dayofweek + fov_df.datetime.dt.hour/24 + fov_df.datetime.dt.minute/(24*60) + fov_df.datetime.dt.second/(24*60*60)\n",
    "fov_df['time_gap'] = fov_df['frac_days'] - fov_df['frac_days'].shift(1)\n",
    "# fov_df = fov_df.drop('datetime', axis=1)\n",
    "fov_df"
   ]
  },
  {
   "cell_type": "code",
   "execution_count": 6,
   "metadata": {},
   "outputs": [],
   "source": [
    "# %%timeit\n",
    "# get_inst_fov(sat, times[0], inst)"
   ]
  },
  {
   "cell_type": "code",
   "execution_count": 7,
   "metadata": {},
   "outputs": [
    {
     "name": "stderr",
     "output_type": "stream",
     "text": [
      "/Users/kevinlalli/miniconda3/envs/coverage/lib/python3.8/site-packages/geopandas/geodataframe.py:1351: SettingWithCopyWarning: \n",
      "A value is trying to be set on a copy of a slice from a DataFrame.\n",
      "Try using .loc[row_indexer,col_indexer] = value instead\n",
      "\n",
      "See the caveats in the documentation: https://pandas.pydata.org/pandas-docs/stable/user_guide/indexing.html#returning-a-view-versus-a-copy\n",
      "  super().__setitem__(key, value)\n"
     ]
    }
   ],
   "source": [
    "# fov_df.loc[fov_df.z_vel < 0]['asc_dsc'] = 'dsc'\n",
    "conditions = [\n",
    "    fov_df['z_vel'].lt(0),\n",
    "    fov_df['z_vel'].gt(0)\n",
    "]\n",
    "\n",
    "choices = ['dsc','asc']\n",
    "fov_df['asc_dsc'] = np.select(conditions, choices, default='undefined')\n",
    "\n",
    "my_column_changes = fov_df[\"asc_dsc\"].shift() != fov_df[\"asc_dsc\"]\n",
    "change = fov_df[my_column_changes]#[:100]\n",
    "change['time_gap'] = change['frac_days'].shift(-1) - change['frac_days']\n",
    "\n",
    "# plot_df = change[change.satellite==\"LANDSAT 9\"][1:]\n",
    "# fig, ax = plt.subplots(1, figsize=(16,6))\n",
    "# ax.barh(plot_df['asc_dsc'], plot_df.time_gap, left=plot_df.frac_days) #, color=df.color)"
   ]
  },
  {
   "cell_type": "code",
   "execution_count": 8,
   "metadata": {},
   "outputs": [],
   "source": [
    "## Drop ascending pass FOVs\n",
    "fov_df.loc[fov_df.asc_dsc==\"asc\", \"geometry\"] = None\n",
    "\n",
    "## Select AOI from gpd naturalearth dataset (filter by .name for country, .continent for continent)\n",
    "world = gpd.read_file(gpd.datasets.get_path('naturalearth_lowres'))\n",
    "world = world[world.continent != \"Antarctica\"]\n",
    "# world = world[world.continent != \"Seven seas (open ocean)\"]\n",
    "\n",
    "## Drop any FOVs not over land area\n",
    "join = fov_df.sjoin(world, how=\"left\").dropna()\n",
    "fov_df.loc[join.index, 'mode'] = \"SCIENCE\"\n",
    "fov_df.loc[~fov_df.index.isin(join.index), 'mode'] = \"STANDBY\"\n",
    "fov_df.loc[fov_df['mode']==\"STANDBY\", \"geometry\"] = None"
   ]
  },
  {
   "cell_type": "code",
   "execution_count": 9,
   "metadata": {},
   "outputs": [
    {
     "name": "stderr",
     "output_type": "stream",
     "text": [
      "/Users/kevinlalli/miniconda3/envs/coverage/lib/python3.8/site-packages/geopandas/geodataframe.py:1351: SettingWithCopyWarning: \n",
      "A value is trying to be set on a copy of a slice from a DataFrame.\n",
      "Try using .loc[row_indexer,col_indexer] = value instead\n",
      "\n",
      "See the caveats in the documentation: https://pandas.pydata.org/pandas-docs/stable/user_guide/indexing.html#returning-a-view-versus-a-copy\n",
      "  super().__setitem__(key, value)\n"
     ]
    },
    {
     "data": {
      "text/plain": [
       "<BarContainer object of 161 artists>"
      ]
     },
     "execution_count": 9,
     "metadata": {},
     "output_type": "execute_result"
    },
    {
     "data": {
      "image/png": "[encoded data removed]",
      "text/plain": [
       "<Figure size 1152x144 with 1 Axes>"
      ]
     },
     "metadata": {
      "needs_background": "light"
     },
     "output_type": "display_data"
    }
   ],
   "source": [
    "my_column_changes = fov_df[\"mode\"].shift() != fov_df[\"mode\"]\n",
    "\n",
    "change = fov_df[my_column_changes]#[:100]\n",
    "\n",
    "change['time_gap'] = change['frac_days'].shift(-1) - change['frac_days']\n",
    "change = change[change['time_gap'] > 0]\n",
    "change = change[change.satellite == \"LANDSAT 9\"]\n",
    "\n",
    "fig, ax = plt.subplots(1, figsize=(16,2))\n",
    "ax.barh(change['mode'], change.time_gap, left=change.frac_days) #, color=df.color)"
   ]
  },
  {
   "cell_type": "code",
   "execution_count": 10,
   "metadata": {},
   "outputs": [
    {
     "data": {
      "text/plain": [
       "<AxesSubplot:ylabel='Frequency'>"
      ]
     },
     "execution_count": 10,
     "metadata": {},
     "output_type": "execute_result"
    },
    {
     "data": {
      "image/png": "[encoded data removed]",
      "text/plain": [
       "<Figure size 432x288 with 1 Axes>"
      ]
     },
     "metadata": {
      "needs_background": "light"
     },
     "output_type": "display_data"
    }
   ],
   "source": [
    "((change[change[\"mode\"] == \"SCIENCE\"]).time_gap*24*60).plot.hist(bins=30)"
   ]
  },
  {
   "cell_type": "code",
   "execution_count": 11,
   "metadata": {},
   "outputs": [
    {
     "data": {
      "text/plain": [
       "0.1629213483146064"
      ]
     },
     "execution_count": 11,
     "metadata": {},
     "output_type": "execute_result"
    }
   ],
   "source": [
    "change[change[\"mode\"] == \"SCIENCE\"].time_gap.sum()/(change[change[\"mode\"] == \"STANDBY\"].time_gap.sum() + change[change[\"mode\"] == \"SCIENCE\"].time_gap.sum())"
   ]
  },
  {
   "cell_type": "code",
   "execution_count": 12,
   "metadata": {},
   "outputs": [],
   "source": [
    "def zero_crossing(data):\n",
    "    return np.where(np.diff(np.sign(np.array(data))))[0]\n",
    "\n",
    "def crossings_nonzero_pos2neg(data):\n",
    "    pos = data > 0\n",
    "    return (pos[:-1] & ~pos[1:]).nonzero()[0]\n",
    "\n",
    "single_sat = fov_df[fov_df.satellite==\"LANDSAT 8\"][1:-1].reset_index(drop=True)\n",
    "\n",
    "data = single_sat['z_pos'].values\n",
    "crossings = crossings_nonzero_pos2neg(data)\n",
    "single_sat.loc[crossings]\n",
    "single_sat['orbit'] = 1\n",
    "\n",
    "for crossing in crossings:\n",
    "    single_sat.loc[crossing:, 'orbit'] += 1"
   ]
  },
  {
   "cell_type": "code",
   "execution_count": 13,
   "metadata": {},
   "outputs": [
    {
     "data": {
      "text/plain": [
       "<matplotlib.collections.LineCollection at 0x7f8fe4bde5b0>"
      ]
     },
     "execution_count": 13,
     "metadata": {},
     "output_type": "execute_result"
    },
    {
     "data": {
      "image/png": "[encoded data removed]",
      "text/plain": [
       "<Figure size 1440x576 with 2 Axes>"
      ]
     },
     "metadata": {
      "needs_background": "light"
     },
     "output_type": "display_data"
    }
   ],
   "source": [
    "ax = single_sat.plot.line(y=['z_pos', 'z_vel'], xlim=[1000,3000], figsize=(20,8), subplots=False, secondary_y=['z_vel'])\n",
    "ax.vlines(single_sat.loc[crossings].index, ymin=-1500, ymax=1500, color=['black'])"
   ]
  },
  {
   "cell_type": "code",
   "execution_count": 14,
   "metadata": {},
   "outputs": [
    {
     "name": "stdout",
     "output_type": "stream",
     "text": [
      "15.363333333333362\n"
     ]
    },
    {
     "data": {
      "image/png": "[encoded data removed]",
      "text/plain": [
       "<Figure size 432x288 with 1 Axes>"
      ]
     },
     "metadata": {
      "needs_background": "light"
     },
     "output_type": "display_data"
    }
   ],
   "source": [
    "(single_sat[single_sat[\"mode\"] == \"SCIENCE\"].groupby('orbit').time_gap.sum()*24*60).plot.hist(bins=10)\n",
    "\n",
    "print((single_sat[single_sat[\"mode\"] == \"SCIENCE\"].groupby('orbit').time_gap.sum()*24*60).mean())"
   ]
  },
  {
   "cell_type": "code",
   "execution_count": 15,
   "metadata": {},
   "outputs": [],
   "source": [
    "single_sat['timedelta'] = single_sat.datetime.diff(1).shift(-1)\n",
    "\n",
    "by_orbit = pd.DataFrame(\n",
    "    {\n",
    "    \"SCIENCE\": single_sat[single_sat['mode']==\"SCIENCE\"].groupby('orbit').timedelta.sum(),\n",
    "    \"STANDBY\": single_sat[single_sat['mode']==\"STANDBY\"].groupby('orbit').timedelta.sum()\n",
    "    }\n",
    ")\n",
    "\n",
    "by_orbit[\"SCIENCE_min\"] = by_orbit.SCIENCE.dt.total_seconds()/60\n",
    "by_orbit[\"STANDBY_min\"] = by_orbit.STANDBY.dt.total_seconds()/60\n",
    "\n",
    "by_orbit[\"DATA_LWIR_HS\"] = by_orbit.SCIENCE.dt.total_seconds()*0.201\n",
    "by_orbit[\"DATA_LWIR_HR\"] = by_orbit.SCIENCE.dt.total_seconds()*0.60"
   ]
  },
  {
   "cell_type": "code",
   "execution_count": 16,
   "metadata": {},
   "outputs": [
    {
     "data": {
      "text/html": [
       "<div>\n",
       "<style scoped>\n",
       "    .dataframe tbody tr th:only-of-type {\n",
       "        vertical-align: middle;\n",
       "    }\n",
       "\n",
       "    .dataframe tbody tr th {\n",
       "        vertical-align: top;\n",
       "    }\n",
       "\n",
       "    .dataframe thead th {\n",
       "        text-align: right;\n",
       "    }\n",
       "</style>\n",
       "<table border=\"1\" class=\"dataframe\">\n",
       "  <thead>\n",
       "    <tr style=\"text-align: right;\">\n",
       "      <th></th>\n",
       "      <th>SCIENCE</th>\n",
       "      <th>STANDBY</th>\n",
       "      <th>SCIENCE_min</th>\n",
       "      <th>STANDBY_min</th>\n",
       "      <th>DATA_LWIR_HS</th>\n",
       "      <th>DATA_LWIR_HR</th>\n",
       "    </tr>\n",
       "    <tr>\n",
       "      <th>orbit</th>\n",
       "      <th></th>\n",
       "      <th></th>\n",
       "      <th></th>\n",
       "      <th></th>\n",
       "      <th></th>\n",
       "      <th></th>\n",
       "    </tr>\n",
       "  </thead>\n",
       "  <tbody>\n",
       "    <tr>\n",
       "      <th>1</th>\n",
       "      <td>0 days 00:04:46</td>\n",
       "      <td>0 days 01:08:12</td>\n",
       "      <td>4.766667</td>\n",
       "      <td>68.200000</td>\n",
       "      <td>57.486</td>\n",
       "      <td>171.6</td>\n",
       "    </tr>\n",
       "    <tr>\n",
       "      <th>2</th>\n",
       "      <td>0 days 00:24:56</td>\n",
       "      <td>0 days 01:13:42</td>\n",
       "      <td>24.933333</td>\n",
       "      <td>73.700000</td>\n",
       "      <td>300.696</td>\n",
       "      <td>897.6</td>\n",
       "    </tr>\n",
       "    <tr>\n",
       "      <th>3</th>\n",
       "      <td>0 days 00:17:58</td>\n",
       "      <td>0 days 01:21:02</td>\n",
       "      <td>17.966667</td>\n",
       "      <td>81.033333</td>\n",
       "      <td>216.678</td>\n",
       "      <td>646.8</td>\n",
       "    </tr>\n",
       "    <tr>\n",
       "      <th>4</th>\n",
       "      <td>0 days 00:15:46</td>\n",
       "      <td>0 days 01:23:14</td>\n",
       "      <td>15.766667</td>\n",
       "      <td>83.233333</td>\n",
       "      <td>190.146</td>\n",
       "      <td>567.6</td>\n",
       "    </tr>\n",
       "    <tr>\n",
       "      <th>5</th>\n",
       "      <td>0 days 00:20:54</td>\n",
       "      <td>0 days 01:17:44</td>\n",
       "      <td>20.900000</td>\n",
       "      <td>77.733333</td>\n",
       "      <td>252.054</td>\n",
       "      <td>752.4</td>\n",
       "    </tr>\n",
       "    <tr>\n",
       "      <th>6</th>\n",
       "      <td>0 days 00:28:14</td>\n",
       "      <td>0 days 01:10:46</td>\n",
       "      <td>28.233333</td>\n",
       "      <td>70.766667</td>\n",
       "      <td>340.494</td>\n",
       "      <td>1016.4</td>\n",
       "    </tr>\n",
       "    <tr>\n",
       "      <th>7</th>\n",
       "      <td>0 days 00:17:58</td>\n",
       "      <td>0 days 01:21:02</td>\n",
       "      <td>17.966667</td>\n",
       "      <td>81.033333</td>\n",
       "      <td>216.678</td>\n",
       "      <td>646.8</td>\n",
       "    </tr>\n",
       "    <tr>\n",
       "      <th>8</th>\n",
       "      <td>0 days 00:03:18</td>\n",
       "      <td>0 days 01:35:20</td>\n",
       "      <td>3.300000</td>\n",
       "      <td>95.333333</td>\n",
       "      <td>39.798</td>\n",
       "      <td>118.8</td>\n",
       "    </tr>\n",
       "    <tr>\n",
       "      <th>9</th>\n",
       "      <td>0 days 00:15:02</td>\n",
       "      <td>0 days 01:23:58</td>\n",
       "      <td>15.033333</td>\n",
       "      <td>83.966667</td>\n",
       "      <td>181.302</td>\n",
       "      <td>541.2</td>\n",
       "    </tr>\n",
       "    <tr>\n",
       "      <th>10</th>\n",
       "      <td>0 days 00:33:44</td>\n",
       "      <td>0 days 01:05:16</td>\n",
       "      <td>33.733333</td>\n",
       "      <td>65.266667</td>\n",
       "      <td>406.824</td>\n",
       "      <td>1214.4</td>\n",
       "    </tr>\n",
       "    <tr>\n",
       "      <th>11</th>\n",
       "      <td>0 days 00:17:58</td>\n",
       "      <td>0 days 01:20:40</td>\n",
       "      <td>17.966667</td>\n",
       "      <td>80.666667</td>\n",
       "      <td>216.678</td>\n",
       "      <td>646.8</td>\n",
       "    </tr>\n",
       "    <tr>\n",
       "      <th>12</th>\n",
       "      <td>0 days 00:11:44</td>\n",
       "      <td>0 days 01:27:16</td>\n",
       "      <td>11.733333</td>\n",
       "      <td>87.266667</td>\n",
       "      <td>141.504</td>\n",
       "      <td>422.4</td>\n",
       "    </tr>\n",
       "    <tr>\n",
       "      <th>13</th>\n",
       "      <td>0 days 00:08:26</td>\n",
       "      <td>0 days 01:30:34</td>\n",
       "      <td>8.433333</td>\n",
       "      <td>90.566667</td>\n",
       "      <td>101.706</td>\n",
       "      <td>303.6</td>\n",
       "    </tr>\n",
       "    <tr>\n",
       "      <th>14</th>\n",
       "      <td>0 days 00:04:02</td>\n",
       "      <td>0 days 01:34:36</td>\n",
       "      <td>4.033333</td>\n",
       "      <td>94.600000</td>\n",
       "      <td>48.642</td>\n",
       "      <td>145.2</td>\n",
       "    </tr>\n",
       "    <tr>\n",
       "      <th>15</th>\n",
       "      <td>0 days 00:04:02</td>\n",
       "      <td>0 days 01:34:58</td>\n",
       "      <td>4.033333</td>\n",
       "      <td>94.966667</td>\n",
       "      <td>48.642</td>\n",
       "      <td>145.2</td>\n",
       "    </tr>\n",
       "    <tr>\n",
       "      <th>16</th>\n",
       "      <td>0 days 00:21:16</td>\n",
       "      <td>0 days 01:17:44</td>\n",
       "      <td>21.266667</td>\n",
       "      <td>77.733333</td>\n",
       "      <td>256.476</td>\n",
       "      <td>765.6</td>\n",
       "    </tr>\n",
       "    <tr>\n",
       "      <th>17</th>\n",
       "      <td>0 days 00:27:30</td>\n",
       "      <td>0 days 01:11:08</td>\n",
       "      <td>27.500000</td>\n",
       "      <td>71.133333</td>\n",
       "      <td>331.650</td>\n",
       "      <td>990.0</td>\n",
       "    </tr>\n",
       "    <tr>\n",
       "      <th>18</th>\n",
       "      <td>0 days 00:20:10</td>\n",
       "      <td>0 days 01:18:50</td>\n",
       "      <td>20.166667</td>\n",
       "      <td>78.833333</td>\n",
       "      <td>243.210</td>\n",
       "      <td>726.0</td>\n",
       "    </tr>\n",
       "    <tr>\n",
       "      <th>19</th>\n",
       "      <td>0 days 00:18:42</td>\n",
       "      <td>0 days 01:20:18</td>\n",
       "      <td>18.700000</td>\n",
       "      <td>80.300000</td>\n",
       "      <td>225.522</td>\n",
       "      <td>673.2</td>\n",
       "    </tr>\n",
       "    <tr>\n",
       "      <th>20</th>\n",
       "      <td>0 days 00:25:18</td>\n",
       "      <td>0 days 01:13:42</td>\n",
       "      <td>25.300000</td>\n",
       "      <td>73.700000</td>\n",
       "      <td>305.118</td>\n",
       "      <td>910.8</td>\n",
       "    </tr>\n",
       "    <tr>\n",
       "      <th>21</th>\n",
       "      <td>0 days 00:29:20</td>\n",
       "      <td>0 days 01:09:18</td>\n",
       "      <td>29.333333</td>\n",
       "      <td>69.300000</td>\n",
       "      <td>353.760</td>\n",
       "      <td>1056.0</td>\n",
       "    </tr>\n",
       "    <tr>\n",
       "      <th>22</th>\n",
       "      <td>0 days 00:04:24</td>\n",
       "      <td>0 days 01:34:36</td>\n",
       "      <td>4.400000</td>\n",
       "      <td>94.600000</td>\n",
       "      <td>53.064</td>\n",
       "      <td>158.4</td>\n",
       "    </tr>\n",
       "    <tr>\n",
       "      <th>23</th>\n",
       "      <td>0 days 00:02:56</td>\n",
       "      <td>0 days 01:36:04</td>\n",
       "      <td>2.933333</td>\n",
       "      <td>96.066667</td>\n",
       "      <td>35.376</td>\n",
       "      <td>105.6</td>\n",
       "    </tr>\n",
       "    <tr>\n",
       "      <th>24</th>\n",
       "      <td>0 days 00:25:40</td>\n",
       "      <td>0 days 01:12:58</td>\n",
       "      <td>25.666667</td>\n",
       "      <td>72.966667</td>\n",
       "      <td>309.540</td>\n",
       "      <td>924.0</td>\n",
       "    </tr>\n",
       "    <tr>\n",
       "      <th>25</th>\n",
       "      <td>0 days 00:20:32</td>\n",
       "      <td>0 days 01:18:28</td>\n",
       "      <td>20.533333</td>\n",
       "      <td>78.466667</td>\n",
       "      <td>247.632</td>\n",
       "      <td>739.2</td>\n",
       "    </tr>\n",
       "    <tr>\n",
       "      <th>26</th>\n",
       "      <td>0 days 00:16:52</td>\n",
       "      <td>0 days 01:22:08</td>\n",
       "      <td>16.866667</td>\n",
       "      <td>82.133333</td>\n",
       "      <td>203.412</td>\n",
       "      <td>607.2</td>\n",
       "    </tr>\n",
       "    <tr>\n",
       "      <th>27</th>\n",
       "      <td>0 days 00:10:16</td>\n",
       "      <td>0 days 01:28:22</td>\n",
       "      <td>10.266667</td>\n",
       "      <td>88.366667</td>\n",
       "      <td>123.816</td>\n",
       "      <td>369.6</td>\n",
       "    </tr>\n",
       "    <tr>\n",
       "      <th>28</th>\n",
       "      <td>0 days 00:05:30</td>\n",
       "      <td>0 days 01:33:30</td>\n",
       "      <td>5.500000</td>\n",
       "      <td>93.500000</td>\n",
       "      <td>66.330</td>\n",
       "      <td>198.0</td>\n",
       "    </tr>\n",
       "    <tr>\n",
       "      <th>29</th>\n",
       "      <td>0 days 00:02:34</td>\n",
       "      <td>0 days 01:36:26</td>\n",
       "      <td>2.566667</td>\n",
       "      <td>96.433333</td>\n",
       "      <td>30.954</td>\n",
       "      <td>92.4</td>\n",
       "    </tr>\n",
       "    <tr>\n",
       "      <th>30</th>\n",
       "      <td>0 days 00:01:06</td>\n",
       "      <td>0 days 00:36:18</td>\n",
       "      <td>1.100000</td>\n",
       "      <td>36.300000</td>\n",
       "      <td>13.266</td>\n",
       "      <td>39.6</td>\n",
       "    </tr>\n",
       "  </tbody>\n",
       "</table>\n",
       "</div>"
      ],
      "text/plain": [
       "              SCIENCE         STANDBY  SCIENCE_min  STANDBY_min  DATA_LWIR_HS  \\\n",
       "orbit                                                                           \n",
       "1     0 days 00:04:46 0 days 01:08:12     4.766667    68.200000        57.486   \n",
       "2     0 days 00:24:56 0 days 01:13:42    24.933333    73.700000       300.696   \n",
       "3     0 days 00:17:58 0 days 01:21:02    17.966667    81.033333       216.678   \n",
       "4     0 days 00:15:46 0 days 01:23:14    15.766667    83.233333       190.146   \n",
       "5     0 days 00:20:54 0 days 01:17:44    20.900000    77.733333       252.054   \n",
       "6     0 days 00:28:14 0 days 01:10:46    28.233333    70.766667       340.494   \n",
       "7     0 days 00:17:58 0 days 01:21:02    17.966667    81.033333       216.678   \n",
       "8     0 days 00:03:18 0 days 01:35:20     3.300000    95.333333        39.798   \n",
       "9     0 days 00:15:02 0 days 01:23:58    15.033333    83.966667       181.302   \n",
       "10    0 days 00:33:44 0 days 01:05:16    33.733333    65.266667       406.824   \n",
       "11    0 days 00:17:58 0 days 01:20:40    17.966667    80.666667       216.678   \n",
       "12    0 days 00:11:44 0 days 01:27:16    11.733333    87.266667       141.504   \n",
       "13    0 days 00:08:26 0 days 01:30:34     8.433333    90.566667       101.706   \n",
       "14    0 days 00:04:02 0 days 01:34:36     4.033333    94.600000        48.642   \n",
       "15    0 days 00:04:02 0 days 01:34:58     4.033333    94.966667        48.642   \n",
       "16    0 days 00:21:16 0 days 01:17:44    21.266667    77.733333       256.476   \n",
       "17    0 days 00:27:30 0 days 01:11:08    27.500000    71.133333       331.650   \n",
       "18    0 days 00:20:10 0 days 01:18:50    20.166667    78.833333       243.210   \n",
       "19    0 days 00:18:42 0 days 01:20:18    18.700000    80.300000       225.522   \n",
       "20    0 days 00:25:18 0 days 01:13:42    25.300000    73.700000       305.118   \n",
       "21    0 days 00:29:20 0 days 01:09:18    29.333333    69.300000       353.760   \n",
       "22    0 days 00:04:24 0 days 01:34:36     4.400000    94.600000        53.064   \n",
       "23    0 days 00:02:56 0 days 01:36:04     2.933333    96.066667        35.376   \n",
       "24    0 days 00:25:40 0 days 01:12:58    25.666667    72.966667       309.540   \n",
       "25    0 days 00:20:32 0 days 01:18:28    20.533333    78.466667       247.632   \n",
       "26    0 days 00:16:52 0 days 01:22:08    16.866667    82.133333       203.412   \n",
       "27    0 days 00:10:16 0 days 01:28:22    10.266667    88.366667       123.816   \n",
       "28    0 days 00:05:30 0 days 01:33:30     5.500000    93.500000        66.330   \n",
       "29    0 days 00:02:34 0 days 01:36:26     2.566667    96.433333        30.954   \n",
       "30    0 days 00:01:06 0 days 00:36:18     1.100000    36.300000        13.266   \n",
       "\n",
       "       DATA_LWIR_HR  \n",
       "orbit                \n",
       "1             171.6  \n",
       "2             897.6  \n",
       "3             646.8  \n",
       "4             567.6  \n",
       "5             752.4  \n",
       "6            1016.4  \n",
       "7             646.8  \n",
       "8             118.8  \n",
       "9             541.2  \n",
       "10           1214.4  \n",
       "11            646.8  \n",
       "12            422.4  \n",
       "13            303.6  \n",
       "14            145.2  \n",
       "15            145.2  \n",
       "16            765.6  \n",
       "17            990.0  \n",
       "18            726.0  \n",
       "19            673.2  \n",
       "20            910.8  \n",
       "21           1056.0  \n",
       "22            158.4  \n",
       "23            105.6  \n",
       "24            924.0  \n",
       "25            739.2  \n",
       "26            607.2  \n",
       "27            369.6  \n",
       "28            198.0  \n",
       "29             92.4  \n",
       "30             39.6  "
      ]
     },
     "execution_count": 16,
     "metadata": {},
     "output_type": "execute_result"
    }
   ],
   "source": [
    "by_orbit"
   ]
  },
  {
   "cell_type": "code",
   "execution_count": 17,
   "metadata": {},
   "outputs": [
    {
     "data": {
      "text/plain": [
       "<AxesSubplot:ylabel='Frequency'>"
      ]
     },
     "execution_count": 17,
     "metadata": {},
     "output_type": "execute_result"
    },
    {
     "data": {
      "image/png": "[encoded data removed]",
      "text/plain": [
       "<Figure size 432x288 with 1 Axes>"
      ]
     },
     "metadata": {
      "needs_background": "light"
     },
     "output_type": "display_data"
    }
   ],
   "source": [
    "by_orbit.DATA_LWIR_HR.plot.hist(bins=10)"
   ]
  },
  {
   "cell_type": "code",
   "execution_count": 18,
   "metadata": {},
   "outputs": [
    {
     "data": {
      "text/plain": [
       "16592.4"
      ]
     },
     "execution_count": 18,
     "metadata": {},
     "output_type": "execute_result"
    }
   ],
   "source": [
    "by_orbit.DATA_LWIR_HR.sum()"
   ]
  },
  {
   "cell_type": "code",
   "execution_count": 19,
   "metadata": {},
   "outputs": [
    {
     "data": {
      "text/plain": [
       "8294.399999999998"
      ]
     },
     "execution_count": 19,
     "metadata": {},
     "output_type": "execute_result"
    }
   ],
   "source": [
    "0.16*24*60*60*0.6"
   ]
  }
 ],
 "metadata": {
  "interpreter": {
   "hash": "e08235b3b3f261cce032f41d2f5ba53bea32df87899ea41a1c550ca660aae0c9"
  },
  "kernelspec": {
   "display_name": "Python 3.7.11 ('coverage')",
   "language": "python",
   "name": "python3"
  },
  "language_info": {
   "codemirror_mode": {
    "name": "ipython",
    "version": 3
   },
   "file_extension": ".py",
   "mimetype": "text/x-python",
   "name": "python",
   "nbconvert_exporter": "python",
   "pygments_lexer": "ipython3",
   "version": "3.8.13"
  },
  "orig_nbformat": 4
 },
 "nbformat": 4,
 "nbformat_minor": 2
}
