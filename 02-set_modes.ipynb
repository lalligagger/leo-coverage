{
 "cells": [
  {
   "cell_type": "code",
   "execution_count": null,
   "metadata": {},
   "outputs": [],
   "source": [
    "# ! python -m pip install stactools"
   ]
  },
  {
   "cell_type": "code",
   "execution_count": null,
   "metadata": {},
   "outputs": [],
   "source": [
    "import numpy as np\n",
    "from coverage import *\n",
    "from datetime import datetime, timezone, timedelta\n",
    "import dataclasses\n",
    "from shapely.geometry import Point\n",
    "import geopandas as gpd\n",
    "import matplotlib.pyplot as plt\n",
    "import pandas as pd\n",
    "import branca\n",
    "import folium\n",
    "\n",
    "from skyfield.framelib import itrs\n",
    "from landsat import Instrument, Platform, Scene\n",
    "\n",
    "! mkdir tmp"
   ]
  },
  {
   "cell_type": "code",
   "execution_count": null,
   "metadata": {},
   "outputs": [],
   "source": [
    "start_dt = datetime.fromisoformat(Scene.start_utc)\n",
    "num_days = 8\n",
    "\n",
    "tles = gen_sats(\n",
    "    # sat_nos=[Platform.norad_id] # How to best handle multiple platforms? (TLE vs. SPG4 model too)\n",
    "    # sat_nos=[39084]\n",
    "    sat_nos=[39084,49260]\n",
    ")\n",
    "\n",
    "inst = camera_model(\n",
    "    name=Instrument.name, \n",
    "    fl=Instrument.focal_length_mm, \n",
    "    pitch=Instrument.pitch_um*1e-3, \n",
    "    h_pix=Instrument.rows, \n",
    "    v_pix=Instrument.cols, \n",
    ")\n",
    "\n",
    "times = gen_times(\n",
    "    start_yr=start_dt.year,\n",
    "    start_mo=start_dt.month, \n",
    "    start_day=start_dt.day, \n",
    "    days=num_days, \n",
    "    step_min=Instrument.img_period)\n",
    "\n",
    "xcell_size = ycell_size = .1"
   ]
  },
  {
   "cell_type": "code",
   "execution_count": null,
   "metadata": {},
   "outputs": [],
   "source": [
    "## Batch FOV generation over N satellites - TODO: build multiple sats into config/ main script\n",
    "gdfs = []\n",
    "for tle in tles:\n",
    "    sat = tle[0]\n",
    "\n",
    "    fov_df = forecast_fovs(sat, times, inst)\n",
    "\n",
    "    xyz_dist_rates = sat.at(times).frame_xyz_and_velocity(itrs)\n",
    "    fov_df['x_pos'], fov_df['y_pos'], fov_df['z_pos'] = xyz_dist_rates[0].km\n",
    "    fov_df['x_vel'], fov_df['y_vel'], fov_df['z_vel'] = xyz_dist_rates[1].km_per_s\n",
    "\n",
    "    gdfs.append(fov_df)\n",
    "fov_df = gpd.GeoDataFrame(pd.concat(gdfs, ignore_index=True), crs=\"EPSG:4326\")\n",
    "\n",
    "# fov_df.drop('datetime', axis=1).explore()"
   ]
  },
  {
   "cell_type": "code",
   "execution_count": null,
   "metadata": {},
   "outputs": [],
   "source": [
    "# fov_df.time = pd.to_datetime(fov_df.time)\n",
    "fov_df[\"frac_days\"] = fov_df.datetime.dt.dayofweek + fov_df.datetime.dt.hour/24 + fov_df.datetime.dt.minute/(24*60) + fov_df.datetime.dt.second/(24*60*60)\n",
    "fov_df['time_gap'] = fov_df['frac_days'] - fov_df['frac_days'].shift(1)\n",
    "# fov_df = fov_df.drop('datetime', axis=1)\n",
    "fov_df"
   ]
  },
  {
   "cell_type": "code",
   "execution_count": null,
   "metadata": {},
   "outputs": [],
   "source": [
    "# %%timeit\n",
    "# get_inst_fov(sat, times[0], inst)"
   ]
  },
  {
   "cell_type": "code",
   "execution_count": null,
   "metadata": {},
   "outputs": [],
   "source": [
    "# fov_df.loc[fov_df.z_vel < 0]['asc_dsc'] = 'dsc'\n",
    "conditions = [\n",
    "    fov_df['z_vel'].lt(0),\n",
    "    fov_df['z_vel'].gt(0)\n",
    "]\n",
    "\n",
    "choices = ['dsc','asc']\n",
    "fov_df['asc_dsc'] = np.select(conditions, choices, default='undefined')\n",
    "\n",
    "my_column_changes = fov_df[\"asc_dsc\"].shift() != fov_df[\"asc_dsc\"]\n",
    "change = fov_df[my_column_changes]#[:100]\n",
    "change['time_gap'] = change['frac_days'].shift(-1) - change['frac_days']\n",
    "\n",
    "# plot_df = change[change.satellite==\"LANDSAT 9\"][1:]\n",
    "# fig, ax = plt.subplots(1, figsize=(16,6))\n",
    "# ax.barh(plot_df['asc_dsc'], plot_df.time_gap, left=plot_df.frac_days) #, color=df.color)"
   ]
  },
  {
   "cell_type": "code",
   "execution_count": null,
   "metadata": {},
   "outputs": [],
   "source": [
    "## Drop ascending pass FOVs\n",
    "fov_df.loc[fov_df.asc_dsc==\"asc\", \"geometry\"] = None\n",
    "\n",
    "## Select AOI from gpd naturalearth dataset (filter by .name for country, .continent for continent)\n",
    "world = gpd.read_file(gpd.datasets.get_path('naturalearth_lowres'))\n",
    "world = world[world.continent != \"Antarctica\"]\n",
    "# world = world[world.continent != \"Seven seas (open ocean)\"]\n",
    "\n",
    "## Drop any FOVs not over land area\n",
    "join = fov_df.sjoin(world, how=\"left\").dropna()\n",
    "fov_df.loc[join.index, 'mode'] = \"SCIENCE\"\n",
    "fov_df.loc[~fov_df.index.isin(join.index), 'mode'] = \"STANDBY\"\n",
    "fov_df.loc[fov_df['mode']==\"STANDBY\", \"geometry\"] = None"
   ]
  },
  {
   "cell_type": "code",
   "execution_count": null,
   "metadata": {},
   "outputs": [],
   "source": [
    "my_column_changes = fov_df[\"mode\"].shift() != fov_df[\"mode\"]\n",
    "\n",
    "change = fov_df[my_column_changes]#[:100]\n",
    "\n",
    "change['time_gap'] = change['frac_days'].shift(-1) - change['frac_days']\n",
    "change = change[change['time_gap'] > 0]\n",
    "change = change[change.satellite == \"LANDSAT 9\"]\n",
    "\n",
    "fig, ax = plt.subplots(1, figsize=(16,2))\n",
    "ax.barh(change['mode'], change.time_gap, left=change.frac_days) #, color=df.color)"
   ]
  },
  {
   "cell_type": "code",
   "execution_count": null,
   "metadata": {},
   "outputs": [],
   "source": [
    "((change[change[\"mode\"] == \"SCIENCE\"]).time_gap*24*60).plot.hist(bins=30)"
   ]
  },
  {
   "cell_type": "code",
   "execution_count": null,
   "metadata": {},
   "outputs": [],
   "source": [
    "change[change[\"mode\"] == \"SCIENCE\"].time_gap.sum()/(change[change[\"mode\"] == \"STANDBY\"].time_gap.sum() + change[change[\"mode\"] == \"SCIENCE\"].time_gap.sum())"
   ]
  },
  {
   "cell_type": "code",
   "execution_count": null,
   "metadata": {},
   "outputs": [],
   "source": [
    "def zero_crossing(data):\n",
    "    return np.where(np.diff(np.sign(np.array(data))))[0]\n",
    "\n",
    "def crossings_nonzero_pos2neg(data):\n",
    "    pos = data > 0\n",
    "    return (pos[:-1] & ~pos[1:]).nonzero()[0]\n",
    "\n",
    "single_sat = fov_df[fov_df.satellite==\"LANDSAT 8\"][1:-1].reset_index(drop=True)\n",
    "\n",
    "data = single_sat['z_pos'].values\n",
    "crossings = crossings_nonzero_pos2neg(data)\n",
    "single_sat.loc[crossings]\n",
    "single_sat['orbit'] = 1\n",
    "\n",
    "for crossing in crossings:\n",
    "    single_sat.loc[crossing:, 'orbit'] += 1"
   ]
  },
  {
   "cell_type": "code",
   "execution_count": null,
   "metadata": {},
   "outputs": [],
   "source": [
    "ax = single_sat.plot.line(y=['z_pos', 'z_vel'], xlim=[1000,3000], figsize=(20,8), subplots=False, secondary_y=['z_vel'])\n",
    "ax.vlines(single_sat.loc[crossings].index, ymin=-1500, ymax=1500, color=['black'])"
   ]
  },
  {
   "cell_type": "code",
   "execution_count": null,
   "metadata": {},
   "outputs": [],
   "source": [
    "(single_sat[single_sat[\"mode\"] == \"SCIENCE\"].groupby('orbit').time_gap.sum()*24*60).plot.hist(bins=10)\n",
    "\n",
    "print((single_sat[single_sat[\"mode\"] == \"SCIENCE\"].groupby('orbit').time_gap.sum()*24*60).mean())"
   ]
  },
  {
   "cell_type": "code",
   "execution_count": null,
   "metadata": {},
   "outputs": [],
   "source": [
    "single_sat['timedelta'] = single_sat.datetime.diff(1).shift(-1)\n",
    "\n",
    "by_orbit = pd.DataFrame(\n",
    "    {\n",
    "    \"SCIENCE\": single_sat[single_sat['mode']==\"SCIENCE\"].groupby('orbit').timedelta.sum(),\n",
    "    \"STANDBY\": single_sat[single_sat['mode']==\"STANDBY\"].groupby('orbit').timedelta.sum()\n",
    "    }\n",
    ")\n",
    "\n",
    "by_orbit[\"SCIENCE_min\"] = by_orbit.SCIENCE.dt.total_seconds()/60\n",
    "by_orbit[\"STANDBY_min\"] = by_orbit.STANDBY.dt.total_seconds()/60\n",
    "\n",
    "by_orbit[\"DATA_LWIR_HS\"] = by_orbit.SCIENCE.dt.total_seconds()*0.201\n",
    "by_orbit[\"DATA_LWIR_HR\"] = by_orbit.SCIENCE.dt.total_seconds()*0.60"
   ]
  },
  {
   "cell_type": "code",
   "execution_count": null,
   "metadata": {},
   "outputs": [],
   "source": [
    "by_orbit"
   ]
  },
  {
   "cell_type": "code",
   "execution_count": null,
   "metadata": {},
   "outputs": [],
   "source": [
    "by_orbit.DATA_LWIR_HR.plot.hist(bins=10)"
   ]
  },
  {
   "cell_type": "code",
   "execution_count": null,
   "metadata": {},
   "outputs": [],
   "source": [
    "by_orbit.DATA_LWIR_HR.sum()"
   ]
  },
  {
   "cell_type": "code",
   "execution_count": null,
   "metadata": {},
   "outputs": [],
   "source": [
    "0.16*24*60*60*0.6"
   ]
  }
 ],
 "metadata": {
  "interpreter": {
   "hash": "e08235b3b3f261cce032f41d2f5ba53bea32df87899ea41a1c550ca660aae0c9"
  },
  "kernelspec": {
   "display_name": "Python 3.7.11 ('coverage')",
   "language": "python",
   "name": "python3"
  },
  "language_info": {
   "codemirror_mode": {
    "name": "ipython",
    "version": 3
   },
   "file_extension": ".py",
   "mimetype": "text/x-python",
   "name": "python",
   "nbconvert_exporter": "python",
   "pygments_lexer": "ipython3",
   "version": "3.8.13"
  },
  "orig_nbformat": 4
 },
 "nbformat": 4,
 "nbformat_minor": 2
}
