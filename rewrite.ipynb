{
 "cells": [
  {
   "cell_type": "code",
   "execution_count": 1,
   "metadata": {},
   "outputs": [],
   "source": [
    "import numpy as np\n",
    "from coverage import gen_sats, gen_times, camera_model, get_inst_fov, get_inst_fov2, los_to_earth, get_lvlh_pointing\n",
    "from datetime import datetime, timezone, timedelta\n",
    "import dataclasses\n",
    "from shapely.geometry import Point\n",
    "import geopandas as gpd\n",
    "import matplotlib.pyplot as plt\n",
    "import pandas as pd\n",
    "import branca\n",
    "import folium\n",
    "\n",
    "from skyfield.api import load, wgs84, Distance\n",
    "from skyfield.framelib import itrs\n",
    "from skyfield.toposlib import ITRSPosition\n",
    "from landsat import Instrument, Platform, Scene"
   ]
  },
  {
   "cell_type": "code",
   "execution_count": 2,
   "metadata": {},
   "outputs": [
    {
     "data": {
      "text/html": [
       "<pre style=\"white-space:pre;overflow-x:auto;line-height:normal;font-family:Menlo,'DejaVu Sans Mono',consolas,'Courier New',monospace\"><span style=\"color: #800080; text-decoration-color: #800080; font-weight: bold\">Satellite</span><span style=\"font-weight: bold\">(</span>s<span style=\"font-weight: bold\">)</span> Loaded from TLE:\n",
       "</pre>\n"
      ],
      "text/plain": [
       "\u001b[1;35mSatellite\u001b[0m\u001b[1m(\u001b[0ms\u001b[1m)\u001b[0m Loaded from TLE:\n"
      ]
     },
     "metadata": {},
     "output_type": "display_data"
    },
    {
     "data": {
      "text/html": [
       "<pre style=\"white-space:pre;overflow-x:auto;line-height:normal;font-family:Menlo,'DejaVu Sans Mono',consolas,'Courier New',monospace\"><span style=\"font-weight: bold\">[&lt;</span><span style=\"color: #ff00ff; text-decoration-color: #ff00ff; font-weight: bold\">EarthSatellite</span><span style=\"color: #000000; text-decoration-color: #000000\"> LANDSAT </span><span style=\"color: #008080; text-decoration-color: #008080; font-weight: bold\">9</span><span style=\"color: #000000; text-decoration-color: #000000\"> catalog #</span><span style=\"color: #008080; text-decoration-color: #008080; font-weight: bold\">49260</span><span style=\"color: #000000; text-decoration-color: #000000\"> epoch </span><span style=\"color: #008080; text-decoration-color: #008080; font-weight: bold\">2022</span><span style=\"color: #000000; text-decoration-color: #000000\">-</span><span style=\"color: #008080; text-decoration-color: #008080; font-weight: bold\">06</span><span style=\"color: #000000; text-decoration-color: #000000\">-</span><span style=\"color: #008080; text-decoration-color: #008080; font-weight: bold\">15</span><span style=\"color: #000000; text-decoration-color: #000000\"> </span><span style=\"color: #00ff00; text-decoration-color: #00ff00; font-weight: bold\">11:12:37</span><span style=\"color: #000000; text-decoration-color: #000000\"> UTC</span><span style=\"font-weight: bold\">&gt;]</span>\n",
       "</pre>\n"
      ],
      "text/plain": [
       "\u001b[1m[\u001b[0m\u001b[1m<\u001b[0m\u001b[1;95mEarthSatellite\u001b[0m\u001b[39m LANDSAT \u001b[0m\u001b[1;36m9\u001b[0m\u001b[39m catalog #\u001b[0m\u001b[1;36m49260\u001b[0m\u001b[39m epoch \u001b[0m\u001b[1;36m2022\u001b[0m\u001b[39m-\u001b[0m\u001b[1;36m06\u001b[0m\u001b[39m-\u001b[0m\u001b[1;36m15\u001b[0m\u001b[39m \u001b[0m\u001b[1;92m11:12:37\u001b[0m\u001b[39m UTC\u001b[0m\u001b[1m>\u001b[0m\u001b[1m]\u001b[0m\n"
      ]
     },
     "metadata": {},
     "output_type": "display_data"
    },
    {
     "data": {
      "text/html": [
       "<pre style=\"white-space:pre;overflow-x:auto;line-height:normal;font-family:Menlo,'DejaVu Sans Mono',consolas,'Courier New',monospace\">Propogation time: \n",
       " <span style=\"color: #008080; text-decoration-color: #008080; font-weight: bold\">2022</span>-<span style=\"color: #008080; text-decoration-color: #008080; font-weight: bold\">07</span>-<span style=\"color: #008080; text-decoration-color: #008080; font-weight: bold\">27</span> <span style=\"color: #00ff00; text-decoration-color: #00ff00; font-weight: bold\">00:00:00</span>+<span style=\"color: #00ff00; text-decoration-color: #00ff00; font-weight: bold\">00:00</span> \n",
       "to \n",
       " <span style=\"color: #008080; text-decoration-color: #008080; font-weight: bold\">2022</span>-<span style=\"color: #008080; text-decoration-color: #008080; font-weight: bold\">07</span>-<span style=\"color: #008080; text-decoration-color: #008080; font-weight: bold\">28</span> <span style=\"color: #00ff00; text-decoration-color: #00ff00; font-weight: bold\">23:59:48</span>+<span style=\"color: #00ff00; text-decoration-color: #00ff00; font-weight: bold\">00:00</span>\n",
       "</pre>\n"
      ],
      "text/plain": [
       "Propogation time: \n",
       " \u001b[1;36m2022\u001b[0m-\u001b[1;36m07\u001b[0m-\u001b[1;36m27\u001b[0m \u001b[1;92m00:00:00\u001b[0m+\u001b[1;92m00:00\u001b[0m \n",
       "to \n",
       " \u001b[1;36m2022\u001b[0m-\u001b[1;36m07\u001b[0m-\u001b[1;36m28\u001b[0m \u001b[1;92m23:59:48\u001b[0m+\u001b[1;92m00:00\u001b[0m\n"
      ]
     },
     "metadata": {},
     "output_type": "display_data"
    }
   ],
   "source": [
    "start_dt = datetime.fromisoformat(Scene.start_utc)\n",
    "num_days = 2\n",
    "\n",
    "tles = gen_sats(\n",
    "    sat_nos=[Platform.norad_id] # How to best handle multiple platforms? (TLE vs. SPG4 model too)\n",
    "    # sat_nos=[39084]\n",
    "    # sat_nos=[39084,49260]\n",
    ")\n",
    "\n",
    "inst = camera_model(\n",
    "    name=Instrument.name, \n",
    "    fl=Instrument.focal_length_mm, \n",
    "    pitch=Instrument.pitch_um*1e-3, \n",
    "    h_pix=Instrument.rows, \n",
    "    v_pix=Instrument.cols, \n",
    ")\n",
    "\n",
    "times = gen_times(\n",
    "    start_yr=start_dt.year,\n",
    "    start_mo=start_dt.month, \n",
    "    start_day=start_dt.day, \n",
    "    days=num_days, \n",
    "    step_min=Instrument.img_period)\n",
    "\n",
    "xcell_size = ycell_size = .1"
   ]
  },
  {
   "cell_type": "code",
   "execution_count": 3,
   "metadata": {},
   "outputs": [],
   "source": [
    "sat = tles[0][0]"
   ]
  },
  {
   "cell_type": "code",
   "execution_count": 4,
   "metadata": {},
   "outputs": [],
   "source": [
    "# %%timeit\n",
    "# get_inst_fov(sat, times[0], inst)"
   ]
  },
  {
   "cell_type": "code",
   "execution_count": 5,
   "metadata": {},
   "outputs": [],
   "source": [
    "llas = get_inst_fov(sat, times[0], inst)"
   ]
  },
  {
   "cell_type": "code",
   "execution_count": 6,
   "metadata": {},
   "outputs": [],
   "source": [
    "# %%timeit\n",
    "# get_inst_fov2(sat, times[0], inst)"
   ]
  },
  {
   "cell_type": "code",
   "execution_count": 7,
   "metadata": {},
   "outputs": [],
   "source": [
    "llas2 = get_inst_fov2(sat, times[0], inst)"
   ]
  },
  {
   "cell_type": "code",
   "execution_count": 8,
   "metadata": {},
   "outputs": [
    {
     "data": {
      "text/plain": [
       "{'c1': {'lat': -63.38163240859396, 'lon': -12.146297825585277},\n",
       " 'c2': {'lat': -62.81058302898076, 'lon': -8.709924300718592},\n",
       " 'c3': {'lat': -61.20749510204343, 'lon': -10.024883795288902},\n",
       " 'c4': {'lat': -61.7480644487944, 'lon': -13.301729363872125}}"
      ]
     },
     "execution_count": 8,
     "metadata": {},
     "output_type": "execute_result"
    }
   ],
   "source": [
    "llas2"
   ]
  },
  {
   "cell_type": "code",
   "execution_count": 9,
   "metadata": {},
   "outputs": [
    {
     "data": {
      "text/plain": [
       "{'c1': {'lat': -63.38163240859396, 'lon': -12.146297825585277},\n",
       " 'c2': {'lat': -62.81058302898076, 'lon': -8.709924300718592},\n",
       " 'c3': {'lat': -61.20749510204343, 'lon': -10.024883795288902},\n",
       " 'c4': {'lat': -61.7480644487944, 'lon': -13.301729363872125}}"
      ]
     },
     "execution_count": 9,
     "metadata": {},
     "output_type": "execute_result"
    }
   ],
   "source": [
    "llas"
   ]
  },
  {
   "cell_type": "code",
   "execution_count": 10,
   "metadata": {},
   "outputs": [],
   "source": [
    "from scipy.spatial.transform import Rotation\n",
    "from functools import partial\n",
    "\n",
    "time = times[0]\n",
    "\n",
    "\n",
    "cs_lla_dict = {\n",
    "    \"c1\": {\"lat\": None, \"lon\": None},\n",
    "    \"c2\": {\"lat\": None, \"lon\": None},\n",
    "    \"c3\": {\"lat\": None, \"lon\": None},\n",
    "    \"c4\": {\"lat\": None, \"lon\": None},\n",
    "}\n"
   ]
  },
  {
   "cell_type": "code",
   "execution_count": 11,
   "metadata": {},
   "outputs": [],
   "source": [
    "dx = inst['hfov_deg']/2\n",
    "dy = inst['vfov_deg']/2\n",
    "\n",
    "# dx = 0\n",
    "# dy = 0"
   ]
  },
  {
   "cell_type": "code",
   "execution_count": 12,
   "metadata": {},
   "outputs": [],
   "source": [
    "# %%timeit\n",
    "\n",
    "# for time in times:\n",
    "\n",
    "lvlh = get_lvlh_pointing(sat, time)\n",
    "xyz_dist_rates = sat.at(time).frame_xyz_and_velocity(itrs)\n",
    "xyz_dist = xyz_dist_rates[0]\n",
    "z_rate = xyz_dist_rates[1]\n",
    "\n",
    "lvlh_mat = np.array(list(get_lvlh_pointing(sat, time).values()))\n",
    "lvlh_rot = Rotation.from_matrix(lvlh_mat)\n",
    "\n",
    "corners = lvlh_rot.from_euler('xy', [[-dx,dy],[dx,dy],[dx,-dy],[-dx,-dy]], degrees=True)\n",
    "\n",
    "los_XY = corners.apply(lvlh[\"Z\"])\n",
    "\n",
    "_los_to_earth = partial(los_to_earth, xyz_dist.km)\n",
    "los_xyz = np.apply_along_axis(_los_to_earth, 1, los_XY)\n",
    "\n",
    "c = 0\n",
    "keys = list(cs_lla_dict.keys())\n",
    "\n",
    "for xyz in los_xyz:\n",
    "    key = keys[c]\n",
    "    los_itrs = ITRSPosition(Distance(km=xyz))\n",
    "    los_lat, los_lon = wgs84.latlon_of(los_itrs.at(time))\n",
    "    cs_lla_dict[key][\"lat\"] = los_lat.degrees\n",
    "    cs_lla_dict[key][\"lon\"] = los_lon.degrees\n",
    "    c += 1"
   ]
  },
  {
   "cell_type": "code",
   "execution_count": 13,
   "metadata": {},
   "outputs": [
    {
     "data": {
      "text/plain": [
       "{'c1': {'lat': -61.64043505606069, 'lon': -9.228009639599216},\n",
       " 'c2': {'lat': -61.3102216808999, 'lon': -12.248632272568662},\n",
       " 'c3': {'lat': -62.99211902391925, 'lon': -12.959494967930768},\n",
       " 'c4': {'lat': -63.302988761767196, 'lon': -9.751259001664163}}"
      ]
     },
     "execution_count": 13,
     "metadata": {},
     "output_type": "execute_result"
    }
   ],
   "source": [
    "cs_lla_dict"
   ]
  },
  {
   "cell_type": "code",
   "execution_count": 14,
   "metadata": {},
   "outputs": [
    {
     "data": {
      "text/plain": [
       "{'c1': {'lat': -63.38163240859396, 'lon': -12.146297825585277},\n",
       " 'c2': {'lat': -62.81058302898076, 'lon': -8.709924300718592},\n",
       " 'c3': {'lat': -61.20749510204343, 'lon': -10.024883795288902},\n",
       " 'c4': {'lat': -61.7480644487944, 'lon': -13.301729363872125}}"
      ]
     },
     "execution_count": 14,
     "metadata": {},
     "output_type": "execute_result"
    }
   ],
   "source": [
    "llas"
   ]
  }
 ],
 "metadata": {
  "kernelspec": {
   "display_name": "Python 3.8.13 ('coverage')",
   "language": "python",
   "name": "python3"
  },
  "language_info": {
   "codemirror_mode": {
    "name": "ipython",
    "version": 3
   },
   "file_extension": ".py",
   "mimetype": "text/x-python",
   "name": "python",
   "nbconvert_exporter": "python",
   "pygments_lexer": "ipython3",
   "version": "3.8.13"
  },
  "orig_nbformat": 4,
  "vscode": {
   "interpreter": {
    "hash": "e08235b3b3f261cce032f41d2f5ba53bea32df87899ea41a1c550ca660aae0c9"
   }
  }
 },
 "nbformat": 4,
 "nbformat_minor": 2
}
