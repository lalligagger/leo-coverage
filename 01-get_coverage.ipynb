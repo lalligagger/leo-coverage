{
 "cells": [
  {
   "cell_type": "code",
   "execution_count": 1,
   "metadata": {},
   "outputs": [
    {
     "name": "stdout",
     "output_type": "stream",
     "text": [
      "mkdir: tmp: File exists\n"
     ]
    }
   ],
   "source": [
    "import numpy as np\n",
    "from coverage import *\n",
    "from datetime import datetime, timezone, timedelta\n",
    "\n",
    "from shapely.geometry import Point\n",
    "import geopandas as gpd\n",
    "import pandas as pd\n",
    "import branca\n",
    "import folium\n",
    "\n",
    "! mkdir tmp"
   ]
  },
  {
   "cell_type": "code",
   "execution_count": 2,
   "metadata": {},
   "outputs": [],
   "source": [
    "from landsat import Instrument, Platform, Scene"
   ]
  },
  {
   "cell_type": "code",
   "execution_count": 3,
   "metadata": {},
   "outputs": [],
   "source": [
    "ts = load.timescale()\n",
    "now_utc = datetime.now(timezone.utc)\n",
    "tom_utc = now_utc + timedelta(days=1, hours=2)\n",
    "\n",
    "now_ts = ts.from_datetime(now_utc)\n",
    "tom_ts = ts.from_datetime(tom_utc)"
   ]
  },
  {
   "cell_type": "code",
   "execution_count": 4,
   "metadata": {},
   "outputs": [
    {
     "data": {
      "text/plain": [
       "datetime.datetime(2022, 6, 15, 21, 14, 29, 72810, tzinfo=datetime.timezone.utc)"
      ]
     },
     "execution_count": 4,
     "metadata": {},
     "output_type": "execute_result"
    }
   ],
   "source": [
    "now_utc"
   ]
  },
  {
   "cell_type": "code",
   "execution_count": 5,
   "metadata": {},
   "outputs": [
    {
     "name": "stdout",
     "output_type": "stream",
     "text": [
      "Satellite(s) Loaded from TLE:\n",
      "[<EarthSatellite LANDSAT 8 catalog #39084 epoch 2022-06-14 19:33:45 UTC>]\n",
      "[<EarthSatellite LANDSAT 9 catalog #49260 epoch 2022-06-14 10:29:20 UTC>]\n",
      "Propogation time: \n",
      " 2022-06-10 00:00:00+00:00 \n",
      "to \n",
      " 2022-06-10 23:59:54+00:00\n"
     ]
    }
   ],
   "source": [
    "num_days = 1\n",
    "# tles = gen_sats(sat_nos=[39084,49260])\n",
    "\n",
    "tles = gen_sats(\n",
    "    # sat_nos=[Platform.norad_id]\n",
    "    sat_nos=[39084,49260]\n",
    ")\n",
    "\n",
    "inst = camera_model(\n",
    "    name=\"tirs\", \n",
    "    fl=Instrument.focal_length_mm, \n",
    "    pitch=Instrument.pitch_um*1e-3, \n",
    "    h_pix=Instrument.rows, \n",
    "    v_pix=Instrument.cols, \n",
    ")\n",
    "\n",
    "times = gen_times(\n",
    "    start_yr=2022, \n",
    "    start_mo=6, \n",
    "    start_day=10, \n",
    "    days=num_days, \n",
    "    step_min=Instrument.img_period\n",
    "    ) # Adjusted TIRS for 1 min FOVs\n",
    "\n",
    "xcell_size = ycell_size = .1\n"
   ]
  },
  {
   "cell_type": "code",
   "execution_count": 7,
   "metadata": {},
   "outputs": [],
   "source": [
    "## AOI selection\n",
    "\n",
    "wrs2 = gpd.read_file('./WRS2_descending_0/WRS2_descending.shp')\n",
    "\n",
    "## Select \n",
    "# from gpd naturalearth dataset (filter by .name for country, .continent for continent)\n",
    "world = gpd.read_file(gpd.datasets.get_path('naturalearth_lowres'))\n",
    "\n",
    "## Filter by AOI - should pass to forecast function instead?\n",
    "# aoi =  world[world.name == \"Brazil\"].geometry\n",
    "# aoi =  world[world.continent == \"South America\"].geometry\n",
    "# aoi = world[world.name == \"United States of America\"].geometry\n",
    "\n",
    "aoi = gpd.read_file('./aois/eastern_us.geojson').geometry\n",
    "aoi\n",
    "\n",
    "xmin, ymin, xmax, ymax= aoi.total_bounds\n",
    "wrs2 = wrs2.cx[xmin: xmax, ymin: ymax]\n"
   ]
  },
  {
   "cell_type": "code",
   "execution_count": 8,
   "metadata": {},
   "outputs": [],
   "source": [
    "# wrs2.explore()"
   ]
  },
  {
   "cell_type": "code",
   "execution_count": 9,
   "metadata": {},
   "outputs": [],
   "source": [
    "# ssp_df.geometry.explore()"
   ]
  },
  {
   "cell_type": "code",
   "execution_count": 17,
   "metadata": {},
   "outputs": [
    {
     "data": {
      "text/html": [
       "<div>\n",
       "<style scoped>\n",
       "    .dataframe tbody tr th:only-of-type {\n",
       "        vertical-align: middle;\n",
       "    }\n",
       "\n",
       "    .dataframe tbody tr th {\n",
       "        vertical-align: top;\n",
       "    }\n",
       "\n",
       "    .dataframe thead th {\n",
       "        text-align: right;\n",
       "    }\n",
       "</style>\n",
       "<table border=\"1\" class=\"dataframe\">\n",
       "  <thead>\n",
       "    <tr style=\"text-align: right;\">\n",
       "      <th></th>\n",
       "      <th>geometry</th>\n",
       "      <th>satellite</th>\n",
       "      <th>id</th>\n",
       "      <th>time</th>\n",
       "      <th>lonspan</th>\n",
       "      <th>color</th>\n",
       "    </tr>\n",
       "  </thead>\n",
       "  <tbody>\n",
       "    <tr>\n",
       "      <th>100</th>\n",
       "      <td>POLYGON ((-124.50340 81.00725, -124.14768 82.6...</td>\n",
       "      <td>LANDSAT 8</td>\n",
       "      <td>139084</td>\n",
       "      <td>2022-06-10 00:36:40 UTC</td>\n",
       "      <td>13.056827</td>\n",
       "      <td>#ff0000ff</td>\n",
       "    </tr>\n",
       "    <tr>\n",
       "      <th>101</th>\n",
       "      <td>POLYGON ((-133.07357 80.94444, -134.54291 82.5...</td>\n",
       "      <td>LANDSAT 8</td>\n",
       "      <td>139084</td>\n",
       "      <td>2022-06-10 00:37:02 UTC</td>\n",
       "      <td>13.800111</td>\n",
       "      <td>#ff0000ff</td>\n",
       "    </tr>\n",
       "    <tr>\n",
       "      <th>102</th>\n",
       "      <td>POLYGON ((-141.35621 80.69119, -144.43125 82.2...</td>\n",
       "      <td>LANDSAT 8</td>\n",
       "      <td>139084</td>\n",
       "      <td>2022-06-10 00:37:24 UTC</td>\n",
       "      <td>14.143407</td>\n",
       "      <td>#ff0000ff</td>\n",
       "    </tr>\n",
       "    <tr>\n",
       "      <th>103</th>\n",
       "      <td>POLYGON ((-149.06618 80.26231, -153.35458 81.7...</td>\n",
       "      <td>LANDSAT 8</td>\n",
       "      <td>139084</td>\n",
       "      <td>2022-06-10 00:37:46 UTC</td>\n",
       "      <td>13.874563</td>\n",
       "      <td>#ff0000ff</td>\n",
       "    </tr>\n",
       "    <tr>\n",
       "      <th>104</th>\n",
       "      <td>POLYGON ((-156.03211 79.67966, -161.10836 81.0...</td>\n",
       "      <td>LANDSAT 8</td>\n",
       "      <td>139084</td>\n",
       "      <td>2022-06-10 00:38:08 UTC</td>\n",
       "      <td>13.209518</td>\n",
       "      <td>#ff0000ff</td>\n",
       "    </tr>\n",
       "    <tr>\n",
       "      <th>...</th>\n",
       "      <td>...</td>\n",
       "      <td>...</td>\n",
       "      <td>...</td>\n",
       "      <td>...</td>\n",
       "      <td>...</td>\n",
       "      <td>...</td>\n",
       "    </tr>\n",
       "    <tr>\n",
       "      <th>7797</th>\n",
       "      <td>POLYGON ((111.98320 -79.91424, 106.23565 -78.6...</td>\n",
       "      <td>LANDSAT 9</td>\n",
       "      <td>149260</td>\n",
       "      <td>2022-06-10 23:38:38 UTC</td>\n",
       "      <td>13.399840</td>\n",
       "      <td>#0000ffff</td>\n",
       "    </tr>\n",
       "    <tr>\n",
       "      <th>7798</th>\n",
       "      <td>POLYGON ((105.86540 -80.76655, 100.42456 -79.3...</td>\n",
       "      <td>LANDSAT 9</td>\n",
       "      <td>149260</td>\n",
       "      <td>2022-06-10 23:39:00 UTC</td>\n",
       "      <td>14.113241</td>\n",
       "      <td>#0000ffff</td>\n",
       "    </tr>\n",
       "    <tr>\n",
       "      <th>7799</th>\n",
       "      <td>POLYGON ((98.63112 -81.49956, 93.82453 -80.019...</td>\n",
       "      <td>LANDSAT 9</td>\n",
       "      <td>149260</td>\n",
       "      <td>2022-06-10 23:39:22 UTC</td>\n",
       "      <td>14.455009</td>\n",
       "      <td>#0000ffff</td>\n",
       "    </tr>\n",
       "    <tr>\n",
       "      <th>7800</th>\n",
       "      <td>POLYGON ((90.21578 -82.08009, 86.45600 -80.510...</td>\n",
       "      <td>LANDSAT 9</td>\n",
       "      <td>149260</td>\n",
       "      <td>2022-06-10 23:39:44 UTC</td>\n",
       "      <td>14.206471</td>\n",
       "      <td>#0000ffff</td>\n",
       "    </tr>\n",
       "    <tr>\n",
       "      <th>7801</th>\n",
       "      <td>POLYGON ((80.72382 -82.47280, 78.43935 -80.837...</td>\n",
       "      <td>LANDSAT 9</td>\n",
       "      <td>149260</td>\n",
       "      <td>2022-06-10 23:40:06 UTC</td>\n",
       "      <td>13.317232</td>\n",
       "      <td>#0000ffff</td>\n",
       "    </tr>\n",
       "  </tbody>\n",
       "</table>\n",
       "<p>3876 rows × 6 columns</p>\n",
       "</div>"
      ],
      "text/plain": [
       "                                               geometry  satellite      id  \\\n",
       "100   POLYGON ((-124.50340 81.00725, -124.14768 82.6...  LANDSAT 8  139084   \n",
       "101   POLYGON ((-133.07357 80.94444, -134.54291 82.5...  LANDSAT 8  139084   \n",
       "102   POLYGON ((-141.35621 80.69119, -144.43125 82.2...  LANDSAT 8  139084   \n",
       "103   POLYGON ((-149.06618 80.26231, -153.35458 81.7...  LANDSAT 8  139084   \n",
       "104   POLYGON ((-156.03211 79.67966, -161.10836 81.0...  LANDSAT 8  139084   \n",
       "...                                                 ...        ...     ...   \n",
       "7797  POLYGON ((111.98320 -79.91424, 106.23565 -78.6...  LANDSAT 9  149260   \n",
       "7798  POLYGON ((105.86540 -80.76655, 100.42456 -79.3...  LANDSAT 9  149260   \n",
       "7799  POLYGON ((98.63112 -81.49956, 93.82453 -80.019...  LANDSAT 9  149260   \n",
       "7800  POLYGON ((90.21578 -82.08009, 86.45600 -80.510...  LANDSAT 9  149260   \n",
       "7801  POLYGON ((80.72382 -82.47280, 78.43935 -80.837...  LANDSAT 9  149260   \n",
       "\n",
       "                         time    lonspan      color  \n",
       "100   2022-06-10 00:36:40 UTC  13.056827  #ff0000ff  \n",
       "101   2022-06-10 00:37:02 UTC  13.800111  #ff0000ff  \n",
       "102   2022-06-10 00:37:24 UTC  14.143407  #ff0000ff  \n",
       "103   2022-06-10 00:37:46 UTC  13.874563  #ff0000ff  \n",
       "104   2022-06-10 00:38:08 UTC  13.209518  #ff0000ff  \n",
       "...                       ...        ...        ...  \n",
       "7797  2022-06-10 23:38:38 UTC  13.399840  #0000ffff  \n",
       "7798  2022-06-10 23:39:00 UTC  14.113241  #0000ffff  \n",
       "7799  2022-06-10 23:39:22 UTC  14.455009  #0000ffff  \n",
       "7800  2022-06-10 23:39:44 UTC  14.206471  #0000ffff  \n",
       "7801  2022-06-10 23:40:06 UTC  13.317232  #0000ffff  \n",
       "\n",
       "[3876 rows x 6 columns]"
      ]
     },
     "execution_count": 17,
     "metadata": {},
     "output_type": "execute_result"
    }
   ],
   "source": [
    "## Batch FOV generation over N satellites\n",
    "gdfs = []\n",
    "for tle in tles:\n",
    "    sat = tle[0]\n",
    "    poly_df = forecast_fovs(sat, times, inst)\n",
    "    gdfs.append(poly_df)\n",
    "\n",
    "poly_df = gpd.GeoDataFrame(pd.concat(gdfs, ignore_index=True), crs=\"epsg:4326\")\n",
    "\n",
    "## Filter shapes crossing anti-meridian - also in main function\n",
    "## TODO: Switch to stactools solution\n",
    "poly_df[\"lonspan\"] = poly_df.bounds['maxx'] - poly_df.bounds['minx']\n",
    "\n",
    "## Create cmap for unique satellites and create color column\n",
    "sat_ids = list(poly_df[\"id\"].unique()).sort()\n",
    "cmap = branca.colormap.StepColormap(['red', 'blue'], sat_ids, vmin=139084, vmax = 149260)\n",
    "\n",
    "poly_df['color'] = poly_df['id'].apply(cmap)\n",
    "\n",
    "plot_df = poly_df[poly_df[\"lonspan\"] < 20].copy()\n",
    "\n",
    "for satname in plot_df.satellite.unique():\n",
    "    plot_df[plot_df.satellite==satname].to_file(\"./tmp/{}_fovs.geojson\".format(satname.replace(\" \", \"_\")))\n",
    "plot_df"
   ]
  },
  {
   "cell_type": "code",
   "execution_count": 11,
   "metadata": {},
   "outputs": [],
   "source": [
    "## Select AOI from gpd naturalearth dataset (filter by .name for country, .continent for continent)\n",
    "world = gpd.read_file(gpd.datasets.get_path('naturalearth_lowres'))\n",
    "\n",
    "## Filter by AOI - should pass to forecast function instead?\n",
    "# aoi =  world[world.name == \"Brazil\"].geometry\n",
    "# aoi =  world[world.continent == \"South America\"].geometry\n",
    "aoi = world[world.name == \"United States of America\"]#.geometry\n",
    "\n",
    "aoi = gpd.read_file('./aois/eastern_us.geojson').geometry\n",
    "aoi\n",
    "\n",
    "xmin, ymin, xmax, ymax= aoi.total_bounds\n",
    "plot_df = plot_df.cx[xmin: xmax, ymin: ymax]"
   ]
  },
  {
   "cell_type": "code",
   "execution_count": 12,
   "metadata": {},
   "outputs": [
    {
     "data": {
      "text/plain": [
       "count    113250.000000\n",
       "mean          0.230031\n",
       "std           0.516558\n",
       "min           0.000000\n",
       "25%           0.000000\n",
       "50%           0.000000\n",
       "75%           0.000000\n",
       "max           2.000000\n",
       "Name: n_visits, dtype: float64"
      ]
     },
     "execution_count": 12,
     "metadata": {},
     "output_type": "execute_result"
    }
   ],
   "source": [
    "## Coverage data analysis for single satellite/ batch of satellites\n",
    "\n",
    "# 1) Create a grid of equally spaced points\n",
    "grid, grid_shape = create_grid(aoi.total_bounds, xcell_size, ycell_size)\n",
    "\n",
    "# 2) Add \"n_visits\" column to grid using sjoin/ dissolve\n",
    "shapes = gpd.GeoDataFrame(plot_df.geometry)\n",
    "merged = gpd.sjoin(shapes, grid, how='left', predicate=\"intersects\")\n",
    "merged['n_visits']=0 # this will be replaced with nan or positive int where n_visits > 0\n",
    "dissolve = merged.dissolve(by=\"index_right\", aggfunc=\"count\") # no difference in count vs. sum here?\n",
    "grid.loc[dissolve.index, 'n_visits'] = dissolve.n_visits.values\n",
    "\n",
    "grid.to_file('./tmp/n_visits.geojson')\n",
    "grid.n_visits.fillna(0).describe()"
   ]
  },
  {
   "cell_type": "code",
   "execution_count": 13,
   "metadata": {},
   "outputs": [],
   "source": [
    "## Plotting FOVs\n",
    "\n",
    "## Make a folium map\n",
    "m = plot_df.explore(color=\"color\", tooltip=[\"satellite\", \"time\"])\n",
    "\n",
    "## Add WRS2\n",
    "# folium.GeoJson(data=wrs2[\"geometry\"], overlay=False).add_to(m)\n",
    "\n",
    "\n",
    "## View or save\n",
    "m.save(\"./tmp/fov_output.html\")"
   ]
  },
  {
   "cell_type": "code",
   "execution_count": 14,
   "metadata": {},
   "outputs": [],
   "source": [
    "## Plotting Revisit Map\n",
    "\n",
    "## Form 2D array of n_visits based on grid shape\n",
    "img = np.rot90(grid.n_visits.values.reshape(grid_shape))\n",
    "\n",
    "## Create colormap and apply to img\n",
    "## TODO: Make this our geoTIFF item for STAC catalog\n",
    "colormap = branca.colormap.step.viridis.scale(1, grid.n_visits.max())\n",
    "# colormap = branca.colormap.step.viridis.scale(1, 2)\n",
    "\n",
    "def colorfunc(x):\n",
    "    if np.isnan(x):\n",
    "        return (0,0,0,0)\n",
    "    else:\n",
    "        return colormap.rgba_bytes_tuple(x)\n",
    "\n",
    "# Apply cmap to img array and rearrange for RGBA\n",
    "cmap = np.vectorize(colorfunc)\n",
    "rgba_img = np.array(cmap(img))\n",
    "rgba_img = np.moveaxis(rgba_img, 0, 2)\n",
    "\n",
    "# Update image corner bounds based on cell size\n",
    "xmin, ymin, xmax, ymax= grid.total_bounds\n",
    "xmin = xmin - xcell_size/2\n",
    "ymin = ymin - ycell_size/2\n",
    "xmax = xmax + xcell_size/2\n",
    "ymax = ymax + ycell_size/2\n",
    "\n",
    "m = folium.Map()\n",
    "m.fit_bounds([[ymin, xmin], [ymax, xmax]])\n",
    "m.add_child(folium.raster_layers.ImageOverlay(rgba_img, opacity=.4, mercator_project=True,# crs=\"EPSG:4326\",\n",
    "                                 bounds = [[ymin,xmin],[ymax,xmax]]))\n",
    "colormap.add_to(m)\n",
    "m.save(\"./tmp/coverage_output.html\")"
   ]
  },
  {
   "cell_type": "code",
   "execution_count": null,
   "metadata": {},
   "outputs": [],
   "source": []
  }
 ],
 "metadata": {
  "interpreter": {
   "hash": "6732e973076e7115f37404b6c02070351da73f1ea73132f1ec72b9bbd3b6f861"
  },
  "kernelspec": {
   "display_name": "Python 3.9.4 64-bit ('skyfield': virtualenv)",
   "language": "python",
   "name": "python3"
  },
  "language_info": {
   "codemirror_mode": {
    "name": "ipython",
    "version": 3
   },
   "file_extension": ".py",
   "mimetype": "text/x-python",
   "name": "python",
   "nbconvert_exporter": "python",
   "pygments_lexer": "ipython3",
   "version": "3.9.4"
  },
  "orig_nbformat": 4
 },
 "nbformat": 4,
 "nbformat_minor": 2
}
