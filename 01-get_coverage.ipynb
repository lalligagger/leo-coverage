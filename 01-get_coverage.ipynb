{
 "cells": [
  {
   "cell_type": "code",
   "execution_count": null,
   "metadata": {},
   "outputs": [],
   "source": [
    "import numpy as np\n",
    "from coverage import *\n",
    "from datetime import datetime, timezone, timedelta\n",
    "\n",
    "from shapely.geometry import Point\n",
    "import geopandas as gpd\n",
    "import pandas as pd\n",
    "import branca\n",
    "import folium\n",
    "\n",
    "! mkdir tmp"
   ]
  },
  {
   "cell_type": "code",
   "execution_count": null,
   "metadata": {},
   "outputs": [],
   "source": [
    "from landsat import Instrument, Platform, Scene"
   ]
  },
  {
   "cell_type": "code",
   "execution_count": null,
   "metadata": {},
   "outputs": [],
   "source": [
    "start_dt = datetime.fromisoformat(Scene.start_utc)\n",
    "num_days = 8\n",
    "\n",
    "tles = gen_sats(\n",
    "    # sat_nos=[Platform.norad_id] # How to best handle multiple platforms? (TLE vs. SPG4 model too)\n",
    "    sat_nos=[39084,49260]\n",
    ")\n",
    "\n",
    "inst = camera_model(\n",
    "    name=Instrument.name, \n",
    "    fl=Instrument.focal_length_mm, \n",
    "    pitch=Instrument.pitch_um*1e-3, \n",
    "    h_pix=Instrument.rows, \n",
    "    v_pix=Instrument.cols, \n",
    ")\n",
    "\n",
    "times = gen_times(\n",
    "    start_yr=start_dt.year,\n",
    "    start_mo=start_dt.month, \n",
    "    start_day=start_dt.day, \n",
    "    days=num_days, \n",
    "    step_min=Instrument.img_period)\n",
    "\n",
    "xcell_size = ycell_size = .1"
   ]
  },
  {
   "cell_type": "code",
   "execution_count": null,
   "metadata": {},
   "outputs": [],
   "source": [
    "## Batch FOV generation over N satellites - TODO: build multiple sats into config/ main script\n",
    "gdfs = []\n",
    "for tle in tles:\n",
    "    sat = tle[0]\n",
    "    fov_df = forecast_fovs(sat, times, inst)\n",
    "    gdfs.append(fov_df)\n",
    "fov_df = gpd.GeoDataFrame(pd.concat(gdfs, ignore_index=True), crs=\"epsg:4326\")\n",
    "\n",
    "## Filter shapes crossing anti-meridian - also in main function\n",
    "## TODO: Switch to stactools solution for this\n",
    "fov_df[\"lonspan\"] = fov_df.bounds['maxx'] - fov_df.bounds['minx']\n",
    "fov_df = fov_df[fov_df[\"lonspan\"] < 20].copy()\n",
    "\n",
    "## Create cmap for unique satellites and create color column\n",
    "sat_ids = list(fov_df[\"id\"].unique()).sort()\n",
    "cmap = branca.colormap.StepColormap(['red', 'blue'], sat_ids, vmin=139084, vmax = 149260)\n",
    "fov_df['color'] = fov_df['id'].apply(cmap)\n",
    "\n",
    "## Save to geojson based on sat name\n",
    "for satname in fov_df.satellite.unique():\n",
    "    fov_df[fov_df.satellite==satname].to_file(\"./tmp/{}_fovs.geojson\".format(satname.replace(\" \", \"_\")))\n",
    "fov_df"
   ]
  },
  {
   "cell_type": "code",
   "execution_count": null,
   "metadata": {},
   "outputs": [],
   "source": [
    "## Select AOI from gpd naturalearth dataset (filter by .name for country, .continent for continent)\n",
    "world = gpd.read_file(gpd.datasets.get_path('naturalearth_lowres'))\n",
    "# aoi =  world[world.name == \"Brazil\"].geometry\n",
    "# aoi =  world[world.continent == \"South America\"].geometry\n",
    "\n",
    "## Or read in aoi from .geojson\n",
    "# aoi = world[world.name == \"United States of America\"].geometry # Includes Alaska...\n",
    "aoi = gpd.read_file('./aois/eastern_us.geojson').geometry # ...so use AOI for subsection of US\n",
    "\n",
    "## Filter fov_df by aoi\n",
    "xmin, ymin, xmax, ymax= aoi.total_bounds\n",
    "fov_df = fov_df.cx[xmin: xmax, ymin: ymax]"
   ]
  },
  {
   "cell_type": "code",
   "execution_count": null,
   "metadata": {},
   "outputs": [],
   "source": [
    "## Coverage data analysis for single satellite/ batch of satellites\n",
    "grid, grid_shape = calculate_revisits(fov_df, aoi, grid_x=xcell_size, grid_y=ycell_size)\n",
    "grid.to_file('./tmp/all_revisits.geojson')\n",
    "grid.n_visits.fillna(0).describe()"
   ]
  },
  {
   "cell_type": "code",
   "execution_count": null,
   "metadata": {},
   "outputs": [],
   "source": [
    "m = revisit_map(grid, grid_shape, grid_x=xcell_size, grid_y=ycell_size)\n",
    "m#.save(\"./tmp/revisits_map.html\")"
   ]
  },
  {
   "cell_type": "code",
   "execution_count": null,
   "metadata": {},
   "outputs": [],
   "source": [
    "## Plotting FOVs\n",
    "\n",
    "## Make a folium map\n",
    "m = fov_df.explore(color=\"color\", tooltip=[\"satellite\", \"time\"])\n",
    "\n",
    "## Add WRS2\n",
    "# wrs2 = gpd.read_file('./WRS2_descending_0/WRS2_descending.shp')\n",
    "# wrs2 = wrs2.cx[xmin: xmax, ymin: ymax]\n",
    "# folium.GeoJson(data=wrs2[\"geometry\"], overlay=False).add_to(m)\n",
    "\n",
    "## View or save\n",
    "m#.save(\"./tmp/fovs_map.html\")"
   ]
  }
 ],
 "metadata": {
  "interpreter": {
   "hash": "6732e973076e7115f37404b6c02070351da73f1ea73132f1ec72b9bbd3b6f861"
  },
  "kernelspec": {
   "display_name": "Python 3.9.4 64-bit ('skyfield': virtualenv)",
   "language": "python",
   "name": "python3"
  },
  "language_info": {
   "codemirror_mode": {
    "name": "ipython",
    "version": 3
   },
   "file_extension": ".py",
   "mimetype": "text/x-python",
   "name": "python",
   "nbconvert_exporter": "python",
   "pygments_lexer": "ipython3",
   "version": "3.9.4"
  },
  "orig_nbformat": 4
 },
 "nbformat": 4,
 "nbformat_minor": 2
}
