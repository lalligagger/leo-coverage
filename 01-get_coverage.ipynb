{
 "cells": [
  {
   "cell_type": "code",
   "execution_count": null,
   "metadata": {},
   "outputs": [],
   "source": [
    "import numpy as np\n",
    "from coverage import *\n",
    "from datetime import datetime, timezone, timedelta\n",
    "\n",
    "from shapely.geometry import Point\n",
    "import geopandas as gpd\n",
    "import pandas as pd\n",
    "import branca\n",
    "import folium\n",
    "\n",
    "! mkdir tmp"
   ]
  },
  {
   "cell_type": "code",
   "execution_count": null,
   "metadata": {},
   "outputs": [],
   "source": [
    "from landsat import Instrument, Platform, Scene"
   ]
  },
  {
   "cell_type": "code",
   "execution_count": null,
   "metadata": {},
   "outputs": [],
   "source": [
    "ts = load.timescale()\n",
    "now_utc = datetime.now(timezone.utc)\n",
    "tom_utc = now_utc + timedelta(days=1, hours=0.5)\n",
    "\n",
    "now_utc2 = datetime.fromisoformat(str(now_utc))\n",
    "\n",
    "now_ts = ts.from_datetime(now_utc)\n",
    "now_rt = ts.from_datetime(now_utc2)\n",
    "assert now_ts == now_rt\n",
    "tom_ts = ts.from_datetime(tom_utc)"
   ]
  },
  {
   "cell_type": "code",
   "execution_count": null,
   "metadata": {},
   "outputs": [],
   "source": [
    "start_dt = datetime.fromisoformat(Scene.start_utc)\n",
    "\n",
    "num_days = 1\n",
    "\n",
    "tles = gen_sats(\n",
    "    # sat_nos=[Platform.norad_id]\n",
    "    sat_nos=[39084,49260]\n",
    ")\n",
    "\n",
    "inst = camera_model(\n",
    "    name=Instrument.name, \n",
    "    fl=Instrument.focal_length_mm, \n",
    "    pitch=Instrument.pitch_um*1e-3, \n",
    "    h_pix=Instrument.rows, \n",
    "    v_pix=Instrument.cols, \n",
    ")\n",
    "\n",
    "times = gen_times(\n",
    "    start_yr=start_dt.year,\n",
    "    start_mo=start_dt.month, \n",
    "    start_day=start_dt.day, \n",
    "    days=1, \n",
    "    step_min=Instrument.img_period)\n",
    "\n",
    "xcell_size = ycell_size = .1\n"
   ]
  },
  {
   "cell_type": "code",
   "execution_count": null,
   "metadata": {},
   "outputs": [],
   "source": [
    "## AOI selection\n",
    "# could select by path/ row?\n",
    "wrs2 = gpd.read_file('./WRS2_descending_0/WRS2_descending.shp')\n",
    "\n",
    "## Filter by AOI - should pass to forecast function instead?\n",
    "world = gpd.read_file(gpd.datasets.get_path('naturalearth_lowres'))\n",
    "\n",
    "# aoi =  world[world.name == \"Brazil\"].geometry\n",
    "# aoi =  world[world.continent == \"South America\"].geometry\n",
    "aoi = gpd.read_file('./aois/eastern_us.geojson').geometry\n",
    "aoi\n",
    "\n",
    "xmin, ymin, xmax, ymax= aoi.total_bounds\n",
    "wrs2 = wrs2.cx[xmin: xmax, ymin: ymax]\n"
   ]
  },
  {
   "cell_type": "code",
   "execution_count": null,
   "metadata": {},
   "outputs": [],
   "source": [
    "# wrs2.explore()"
   ]
  },
  {
   "cell_type": "code",
   "execution_count": null,
   "metadata": {},
   "outputs": [],
   "source": [
    "# ssp_df.geometry.explore()"
   ]
  },
  {
   "cell_type": "code",
   "execution_count": null,
   "metadata": {},
   "outputs": [],
   "source": [
    "## Batch FOV generation over N satellites\n",
    "gdfs = []\n",
    "for tle in tles:\n",
    "    sat = tle[0]\n",
    "    fov_df = forecast_fovs(sat, times, inst)\n",
    "    gdfs.append(fov_df)\n",
    "\n",
    "fov_df = gpd.GeoDataFrame(pd.concat(gdfs, ignore_index=True), crs=\"epsg:4326\")\n",
    "\n",
    "## Filter shapes crossing anti-meridian - also in main function\n",
    "## TODO: Switch to stactools solution\n",
    "fov_df[\"lonspan\"] = fov_df.bounds['maxx'] - fov_df.bounds['minx']\n",
    "\n",
    "## Create cmap for unique satellites and create color column\n",
    "sat_ids = list(fov_df[\"id\"].unique()).sort()\n",
    "cmap = branca.colormap.StepColormap(['red', 'blue'], sat_ids, vmin=139084, vmax = 149260)\n",
    "\n",
    "fov_df['color'] = fov_df['id'].apply(cmap)\n",
    "\n",
    "fov_df = fov_df[fov_df[\"lonspan\"] < 20].copy()\n",
    "\n",
    "for satname in fov_df.satellite.unique():\n",
    "    fov_df[fov_df.satellite==satname].to_file(\"./tmp/{}_fovs.geojson\".format(satname.replace(\" \", \"_\")))\n",
    "fov_df"
   ]
  },
  {
   "cell_type": "code",
   "execution_count": null,
   "metadata": {},
   "outputs": [],
   "source": [
    "## Select AOI from gpd naturalearth dataset (filter by .name for country, .continent for continent)\n",
    "world = gpd.read_file(gpd.datasets.get_path('naturalearth_lowres'))\n",
    "\n",
    "## Filter by AOI - should pass to forecast function instead?\n",
    "# aoi =  world[world.name == \"Brazil\"].geometry\n",
    "# aoi =  world[world.continent == \"South America\"].geometry\n",
    "aoi = world[world.name == \"United States of America\"]#.geometry\n",
    "\n",
    "aoi = gpd.read_file('./aois/eastern_us.geojson').geometry\n",
    "aoi\n",
    "\n",
    "xmin, ymin, xmax, ymax= aoi.total_bounds\n",
    "fov_df = fov_df.cx[xmin: xmax, ymin: ymax]"
   ]
  },
  {
   "cell_type": "code",
   "execution_count": null,
   "metadata": {},
   "outputs": [],
   "source": [
    "## Coverage data analysis for single satellite/ batch of satellites\n",
    "\n",
    "# 1) Create a grid of equally spaced points\n",
    "grid, grid_shape = create_grid(aoi.total_bounds, xcell_size, ycell_size)\n",
    "\n",
    "# 2) Add \"n_visits\" column to grid using sjoin/ dissolve\n",
    "shapes = gpd.GeoDataFrame(fov_df.geometry)\n",
    "merged = gpd.sjoin(shapes, grid, how='left', predicate=\"intersects\")\n",
    "merged['n_visits']=0 # this will be replaced with nan or positive int where n_visits > 0\n",
    "dissolve = merged.dissolve(by=\"index_right\", aggfunc=\"count\") # no difference in count vs. sum here?\n",
    "grid.loc[dissolve.index, 'n_visits'] = dissolve.n_visits.values\n",
    "\n",
    "grid.to_file('./tmp/n_visits.geojson')\n",
    "grid.n_visits.fillna(0).describe()"
   ]
  },
  {
   "cell_type": "code",
   "execution_count": null,
   "metadata": {},
   "outputs": [],
   "source": [
    "## Plotting FOVs\n",
    "\n",
    "## Make a folium map\n",
    "m = fov_df.explore(color=\"color\", tooltip=[\"satellite\", \"time\"])\n",
    "\n",
    "## Add WRS2\n",
    "# folium.GeoJson(data=wrs2[\"geometry\"], overlay=False).add_to(m)\n",
    "\n",
    "\n",
    "## View or save\n",
    "m.save(\"./tmp/fov_output.html\")"
   ]
  },
  {
   "cell_type": "code",
   "execution_count": null,
   "metadata": {},
   "outputs": [],
   "source": [
    "## Plotting Revisit Map\n",
    "\n",
    "## Form 2D array of n_visits based on grid shape\n",
    "img = np.rot90(grid.n_visits.values.reshape(grid_shape))\n",
    "\n",
    "## Create colormap and apply to img\n",
    "## TODO: Make this our geoTIFF item for STAC catalog\n",
    "colormap = branca.colormap.step.viridis.scale(1, grid.n_visits.max())\n",
    "# colormap = branca.colormap.step.viridis.scale(1, 2)\n",
    "\n",
    "def colorfunc(x):\n",
    "    if np.isnan(x):\n",
    "        return (0,0,0,0)\n",
    "    else:\n",
    "        return colormap.rgba_bytes_tuple(x)\n",
    "\n",
    "# Apply cmap to img array and rearrange for RGBA\n",
    "cmap = np.vectorize(colorfunc)\n",
    "rgba_img = np.array(cmap(img))\n",
    "rgba_img = np.moveaxis(rgba_img, 0, 2)\n",
    "\n",
    "# Update image corner bounds based on cell size\n",
    "xmin, ymin, xmax, ymax= grid.total_bounds\n",
    "xmin = xmin - xcell_size/2\n",
    "ymin = ymin - ycell_size/2\n",
    "xmax = xmax + xcell_size/2\n",
    "ymax = ymax + ycell_size/2\n",
    "\n",
    "m = folium.Map()\n",
    "m.fit_bounds([[ymin, xmin], [ymax, xmax]])\n",
    "m.add_child(folium.raster_layers.ImageOverlay(rgba_img, opacity=.4, mercator_project=True,# crs=\"EPSG:4326\",\n",
    "                                 bounds = [[ymin,xmin],[ymax,xmax]]))\n",
    "colormap.add_to(m)\n",
    "m.save(\"./tmp/coverage_output.html\")"
   ]
  },
  {
   "cell_type": "code",
   "execution_count": null,
   "metadata": {},
   "outputs": [],
   "source": []
  }
 ],
 "metadata": {
  "interpreter": {
   "hash": "6732e973076e7115f37404b6c02070351da73f1ea73132f1ec72b9bbd3b6f861"
  },
  "kernelspec": {
   "display_name": "Python 3.9.4 64-bit ('skyfield': virtualenv)",
   "language": "python",
   "name": "python3"
  },
  "language_info": {
   "codemirror_mode": {
    "name": "ipython",
    "version": 3
   },
   "file_extension": ".py",
   "mimetype": "text/x-python",
   "name": "python",
   "nbconvert_exporter": "python",
   "pygments_lexer": "ipython3",
   "version": "3.9.4"
  },
  "orig_nbformat": 4
 },
 "nbformat": 4,
 "nbformat_minor": 2
}
