{
 "cells": [
  {
   "cell_type": "code",
   "execution_count": null,
   "metadata": {},
   "outputs": [],
   "source": [
    "import numpy as np\n",
    "from coverage import *\n",
    "\n",
    "from shapely.geometry import Point\n",
    "import geopandas as gpd\n",
    "import pandas as pd\n",
    "import branca\n",
    "import folium\n"
   ]
  },
  {
   "cell_type": "code",
   "execution_count": null,
   "metadata": {},
   "outputs": [],
   "source": [
    "num_days = 0.25\n",
    "\n",
    "# Pull TLEs for SPG4 propagation\n",
    "tles = gen_sats(sat_nos=[39084,49260])\n",
    "\n",
    "# Generate time range\n",
    "# times = gen_times(start_yr=2022, start_mo=6, start_day=10, days=num_days, step_min=1)\n",
    "times = gen_times(start_yr=2022, start_mo=6, start_day=15, days=num_days, step_min=0.22) # Landsat duty cycle ~23 sec"
   ]
  },
  {
   "cell_type": "code",
   "execution_count": null,
   "metadata": {},
   "outputs": [],
   "source": [
    "cmap = {'LANDSAT 9': '#0000ffff', 'LANDSAT 8': '#ff0000ff'}"
   ]
  },
  {
   "cell_type": "code",
   "execution_count": null,
   "metadata": {},
   "outputs": [],
   "source": [
    "# Calculate all sub-satellite points (SSPs) for sats/ times\n",
    "ssps = []\n",
    "for tle in tles:\n",
    "    sat = tle[0]\n",
    "    for time in times:\n",
    "        ssp_lat, ssp_lon, d = get_los(sat, time)\n",
    "\n",
    "        xyz_dist_rates = sat.at(time).frame_xyz_and_velocity(itrs)\n",
    "        # xyz_dist = xyz_dist_rates[0]\n",
    "        z_rate = xyz_dist_rates[1]\n",
    "\n",
    "        # Descending only filter:\n",
    "        if z_rate.km_per_s[2] < 0:\n",
    "            orbit = \"descending\"\n",
    "        if z_rate.km_per_s[2] > 0:\n",
    "            orbit = \"ascending\"\n",
    "\n",
    "        ssps.append(\n",
    "            {\n",
    "            'time' : time.utc_datetime(),\n",
    "            'geometry' : Point(ssp_lon.degrees, ssp_lat.degrees),\n",
    "            'range' : d,\n",
    "            'color' : cmap[sat.name],\n",
    "            'orbit' : orbit\n",
    "            }\n",
    "        )"
   ]
  },
  {
   "cell_type": "code",
   "execution_count": null,
   "metadata": {},
   "outputs": [],
   "source": [
    "# create geo df of SSPs\n",
    "ssp_df = gpd.GeoDataFrame(ssps, crs=\"epsg:4326\")\n",
    "\n",
    "# drop time column and plot\n",
    "ssp_df.drop(\"time\", axis=1).explore(\n",
    "    color=\"color\", tooltip=True, style_kwds={\"stroke\":False}\n",
    ")"
   ]
  },
  {
   "cell_type": "code",
   "execution_count": null,
   "metadata": {},
   "outputs": [],
   "source": [
    "world = gpd.read_file(gpd.datasets.get_path('naturalearth_lowres'))\n",
    "# world.explore()"
   ]
  },
  {
   "cell_type": "code",
   "execution_count": null,
   "metadata": {},
   "outputs": [],
   "source": [
    "# filter for SSPs over land\n",
    "land_ssp_df = gpd.sjoin(ssp_df, world, predicate='within', how='inner')\n",
    "\n",
    "# drop time column, filter for descending orbits, and plot\n",
    "land_ssp_df[land_ssp_df.orbit == \"descending\"].drop(\n",
    "    'time', axis=1\n",
    "    ).explore(\n",
    "        color=\"color\", tooltip=False, style_kwds={\"stroke\":False}\n",
    "        )"
   ]
  }
 ],
 "metadata": {
  "interpreter": {
   "hash": "6732e973076e7115f37404b6c02070351da73f1ea73132f1ec72b9bbd3b6f861"
  },
  "kernelspec": {
   "display_name": "Python 3.9.4 ('skyfield')",
   "language": "python",
   "name": "python3"
  },
  "language_info": {
   "codemirror_mode": {
    "name": "ipython",
    "version": 3
   },
   "file_extension": ".py",
   "mimetype": "text/x-python",
   "name": "python",
   "nbconvert_exporter": "python",
   "pygments_lexer": "ipython3",
   "version": "3.9.4"
  },
  "orig_nbformat": 4
 },
 "nbformat": 4,
 "nbformat_minor": 2
}
