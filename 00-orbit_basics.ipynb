{
 "cells": [
  {
   "cell_type": "code",
   "execution_count": null,
   "metadata": {},
   "outputs": [],
   "source": [
    "import numpy as np\n",
    "from coverage import *\n",
    "\n",
    "from shapely.geometry import Point\n",
    "import geopandas as gpd\n",
    "import pandas as pd\n",
    "import branca\n",
    "import folium\n"
   ]
  },
  {
   "cell_type": "code",
   "execution_count": null,
   "metadata": {},
   "outputs": [],
   "source": [
    "num_days = 1\n",
    "tles = gen_sats(sat_nos=[39084,49260])\n",
    "\n",
    "# Generate the instrument from basic specs\n",
    "# times = gen_times(start_yr=2022, start_mo=6, start_day=10, days=num_days, step_min=1) # Adjusted TIRS for 1 min FOVs\n",
    "# inst = gen_instrument(name=\"tirs\", fl=178, pitch=0.025, h_pix=1850, v_pix=4000, mm=True)\n",
    "\n",
    "times = gen_times(start_yr=2022, start_mo=6, start_day=15, days=0.25, step_min=0.22) # Actual TIRS\n",
    "# inst = gen_instrument(name=\"tirs\", fl=178, pitch=0.025, h_pix=1850, v_pix=1800, mm=True)"
   ]
  },
  {
   "cell_type": "code",
   "execution_count": null,
   "metadata": {},
   "outputs": [],
   "source": [
    "cmap = {'LANDSAT 9': '#0000ffff', 'LANDSAT 8': '#ff0000ff'}"
   ]
  },
  {
   "cell_type": "code",
   "execution_count": null,
   "metadata": {},
   "outputs": [],
   "source": [
    "ssps = []\n",
    "for tle in tles:\n",
    "    sat = tle[0]\n",
    "    for time in times:\n",
    "        ssp_lat, ssp_lon, d = get_los(sat, time)\n",
    "\n",
    "        xyz_dist_rates = sat.at(time).frame_xyz_and_velocity(itrs)\n",
    "        # xyz_dist = xyz_dist_rates[0]\n",
    "        z_rate = xyz_dist_rates[1]\n",
    "\n",
    "        # Descending only filter:\n",
    "        if z_rate.km_per_s[2] < 0:\n",
    "            orbit = \"descending\"\n",
    "        if z_rate.km_per_s[2] > 0:\n",
    "            orbit = \"ascending\"\n",
    "\n",
    "        ssps.append(\n",
    "            {\n",
    "            'time' : time.utc_datetime(),\n",
    "            'geometry' : Point(ssp_lon.degrees, ssp_lat.degrees),\n",
    "            'range' : d,\n",
    "            'color' : cmap[sat.name],\n",
    "            'orbit' : orbit\n",
    "            }\n",
    "        )"
   ]
  },
  {
   "cell_type": "code",
   "execution_count": null,
   "metadata": {},
   "outputs": [],
   "source": [
    "ssp_df = gpd.GeoDataFrame(ssps, crs=\"epsg:4326\")\n",
    "ssp_df.drop(\"time\", axis=1).explore(\n",
    "    color=\"color\", tooltip=True, style_kwds={\"stroke\":False}\n",
    ")"
   ]
  },
  {
   "cell_type": "code",
   "execution_count": null,
   "metadata": {},
   "outputs": [],
   "source": [
    "world = gpd.read_file(gpd.datasets.get_path('naturalearth_lowres'))\n",
    "world.explore()"
   ]
  },
  {
   "cell_type": "code",
   "execution_count": null,
   "metadata": {},
   "outputs": [],
   "source": [
    "land_ssp_df = gpd.sjoin(ssp_df, world, predicate='within', how='inner')\n",
    "\n",
    "land_ssp_df[land_ssp_df.orbit == \"descending\"].drop(\n",
    "    'time', axis=1\n",
    "    ).explore(\n",
    "        color=\"color\", tooltip=False, style_kwds={\"stroke\":False}\n",
    "        )"
   ]
  },
  {
   "cell_type": "code",
   "execution_count": null,
   "metadata": {},
   "outputs": [],
   "source": [
    "sat.model.no_kozai "
   ]
  },
  {
   "cell_type": "code",
   "execution_count": null,
   "metadata": {},
   "outputs": [],
   "source": [
    "from sgp4.api import Satrec, WGS72\n",
    "\n",
    "satrec = Satrec()\n",
    "satrec.sgp4init(\n",
    "    WGS72,           # gravity model\n",
    "    'i',             # 'a' = old AFSPC mode, 'i' = improved mode\n",
    "    5,               # satnum: Satellite number\n",
    "    18441.785,       # epoch: days since 1949 December 31 00:00 UT\n",
    "    2.8098e-05,      # bstar: drag coefficient (/earth radii)\n",
    "    6.969196665e-13, # ndot: ballistic coefficient (revs/day)\n",
    "    0.0,             # nddot: second derivative of mean motion (revs/day^3)\n",
    "    0.1859667,       # ecco: eccentricity\n",
    "    5.7904160274885, # argpo: argument of perigee (radians)\n",
    "    0.5980929187319, # inclo: inclination (radians)\n",
    "    0.3373093125574, # mo: mean anomaly (radians)\n",
    "    0.0472294454407, # no_kozai: mean motion (radians/minute)\n",
    "    6.0863854713832, # nodeo: right ascension of ascending node (radians)\n",
    ")"
   ]
  },
  {
   "cell_type": "code",
   "execution_count": null,
   "metadata": {},
   "outputs": [],
   "source": [
    "# model.satnum\n",
    "#     The unique satellite NORAD catalog number given in the TLE file.\n",
    "# model.classification\n",
    "#     Satellite classification, or else 'U' for “Unknown”\n",
    "# model.intldesg\n",
    "#     International designator\n",
    "# model.epochyr\n",
    "#     Full four-digit year of this element set’s epoch moment.\n",
    "# model.epochdays\n",
    "#     Fractional days into the year of the epoch moment.\n",
    "# model.jdsatepoch\n",
    "#     Julian date of the epoch (computed from epochyr and epochdays).\n",
    "# model.ndot\n",
    "#     First time derivative of the mean motion (ignored by SGP4).\n",
    "# model.nddot\n",
    "#     Second time derivative of the mean motion (ignored by SGP4).\n",
    "# model.bstar\n",
    "#     Ballistic drag coefficient B* in inverse earth radii.\n",
    "# model.ephtype\n",
    "#     Ephemeris type (ignored by SGP4 as determination now automatic)\n",
    "# model.elnum\n",
    "#     Element number\n",
    "# model.inclo\n",
    "#     Inclination in radians.\n",
    "# model.nodeo\n",
    "#     Right ascension of ascending node in radians.\n",
    "# model.ecco\n",
    "#     Eccentricity.\n",
    "# model.argpo\n",
    "#     Argument of perigee in radians.\n",
    "# model.mo\n",
    "#     Mean anomaly in radians.\n",
    "# model.no_kozai\n",
    "#     Mean motion in radians per minute.\n",
    "# model.revnum\n",
    "#     Revolution number at epoch [Revs]"
   ]
  },
  {
   "cell_type": "code",
   "execution_count": null,
   "metadata": {},
   "outputs": [],
   "source": []
  }
 ],
 "metadata": {
  "interpreter": {
   "hash": "6732e973076e7115f37404b6c02070351da73f1ea73132f1ec72b9bbd3b6f861"
  },
  "kernelspec": {
   "display_name": "Python 3.9.4 ('skyfield')",
   "language": "python",
   "name": "python3"
  },
  "language_info": {
   "codemirror_mode": {
    "name": "ipython",
    "version": 3
   },
   "file_extension": ".py",
   "mimetype": "text/x-python",
   "name": "python",
   "nbconvert_exporter": "python",
   "pygments_lexer": "ipython3",
   "version": "3.9.4"
  },
  "orig_nbformat": 4
 },
 "nbformat": 4,
 "nbformat_minor": 2
}
