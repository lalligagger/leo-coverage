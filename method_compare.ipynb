{
 "cells": [
  {
   "cell_type": "code",
   "execution_count": null,
   "metadata": {},
   "outputs": [],
   "source": [
    "import geopandas as gpd\n",
    "import pandas as pd"
   ]
  },
  {
   "cell_type": "code",
   "execution_count": null,
   "metadata": {},
   "outputs": [],
   "source": [
    "v1_df = gpd.read_parquet('v1_test.parquet')\n",
    "v1_df = v1_df[v1_df.satellite == \"LANDSAT 9\"]\n",
    "v1_df = v1_df.drop([\"color\", \"satellite\"], axis=1)\n",
    "\n",
    "v2_df = gpd.read_parquet('v2_test.parquet')\n",
    "\n",
    "v1_df[\"version\"] = 1\n",
    "v2_df[\"version\"] = 2\n",
    "\n",
    "gdf = gpd.GeoDataFrame( pd.concat( [v1_df, v2_df], ignore_index=True) )\n",
    "\n",
    "gdf = gdf[gdf.area < gdf.area.quantile(0.96)]"
   ]
  },
  {
   "cell_type": "code",
   "execution_count": null,
   "metadata": {},
   "outputs": [],
   "source": [
    "gdf.geometry.explore()"
   ]
  },
  {
   "cell_type": "code",
   "execution_count": null,
   "metadata": {},
   "outputs": [],
   "source": []
  }
 ],
 "metadata": {
  "interpreter": {
   "hash": "aee8b7b246df8f9039afb4144a1f6fd8d2ca17a180786b69acc140d282b71a49"
  },
  "kernelspec": {
   "display_name": "Python 3.9.4 64-bit",
   "language": "python",
   "name": "python3"
  },
  "language_info": {
   "codemirror_mode": {
    "name": "ipython",
    "version": 3
   },
   "file_extension": ".py",
   "mimetype": "text/x-python",
   "name": "python",
   "nbconvert_exporter": "python",
   "pygments_lexer": "ipython3",
   "version": "3.9.4"
  },
  "orig_nbformat": 4
 },
 "nbformat": 4,
 "nbformat_minor": 2
}
