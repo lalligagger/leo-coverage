{
 "cells": [
  {
   "cell_type": "code",
   "execution_count": null,
   "metadata": {},
   "outputs": [],
   "source": []
  },
  {
   "cell_type": "markdown",
   "metadata": {},
   "source": [
    "https://www.usgs.gov/centers/eros/news/underfly-positions-landsat-9-below-landsat-8-simultaneous-scenes\n",
    "\n",
    "| Landsat 8 Cycle Day | Date DOY | Landsat 8 Paths | Percent Path Overlap |\n",
    "| --- | --- | --- | --- |\n",
    "|14 Nov 12, 2021 | 316 | 105,121,137,153,169,185,201,217,233,16,32,48,64,80,96 | ~10 percent western side |\n",
    "|15 Nov 13, 2021 | 317 | 112,128,144,160,176,192,208,224, 7,23,39,55,71,87 | ~50 percent western side |\n",
    "|16 Nov 14, 2021 | 318 | 103,119,135,151,167,183,199,215,231,14,30,45,62,78,94 | 100 percent overlap |\n",
    "|1 Nov 15, 2021 | 319 | 110,126,142,158,174,190,206,222,5,21,37,53,69,85 | ~50 percent eastern side |\n",
    "|2 Nov 16, 2021 | 320 | 101,117,133,149,165,181,197,213,229,12,28,44,60,76,92 | ~10 percent eastern side |"
   ]
  },
  {
   "cell_type": "markdown",
   "metadata": {},
   "source": []
  }
 ],
 "metadata": {
  "language_info": {
   "name": "python"
  },
  "orig_nbformat": 4
 },
 "nbformat": 4,
 "nbformat_minor": 2
}
