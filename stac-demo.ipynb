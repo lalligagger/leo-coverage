{
 "cells": [
  {
   "cell_type": "code",
   "execution_count": 1,
   "metadata": {},
   "outputs": [],
   "source": [
    "import pystac\n",
    "from pathlib import Path\n",
    "from shapely.geometry import Polygon, mapping\n",
    "import rasterio as rio\n",
    "\n",
    "import geopandas as gpd\n",
    "from datetime import datetime\n"
   ]
  },
  {
   "cell_type": "code",
   "execution_count": 2,
   "metadata": {},
   "outputs": [],
   "source": [
    "catalog = pystac.Catalog(\n",
    "    id='forecast-test',\n",
    "    description='This is a test of Landsat image forecasts',\n",
    "    stac_extensions=['https://stac-extensions.github.io/projection/v1.0.0/schema.json']\n",
    ")"
   ]
  },
  {
   "cell_type": "code",
   "execution_count": 3,
   "metadata": {},
   "outputs": [],
   "source": [
    "grid = gpd.read_file('./tmp/n_visits.geojson')"
   ]
  },
  {
   "cell_type": "code",
   "execution_count": 4,
   "metadata": {},
   "outputs": [],
   "source": [
    "bbox = grid.total_bounds"
   ]
  },
  {
   "cell_type": "code",
   "execution_count": 5,
   "metadata": {},
   "outputs": [],
   "source": [
    "\n",
    "\n",
    "def get_bbox_and_footprint(grid):\n",
    "\n",
    "    # create the bounding box it will depend if it comes from rasterio or rioxarray\n",
    "    bbox = grid.total_bounds\n",
    "\n",
    "    # create the footprint\n",
    "    footprint = Polygon([\n",
    "        [bbox[0], bbox[1]],\n",
    "        [bbox[0], bbox[3]],\n",
    "        [bbox[2], bbox[3]],\n",
    "        [bbox[2], bbox[1]]\n",
    "    ])\n",
    "\n",
    "    return bbox, mapping(footprint)"
   ]
  },
  {
   "cell_type": "code",
   "execution_count": 6,
   "metadata": {},
   "outputs": [
    {
     "data": {
      "text/plain": [
       "'EPSG:4326'"
      ]
     },
     "execution_count": 6,
     "metadata": {},
     "output_type": "execute_result"
    }
   ],
   "source": [
    "grid.crs.to_string()"
   ]
  },
  {
   "cell_type": "code",
   "execution_count": 7,
   "metadata": {},
   "outputs": [
    {
     "data": {
      "text/plain": [
       "(array([-81.41094255, -55.61183   , -34.41094255,  13.38817   ]),\n",
       " {'type': 'Polygon',\n",
       "  'coordinates': (((-81.41094255239946, -55.61183),\n",
       "    (-81.41094255239946, 13.38817),\n",
       "    (-34.41094255239946, 13.38817),\n",
       "    (-34.41094255239946, -55.61183),\n",
       "    (-81.41094255239946, -55.61183)),)})"
      ]
     },
     "execution_count": 7,
     "metadata": {},
     "output_type": "execute_result"
    }
   ],
   "source": [
    "get_bbox_and_footprint(grid)"
   ]
  },
  {
   "cell_type": "code",
   "execution_count": 8,
   "metadata": {},
   "outputs": [
    {
     "name": "stdout",
     "output_type": "stream",
     "text": [
      "1\n",
      "* <Catalog id=forecast-test>\n",
      "  * <Item id=1>\n"
     ]
    }
   ],
   "source": [
    "import pandas as pd\n",
    "from rasterio.warp import transform_bounds, transform_geom\n",
    "\n",
    "# get a list of files\n",
    "# folder = Path('./paranapanema/')\n",
    "# folder = Path('./pystac/docs/example-catalog')\n",
    "folder = Path('./tmp/')\n",
    "collects = list(folder.rglob('*.geojson'))\n",
    "\n",
    "for collect in collects:\n",
    "\n",
    "    # open the mask with rasterio\n",
    "    # ds = rio.open(col)\n",
    "    col = gpd.read_file(collect)\n",
    "\n",
    "    bbox, footprint = get_bbox_and_footprint(col)\n",
    "\n",
    "    # Project to WGS84 to obtain in geometric coordinates\n",
    "    geo_bounds = transform_bounds(col.crs.to_string(), 'EPSG:4326', *bbox)\n",
    "    geo_footprint = transform_geom(col.crs.to_string(), 'EPSG:4326', footprint)\n",
    "\n",
    "    # properties\n",
    "    # idx = mask.stem[:38]\n",
    "    # date = pd.to_datetime(mask.stem[11:26])\n",
    "    # tile = mask.parts[1]\n",
    "\n",
    "    item = pystac.Item(\n",
    "        # id=idx,\n",
    "        id = '1',\n",
    "        geometry=geo_footprint,\n",
    "        bbox=geo_bounds,\n",
    "        # datetime=date,\n",
    "        datetime = datetime.utcnow(),\n",
    "        stac_extensions=['https://stac-extensions.github.io/projection/v1.0.0/schema.json'],\n",
    "        properties=dict(\n",
    "            # tile=tile\n",
    "        )\n",
    "    )\n",
    "\n",
    "    catalog.add_item(item)\n",
    "\n",
    "print(len(list(catalog.get_items())))\n",
    "catalog.describe()"
   ]
  },
  {
   "cell_type": "code",
   "execution_count": 9,
   "metadata": {},
   "outputs": [],
   "source": [
    "# ! git clone https://github.com/stac-utils/pystac.git"
   ]
  },
  {
   "cell_type": "code",
   "execution_count": 10,
   "metadata": {},
   "outputs": [
    {
     "name": "stdout",
     "output_type": "stream",
     "text": [
      "* <Catalog id=forecast-test>\n",
      "  * <Item id=1>\n"
     ]
    }
   ],
   "source": [
    "catalog.describe()"
   ]
  },
  {
   "cell_type": "code",
   "execution_count": 12,
   "metadata": {},
   "outputs": [],
   "source": [
    "catalog.normalize_hrefs('./stac_catalog')\n",
    "catalog.save()"
   ]
  },
  {
   "cell_type": "code",
   "execution_count": null,
   "metadata": {},
   "outputs": [],
   "source": []
  }
 ],
 "metadata": {
  "interpreter": {
   "hash": "d637c763bf922768e601b8281cb3dfa3236defada1d261161ed5e5b2d5297279"
  },
  "kernelspec": {
   "display_name": "Python 3.10.4 ('stactools')",
   "language": "python",
   "name": "python3"
  },
  "language_info": {
   "codemirror_mode": {
    "name": "ipython",
    "version": 3
   },
   "file_extension": ".py",
   "mimetype": "text/x-python",
   "name": "python",
   "nbconvert_exporter": "python",
   "pygments_lexer": "ipython3",
   "version": "3.10.4"
  },
  "orig_nbformat": 4
 },
 "nbformat": 4,
 "nbformat_minor": 2
}
