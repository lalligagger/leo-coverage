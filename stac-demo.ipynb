{
 "cells": [
  {
   "cell_type": "code",
   "execution_count": 1,
   "metadata": {},
   "outputs": [],
   "source": [
    "import pystac\n",
    "from pathlib import Path\n",
    "from shapely.geometry import Polygon, mapping\n",
    "\n",
    "import pandas as pd\n",
    "from rasterio.warp import transform_bounds, transform_geom\n",
    "\n",
    "import geopandas as gpd\n",
    "from datetime import datetime, timezone\n"
   ]
  },
  {
   "cell_type": "code",
   "execution_count": 2,
   "metadata": {},
   "outputs": [],
   "source": [
    "catalog = pystac.Catalog(\n",
    "    id='forecast-test',\n",
    "    title=\"Landsat FOVs\",\n",
    "    description='This is a test of Landsat image forecasts',\n",
    "    stac_extensions=['https://stac-extensions.github.io/projection/v1.0.0/schema.json']\n",
    ")"
   ]
  },
  {
   "cell_type": "code",
   "execution_count": 3,
   "metadata": {},
   "outputs": [
    {
     "name": "stdout",
     "output_type": "stream",
     "text": [
      "EPSG:4326\n",
      "[-81.41094255 -55.61183    -34.41094255  13.38817   ]\n"
     ]
    }
   ],
   "source": [
    "grid = gpd.read_file('./tmp/n_visits.geojson')\n",
    "bbox = grid.total_bounds\n",
    "print(grid.crs.to_string())\n",
    "print(bbox)"
   ]
  },
  {
   "cell_type": "code",
   "execution_count": 4,
   "metadata": {},
   "outputs": [],
   "source": [
    "def get_bbox_and_footprint(bounds):\n",
    "\n",
    "    # create the bounding box it will depend if it comes from rasterio or rioxarray\n",
    "    bbox = bounds\n",
    "\n",
    "    # create the footprint\n",
    "    footprint = Polygon([\n",
    "        [bbox[0], bbox[1]],\n",
    "        [bbox[0], bbox[3]],\n",
    "        [bbox[2], bbox[3]],\n",
    "        [bbox[2], bbox[1]]\n",
    "    ])\n",
    "\n",
    "    return bbox, mapping(footprint)"
   ]
  },
  {
   "cell_type": "code",
   "execution_count": 5,
   "metadata": {},
   "outputs": [
    {
     "data": {
      "text/plain": [
       "(array([-81.41094255, -55.61183   , -34.41094255,  13.38817   ]),\n",
       " {'type': 'Polygon',\n",
       "  'coordinates': (((-81.41094255239946, -55.61183),\n",
       "    (-81.41094255239946, 13.38817),\n",
       "    (-34.41094255239946, 13.38817),\n",
       "    (-34.41094255239946, -55.61183),\n",
       "    (-81.41094255239946, -55.61183)),)})"
      ]
     },
     "execution_count": 5,
     "metadata": {},
     "output_type": "execute_result"
    }
   ],
   "source": [
    "get_bbox_and_footprint(grid.total_bounds)"
   ]
  },
  {
   "cell_type": "code",
   "execution_count": 6,
   "metadata": {},
   "outputs": [],
   "source": [
    "folder = Path('./tmp/')\n",
    "file_list = list(folder.rglob('*fovs.geojson'))\n",
    "\n",
    "for f in file_list:\n",
    "    fovs = gpd.read_file(f)"
   ]
  },
  {
   "cell_type": "code",
   "execution_count": 7,
   "metadata": {},
   "outputs": [
    {
     "data": {
      "text/html": [
       "<div>\n",
       "<style scoped>\n",
       "    .dataframe tbody tr th:only-of-type {\n",
       "        vertical-align: middle;\n",
       "    }\n",
       "\n",
       "    .dataframe tbody tr th {\n",
       "        vertical-align: top;\n",
       "    }\n",
       "\n",
       "    .dataframe thead th {\n",
       "        text-align: right;\n",
       "    }\n",
       "</style>\n",
       "<table border=\"1\" class=\"dataframe\">\n",
       "  <thead>\n",
       "    <tr style=\"text-align: right;\">\n",
       "      <th></th>\n",
       "      <th>satellite</th>\n",
       "      <th>id</th>\n",
       "      <th>time</th>\n",
       "      <th>lonspan</th>\n",
       "      <th>color</th>\n",
       "      <th>geometry</th>\n",
       "    </tr>\n",
       "  </thead>\n",
       "  <tbody>\n",
       "    <tr>\n",
       "      <th>0</th>\n",
       "      <td>LANDSAT 8</td>\n",
       "      <td>139084</td>\n",
       "      <td>2021-12-10T11:46:00</td>\n",
       "      <td>4.272820</td>\n",
       "      <td>#ff0000ff</td>\n",
       "      <td>POLYGON ((-31.63275 -49.86709, -34.17002 -49.4...</td>\n",
       "    </tr>\n",
       "    <tr>\n",
       "      <th>1</th>\n",
       "      <td>LANDSAT 8</td>\n",
       "      <td>139084</td>\n",
       "      <td>2021-12-10T11:47:00</td>\n",
       "      <td>4.741502</td>\n",
       "      <td>#ff0000ff</td>\n",
       "      <td>POLYGON ((-33.10701 -53.40744, -35.84204 -52.9...</td>\n",
       "    </tr>\n",
       "    <tr>\n",
       "      <th>2</th>\n",
       "      <td>LANDSAT 8</td>\n",
       "      <td>139084</td>\n",
       "      <td>2021-12-10T13:07:00</td>\n",
       "      <td>2.468940</td>\n",
       "      <td>#ff0000ff</td>\n",
       "      <td>POLYGON ((-40.43158 14.63123, -42.11168 14.986...</td>\n",
       "    </tr>\n",
       "    <tr>\n",
       "      <th>3</th>\n",
       "      <td>LANDSAT 8</td>\n",
       "      <td>139084</td>\n",
       "      <td>2021-12-10T13:08:00</td>\n",
       "      <td>2.435245</td>\n",
       "      <td>#ff0000ff</td>\n",
       "      <td>POLYGON ((-41.24147 11.00629, -42.89776 11.359...</td>\n",
       "    </tr>\n",
       "    <tr>\n",
       "      <th>4</th>\n",
       "      <td>LANDSAT 8</td>\n",
       "      <td>139084</td>\n",
       "      <td>2021-12-10T13:09:00</td>\n",
       "      <td>2.413504</td>\n",
       "      <td>#ff0000ff</td>\n",
       "      <td>POLYGON ((-42.03415 7.37979, -43.67395 7.73140...</td>\n",
       "    </tr>\n",
       "    <tr>\n",
       "      <th>...</th>\n",
       "      <td>...</td>\n",
       "      <td>...</td>\n",
       "      <td>...</td>\n",
       "      <td>...</td>\n",
       "      <td>...</td>\n",
       "      <td>...</td>\n",
       "    </tr>\n",
       "    <tr>\n",
       "      <th>158</th>\n",
       "      <td>LANDSAT 9</td>\n",
       "      <td>149260</td>\n",
       "      <td>2021-12-11T14:54:00</td>\n",
       "      <td>3.230943</td>\n",
       "      <td>#0000ffff</td>\n",
       "      <td>POLYGON ((-75.33794 -36.99183, -77.39034 -36.6...</td>\n",
       "    </tr>\n",
       "    <tr>\n",
       "      <th>159</th>\n",
       "      <td>LANDSAT 9</td>\n",
       "      <td>149260</td>\n",
       "      <td>2021-12-11T14:55:00</td>\n",
       "      <td>3.446691</td>\n",
       "      <td>#0000ffff</td>\n",
       "      <td>POLYGON ((-76.38030 -40.57311, -78.53853 -40.1...</td>\n",
       "    </tr>\n",
       "    <tr>\n",
       "      <th>160</th>\n",
       "      <td>LANDSAT 9</td>\n",
       "      <td>149260</td>\n",
       "      <td>2021-12-11T14:56:00</td>\n",
       "      <td>3.710260</td>\n",
       "      <td>#0000ffff</td>\n",
       "      <td>POLYGON ((-77.50673 -44.14533, -79.79017 -43.7...</td>\n",
       "    </tr>\n",
       "    <tr>\n",
       "      <th>161</th>\n",
       "      <td>LANDSAT 9</td>\n",
       "      <td>149260</td>\n",
       "      <td>2021-12-11T14:57:00</td>\n",
       "      <td>4.035385</td>\n",
       "      <td>#0000ffff</td>\n",
       "      <td>POLYGON ((-78.74017 -47.70704, -81.17217 -47.2...</td>\n",
       "    </tr>\n",
       "    <tr>\n",
       "      <th>162</th>\n",
       "      <td>LANDSAT 9</td>\n",
       "      <td>149260</td>\n",
       "      <td>2021-12-11T14:58:00</td>\n",
       "      <td>4.441617</td>\n",
       "      <td>#0000ffff</td>\n",
       "      <td>POLYGON ((-80.11147 -51.25635, -82.72062 -50.8...</td>\n",
       "    </tr>\n",
       "  </tbody>\n",
       "</table>\n",
       "<p>163 rows × 6 columns</p>\n",
       "</div>"
      ],
      "text/plain": [
       "     satellite      id                 time   lonspan      color  \\\n",
       "0    LANDSAT 8  139084  2021-12-10T11:46:00  4.272820  #ff0000ff   \n",
       "1    LANDSAT 8  139084  2021-12-10T11:47:00  4.741502  #ff0000ff   \n",
       "2    LANDSAT 8  139084  2021-12-10T13:07:00  2.468940  #ff0000ff   \n",
       "3    LANDSAT 8  139084  2021-12-10T13:08:00  2.435245  #ff0000ff   \n",
       "4    LANDSAT 8  139084  2021-12-10T13:09:00  2.413504  #ff0000ff   \n",
       "..         ...     ...                  ...       ...        ...   \n",
       "158  LANDSAT 9  149260  2021-12-11T14:54:00  3.230943  #0000ffff   \n",
       "159  LANDSAT 9  149260  2021-12-11T14:55:00  3.446691  #0000ffff   \n",
       "160  LANDSAT 9  149260  2021-12-11T14:56:00  3.710260  #0000ffff   \n",
       "161  LANDSAT 9  149260  2021-12-11T14:57:00  4.035385  #0000ffff   \n",
       "162  LANDSAT 9  149260  2021-12-11T14:58:00  4.441617  #0000ffff   \n",
       "\n",
       "                                              geometry  \n",
       "0    POLYGON ((-31.63275 -49.86709, -34.17002 -49.4...  \n",
       "1    POLYGON ((-33.10701 -53.40744, -35.84204 -52.9...  \n",
       "2    POLYGON ((-40.43158 14.63123, -42.11168 14.986...  \n",
       "3    POLYGON ((-41.24147 11.00629, -42.89776 11.359...  \n",
       "4    POLYGON ((-42.03415 7.37979, -43.67395 7.73140...  \n",
       "..                                                 ...  \n",
       "158  POLYGON ((-75.33794 -36.99183, -77.39034 -36.6...  \n",
       "159  POLYGON ((-76.38030 -40.57311, -78.53853 -40.1...  \n",
       "160  POLYGON ((-77.50673 -44.14533, -79.79017 -43.7...  \n",
       "161  POLYGON ((-78.74017 -47.70704, -81.17217 -47.2...  \n",
       "162  POLYGON ((-80.11147 -51.25635, -82.72062 -50.8...  \n",
       "\n",
       "[163 rows x 6 columns]"
      ]
     },
     "execution_count": 7,
     "metadata": {},
     "output_type": "execute_result"
    }
   ],
   "source": [
    "fovs"
   ]
  },
  {
   "cell_type": "code",
   "execution_count": 8,
   "metadata": {},
   "outputs": [
    {
     "name": "stdout",
     "output_type": "stream",
     "text": [
      "2021-12-10T11:46:00\n",
      "POLYGON ((-31.63274996712584 -49.86709042356495, -34.17002159242003 -49.427162002979486, -35.905569694783715 -53.06823318003563, -33.169066208952565 -53.54632528353186, -31.63274996712584 -49.86709042356495))\n",
      "(-35.905569694783715, -53.54632528353186, -31.63274996712584, -49.427162002979486)\n",
      "2021-12-10T11:47:00\n",
      "POLYGON ((-33.107012329081755 -53.40743501572923, -35.84203515596111 -52.94304080525593, -37.84851385930238 -56.567571945195816, -34.87256932886828 -57.07761598060291, -33.107012329081755 -53.40743501572923))\n",
      "(-37.84851385930238, -57.07761598060291, -33.107012329081755, -52.94304080525593)\n"
     ]
    }
   ],
   "source": [
    "for i in range(len(fovs[:2])):\n",
    "    fov = fovs.iloc[i]\n",
    "    print(fov.time)\n",
    "    print(fov.geometry)\n",
    "    print(fov.geometry.bounds)"
   ]
  },
  {
   "cell_type": "code",
   "execution_count": 9,
   "metadata": {},
   "outputs": [
    {
     "data": {
      "text/html": [
       "<div>\n",
       "<style scoped>\n",
       "    .dataframe tbody tr th:only-of-type {\n",
       "        vertical-align: middle;\n",
       "    }\n",
       "\n",
       "    .dataframe tbody tr th {\n",
       "        vertical-align: top;\n",
       "    }\n",
       "\n",
       "    .dataframe thead th {\n",
       "        text-align: right;\n",
       "    }\n",
       "</style>\n",
       "<table border=\"1\" class=\"dataframe\">\n",
       "  <thead>\n",
       "    <tr style=\"text-align: right;\">\n",
       "      <th></th>\n",
       "      <th>satellite</th>\n",
       "      <th>id</th>\n",
       "      <th>time</th>\n",
       "      <th>lonspan</th>\n",
       "      <th>color</th>\n",
       "      <th>geometry</th>\n",
       "    </tr>\n",
       "  </thead>\n",
       "  <tbody>\n",
       "    <tr>\n",
       "      <th>0</th>\n",
       "      <td>LANDSAT 8</td>\n",
       "      <td>139084</td>\n",
       "      <td>2021-12-10T11:46:00</td>\n",
       "      <td>4.272820</td>\n",
       "      <td>#ff0000ff</td>\n",
       "      <td>POLYGON ((-31.63275 -49.86709, -34.17002 -49.4...</td>\n",
       "    </tr>\n",
       "    <tr>\n",
       "      <th>1</th>\n",
       "      <td>LANDSAT 8</td>\n",
       "      <td>139084</td>\n",
       "      <td>2021-12-10T11:47:00</td>\n",
       "      <td>4.741502</td>\n",
       "      <td>#ff0000ff</td>\n",
       "      <td>POLYGON ((-33.10701 -53.40744, -35.84204 -52.9...</td>\n",
       "    </tr>\n",
       "    <tr>\n",
       "      <th>2</th>\n",
       "      <td>LANDSAT 8</td>\n",
       "      <td>139084</td>\n",
       "      <td>2021-12-10T13:07:00</td>\n",
       "      <td>2.468940</td>\n",
       "      <td>#ff0000ff</td>\n",
       "      <td>POLYGON ((-40.43158 14.63123, -42.11168 14.986...</td>\n",
       "    </tr>\n",
       "    <tr>\n",
       "      <th>3</th>\n",
       "      <td>LANDSAT 8</td>\n",
       "      <td>139084</td>\n",
       "      <td>2021-12-10T13:08:00</td>\n",
       "      <td>2.435245</td>\n",
       "      <td>#ff0000ff</td>\n",
       "      <td>POLYGON ((-41.24147 11.00629, -42.89776 11.359...</td>\n",
       "    </tr>\n",
       "    <tr>\n",
       "      <th>4</th>\n",
       "      <td>LANDSAT 8</td>\n",
       "      <td>139084</td>\n",
       "      <td>2021-12-10T13:09:00</td>\n",
       "      <td>2.413504</td>\n",
       "      <td>#ff0000ff</td>\n",
       "      <td>POLYGON ((-42.03415 7.37979, -43.67395 7.73140...</td>\n",
       "    </tr>\n",
       "    <tr>\n",
       "      <th>...</th>\n",
       "      <td>...</td>\n",
       "      <td>...</td>\n",
       "      <td>...</td>\n",
       "      <td>...</td>\n",
       "      <td>...</td>\n",
       "      <td>...</td>\n",
       "    </tr>\n",
       "    <tr>\n",
       "      <th>158</th>\n",
       "      <td>LANDSAT 9</td>\n",
       "      <td>149260</td>\n",
       "      <td>2021-12-11T14:54:00</td>\n",
       "      <td>3.230943</td>\n",
       "      <td>#0000ffff</td>\n",
       "      <td>POLYGON ((-75.33794 -36.99183, -77.39034 -36.6...</td>\n",
       "    </tr>\n",
       "    <tr>\n",
       "      <th>159</th>\n",
       "      <td>LANDSAT 9</td>\n",
       "      <td>149260</td>\n",
       "      <td>2021-12-11T14:55:00</td>\n",
       "      <td>3.446691</td>\n",
       "      <td>#0000ffff</td>\n",
       "      <td>POLYGON ((-76.38030 -40.57311, -78.53853 -40.1...</td>\n",
       "    </tr>\n",
       "    <tr>\n",
       "      <th>160</th>\n",
       "      <td>LANDSAT 9</td>\n",
       "      <td>149260</td>\n",
       "      <td>2021-12-11T14:56:00</td>\n",
       "      <td>3.710260</td>\n",
       "      <td>#0000ffff</td>\n",
       "      <td>POLYGON ((-77.50673 -44.14533, -79.79017 -43.7...</td>\n",
       "    </tr>\n",
       "    <tr>\n",
       "      <th>161</th>\n",
       "      <td>LANDSAT 9</td>\n",
       "      <td>149260</td>\n",
       "      <td>2021-12-11T14:57:00</td>\n",
       "      <td>4.035385</td>\n",
       "      <td>#0000ffff</td>\n",
       "      <td>POLYGON ((-78.74017 -47.70704, -81.17217 -47.2...</td>\n",
       "    </tr>\n",
       "    <tr>\n",
       "      <th>162</th>\n",
       "      <td>LANDSAT 9</td>\n",
       "      <td>149260</td>\n",
       "      <td>2021-12-11T14:58:00</td>\n",
       "      <td>4.441617</td>\n",
       "      <td>#0000ffff</td>\n",
       "      <td>POLYGON ((-80.11147 -51.25635, -82.72062 -50.8...</td>\n",
       "    </tr>\n",
       "  </tbody>\n",
       "</table>\n",
       "<p>163 rows × 6 columns</p>\n",
       "</div>"
      ],
      "text/plain": [
       "     satellite      id                 time   lonspan      color  \\\n",
       "0    LANDSAT 8  139084  2021-12-10T11:46:00  4.272820  #ff0000ff   \n",
       "1    LANDSAT 8  139084  2021-12-10T11:47:00  4.741502  #ff0000ff   \n",
       "2    LANDSAT 8  139084  2021-12-10T13:07:00  2.468940  #ff0000ff   \n",
       "3    LANDSAT 8  139084  2021-12-10T13:08:00  2.435245  #ff0000ff   \n",
       "4    LANDSAT 8  139084  2021-12-10T13:09:00  2.413504  #ff0000ff   \n",
       "..         ...     ...                  ...       ...        ...   \n",
       "158  LANDSAT 9  149260  2021-12-11T14:54:00  3.230943  #0000ffff   \n",
       "159  LANDSAT 9  149260  2021-12-11T14:55:00  3.446691  #0000ffff   \n",
       "160  LANDSAT 9  149260  2021-12-11T14:56:00  3.710260  #0000ffff   \n",
       "161  LANDSAT 9  149260  2021-12-11T14:57:00  4.035385  #0000ffff   \n",
       "162  LANDSAT 9  149260  2021-12-11T14:58:00  4.441617  #0000ffff   \n",
       "\n",
       "                                              geometry  \n",
       "0    POLYGON ((-31.63275 -49.86709, -34.17002 -49.4...  \n",
       "1    POLYGON ((-33.10701 -53.40744, -35.84204 -52.9...  \n",
       "2    POLYGON ((-40.43158 14.63123, -42.11168 14.986...  \n",
       "3    POLYGON ((-41.24147 11.00629, -42.89776 11.359...  \n",
       "4    POLYGON ((-42.03415 7.37979, -43.67395 7.73140...  \n",
       "..                                                 ...  \n",
       "158  POLYGON ((-75.33794 -36.99183, -77.39034 -36.6...  \n",
       "159  POLYGON ((-76.38030 -40.57311, -78.53853 -40.1...  \n",
       "160  POLYGON ((-77.50673 -44.14533, -79.79017 -43.7...  \n",
       "161  POLYGON ((-78.74017 -47.70704, -81.17217 -47.2...  \n",
       "162  POLYGON ((-80.11147 -51.25635, -82.72062 -50.8...  \n",
       "\n",
       "[163 rows x 6 columns]"
      ]
     },
     "execution_count": 9,
     "metadata": {},
     "output_type": "execute_result"
    }
   ],
   "source": [
    "fovs"
   ]
  },
  {
   "cell_type": "code",
   "execution_count": 10,
   "metadata": {},
   "outputs": [
    {
     "name": "stdout",
     "output_type": "stream",
     "text": [
      "2\n",
      "* <Catalog id=forecast-test>\n",
      "  * <Item id=0>\n",
      "  * <Item id=1>\n"
     ]
    }
   ],
   "source": [
    "for f in file_list:\n",
    "    fovs = gpd.read_file(f)\n",
    "    for i in range(len(fovs[:2])):\n",
    "        \n",
    "        fov = fovs.iloc[i]\n",
    "\n",
    "        bounds = fov.geometry.bounds\n",
    "        bbox, footprint = get_bbox_and_footprint(bounds)\n",
    "\n",
    "        # Project to WGS84 to obtain in geometric coordinates\n",
    "        geo_bounds = transform_bounds(fovs.crs.to_string(), 'EPSG:4326', *bbox)\n",
    "        geo_footprint = transform_geom(fovs.crs.to_string(), 'EPSG:4326', footprint)\n",
    "\n",
    "        dt = datetime.fromisoformat(fov.time)\n",
    "        dtz = dt.astimezone(timezone.utc)\n",
    "\n",
    "        item = pystac.Item(\n",
    "            # id=idx,\n",
    "            id = str(i),\n",
    "            geometry=geo_footprint,\n",
    "            bbox=geo_bounds,\n",
    "            datetime = dtz,\n",
    "            stac_extensions=['https://stac-extensions.github.io/projection/v1.0.0/schema.json'],\n",
    "            properties=dict(\n",
    "                # tile=tile\n",
    "            )\n",
    "        )\n",
    "\n",
    "        catalog.add_item(item)\n",
    "\n",
    "print(len(list(catalog.get_items())))\n",
    "catalog.describe()"
   ]
  },
  {
   "cell_type": "code",
   "execution_count": null,
   "metadata": {},
   "outputs": [],
   "source": []
  },
  {
   "cell_type": "code",
   "execution_count": 11,
   "metadata": {},
   "outputs": [
    {
     "data": {
      "text/plain": [
       "'2021-12-10T11:47:00'"
      ]
     },
     "execution_count": 11,
     "metadata": {},
     "output_type": "execute_result"
    }
   ],
   "source": [
    "fov.time"
   ]
  },
  {
   "cell_type": "code",
   "execution_count": 12,
   "metadata": {},
   "outputs": [],
   "source": [
    "# ! git clone https://github.com/stac-utils/pystac.git"
   ]
  },
  {
   "cell_type": "code",
   "execution_count": 13,
   "metadata": {},
   "outputs": [
    {
     "name": "stdout",
     "output_type": "stream",
     "text": [
      "* <Catalog id=forecast-test>\n",
      "  * <Item id=0>\n",
      "  * <Item id=1>\n"
     ]
    }
   ],
   "source": [
    "catalog.describe()"
   ]
  },
  {
   "cell_type": "code",
   "execution_count": 14,
   "metadata": {},
   "outputs": [],
   "source": [
    "catalog.normalize_hrefs('./stac_catalog')\n",
    "catalog.save()"
   ]
  },
  {
   "cell_type": "code",
   "execution_count": 15,
   "metadata": {},
   "outputs": [
    {
     "name": "stdout",
     "output_type": "stream",
     "text": [
      "ID: forecast-test\n",
      "Title: Landsat FOVs\n",
      "Description: This is a test of Landsat image forecasts\n"
     ]
    }
   ],
   "source": [
    "from pystac import Catalog, get_stac_version\n",
    "root_catalog = Catalog.from_file('./stac_catalog/catalog.json')\n",
    "print(f\"ID: {root_catalog.id}\")\n",
    "print(f\"Title: {root_catalog.title or 'N/A'}\")\n",
    "print(f\"Description: {root_catalog.description or 'N/A'}\")"
   ]
  },
  {
   "cell_type": "code",
   "execution_count": 16,
   "metadata": {},
   "outputs": [],
   "source": [
    "item = catalog.get_item(\"1\", recursive=True)\n"
   ]
  },
  {
   "cell_type": "code",
   "execution_count": 17,
   "metadata": {},
   "outputs": [
    {
     "data": {
      "text/plain": [
       "{'type': 'Polygon',\n",
       " 'coordinates': [[(-37.84851385930238, -57.07761598060291),\n",
       "   (-37.84851385930238, -52.94304080525593),\n",
       "   (-33.107012329081755, -52.94304080525593),\n",
       "   (-33.107012329081755, -57.07761598060291),\n",
       "   (-37.84851385930238, -57.07761598060291)]]}"
      ]
     },
     "execution_count": 17,
     "metadata": {},
     "output_type": "execute_result"
    }
   ],
   "source": [
    "item.geometry"
   ]
  },
  {
   "cell_type": "code",
   "execution_count": 18,
   "metadata": {},
   "outputs": [
    {
     "name": "stdout",
     "output_type": "stream",
     "text": [
      "None\n"
     ]
    }
   ],
   "source": [
    "print(item.collection_id)"
   ]
  },
  {
   "cell_type": "code",
   "execution_count": null,
   "metadata": {},
   "outputs": [],
   "source": []
  }
 ],
 "metadata": {
  "interpreter": {
   "hash": "d637c763bf922768e601b8281cb3dfa3236defada1d261161ed5e5b2d5297279"
  },
  "kernelspec": {
   "display_name": "Python 3.10.4 ('stactools')",
   "language": "python",
   "name": "python3"
  },
  "language_info": {
   "codemirror_mode": {
    "name": "ipython",
    "version": 3
   },
   "file_extension": ".py",
   "mimetype": "text/x-python",
   "name": "python",
   "nbconvert_exporter": "python",
   "pygments_lexer": "ipython3",
   "version": "3.10.4"
  },
  "orig_nbformat": 4
 },
 "nbformat": 4,
 "nbformat_minor": 2
}
