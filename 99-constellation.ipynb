{
 "cells": [
  {
   "cell_type": "code",
   "execution_count": 1,
   "metadata": {},
   "outputs": [],
   "source": [
    "from coverage import *\n",
    "from sgp4.api import Satrec, WGS72\n",
    "from skyfield.api import load, EarthSatellite\n",
    "import folium\n",
    "import numpy as np\n",
    "\n",
    "import dask_geopandas"
   ]
  },
  {
   "cell_type": "code",
   "execution_count": 2,
   "metadata": {},
   "outputs": [
    {
     "data": {
      "text/html": [
       "<pre style=\"white-space:pre;overflow-x:auto;line-height:normal;font-family:Menlo,'DejaVu Sans Mono',consolas,'Courier New',monospace\">Propogation time: \n",
       " <span style=\"color: #008080; text-decoration-color: #008080; font-weight: bold\">2021</span>-<span style=\"color: #008080; text-decoration-color: #008080; font-weight: bold\">07</span>-<span style=\"color: #008080; text-decoration-color: #008080; font-weight: bold\">18</span> <span style=\"color: #00ff00; text-decoration-color: #00ff00; font-weight: bold\">00:00:00</span>+<span style=\"color: #00ff00; text-decoration-color: #00ff00; font-weight: bold\">00:00</span> \n",
       "to \n",
       " <span style=\"color: #008080; text-decoration-color: #008080; font-weight: bold\">2021</span>-<span style=\"color: #008080; text-decoration-color: #008080; font-weight: bold\">07</span>-<span style=\"color: #008080; text-decoration-color: #008080; font-weight: bold\">18</span> <span style=\"color: #00ff00; text-decoration-color: #00ff00; font-weight: bold\">23:59:54</span>+<span style=\"color: #00ff00; text-decoration-color: #00ff00; font-weight: bold\">00:00</span>\n",
       "</pre>\n"
      ],
      "text/plain": [
       "Propogation time: \n",
       " \u001b[1;36m2021\u001b[0m-\u001b[1;36m07\u001b[0m-\u001b[1;36m18\u001b[0m \u001b[1;92m00:00:00\u001b[0m+\u001b[1;92m00:00\u001b[0m \n",
       "to \n",
       " \u001b[1;36m2021\u001b[0m-\u001b[1;36m07\u001b[0m-\u001b[1;36m18\u001b[0m \u001b[1;92m23:59:54\u001b[0m+\u001b[1;92m00:00\u001b[0m\n"
      ]
     },
     "metadata": {},
     "output_type": "display_data"
    }
   ],
   "source": [
    "delta_mos = np.arange(0, 361, 22.5)\n",
    "\n",
    "# <EarthSatellite catalog #39084 epoch 2021-07-18 22:54:21 UTC>\n",
    "times = gen_times(start_yr=2021, start_mo=7, start_day=18, days=1, step_min=22/60)\n",
    "inst = camera_model(name=\"tirs\", fl=178, pitch=0.025, h_pix=1850, v_pix=1800) "
   ]
  },
  {
   "cell_type": "code",
   "execution_count": 3,
   "metadata": {},
   "outputs": [],
   "source": [
    "degtorad = (np.pi/180)\n",
    "# delta_mos = np.array([0., 90., 180., 270.])*degtorad\n",
    "delta_mos = np.arange(0,360,22.5)*degtorad"
   ]
  },
  {
   "cell_type": "code",
   "execution_count": 4,
   "metadata": {},
   "outputs": [
    {
     "data": {
      "text/plain": [
       "array([0.        , 0.39269908, 0.78539816, 1.17809725, 1.57079633,\n",
       "       1.96349541, 2.35619449, 2.74889357, 3.14159265, 3.53429174,\n",
       "       3.92699082, 4.3196899 , 4.71238898, 5.10508806, 5.49778714,\n",
       "       5.89048623])"
      ]
     },
     "execution_count": 4,
     "metadata": {},
     "output_type": "execute_result"
    }
   ],
   "source": [
    "delta_mos"
   ]
  },
  {
   "cell_type": "code",
   "execution_count": 5,
   "metadata": {},
   "outputs": [],
   "source": [
    "sats = []\n",
    "ts = load.timescale()\n",
    "\n",
    "# for delta_mo in delta_mos:\n",
    "for delta_mo in delta_mos:\n",
    "    sat_ref = load.tle_file(\"./historical_tles/sat39084-tle1.txt\")[0]\n",
    "    satrec = Satrec()\n",
    "    satrec.sgp4init(\n",
    "        WGS72,           # gravity model\n",
    "        'i',             # 'a' = old AFSPC mode, 'i' = improved mode\n",
    "        sat_ref.model.satnum,               # satnum: Satellite number\n",
    "        (50 + sat_ref.model.epochyr)*365.5 + sat_ref.model.epochdays,       # epoch: days since 1949 December 31 00:00 UT\n",
    "        sat_ref.model.bstar,      # bstar: drag coefficient (/earth radii)\n",
    "        sat_ref.model.nddot, # ndot: ballistic coefficient (revs/day)\n",
    "        0.0,             # nddot: second derivative of mean motion (revs/day^3)\n",
    "        sat_ref.model.ecco,       # ecco: eccentricity\n",
    "        sat_ref.model.argpo, # argpo: argument of perigee (radians)\n",
    "        sat_ref.model.inclo, # inclo: inclination (radians)\n",
    "        sat_ref.model.mo + delta_mo, # mo: mean anomaly (radians)\n",
    "        sat_ref.model.no_kozai, # no_kozai: mean motion (radians/minute)\n",
    "        sat_ref.model.nodeo, # nodeo: right ascension of ascending node (radians)\n",
    "    )\n",
    "    sat_out = EarthSatellite.from_satrec(satrec, ts)\n",
    "    sats.append(sat_out)"
   ]
  },
  {
   "cell_type": "code",
   "execution_count": 6,
   "metadata": {},
   "outputs": [
    {
     "data": {
      "text/plain": [
       "<EarthSatellite catalog #39084 epoch 2021-07-18 22:54:21 UTC>"
      ]
     },
     "execution_count": 6,
     "metadata": {},
     "output_type": "execute_result"
    }
   ],
   "source": [
    "sats[0]"
   ]
  },
  {
   "cell_type": "code",
   "execution_count": 7,
   "metadata": {},
   "outputs": [
    {
     "name": "stderr",
     "output_type": "stream",
     "text": [
      "/Users/kevinlalli/miniconda3/envs/coverage/lib/python3.8/site-packages/dask/dataframe/core.py:3956: UserWarning: \n",
      "You did not provide metadata, so Dask is running your function on a small dataset to guess output types. It is possible that Dask will guess incorrectly.\n",
      "To provide an explicit output types or to silence this message, please provide the `meta=` keyword, as described in the map or apply function that you are using.\n",
      "  Before: .apply(func)\n",
      "  After:  .apply(func, meta=('id', 'object'))\n",
      "\n",
      "  warnings.warn(meta_warning(meta))\n"
     ]
    },
    {
     "data": {
      "text/html": [
       "<div><strong>Dask-GeoPandas GeoDataFrame Structure:</strong></div>\n",
       "<div>\n",
       "<style scoped>\n",
       "    .dataframe tbody tr th:only-of-type {\n",
       "        vertical-align: middle;\n",
       "    }\n",
       "\n",
       "    .dataframe tbody tr th {\n",
       "        vertical-align: top;\n",
       "    }\n",
       "\n",
       "    .dataframe thead th {\n",
       "        text-align: right;\n",
       "    }\n",
       "</style>\n",
       "<table border=\"1\" class=\"dataframe\">\n",
       "  <thead>\n",
       "    <tr style=\"text-align: right;\">\n",
       "      <th></th>\n",
       "      <th>geometry</th>\n",
       "      <th>satellite</th>\n",
       "      <th>id</th>\n",
       "      <th>time</th>\n",
       "      <th>lonspan</th>\n",
       "      <th>color</th>\n",
       "    </tr>\n",
       "    <tr>\n",
       "      <th>npartitions=4</th>\n",
       "      <th></th>\n",
       "      <th></th>\n",
       "      <th></th>\n",
       "      <th></th>\n",
       "      <th></th>\n",
       "      <th></th>\n",
       "    </tr>\n",
       "  </thead>\n",
       "  <tbody>\n",
       "    <tr>\n",
       "      <th>0</th>\n",
       "      <td>geometry</td>\n",
       "      <td>object</td>\n",
       "      <td>int64</td>\n",
       "      <td>object</td>\n",
       "      <td>float64</td>\n",
       "      <td>object</td>\n",
       "    </tr>\n",
       "    <tr>\n",
       "      <th>15712</th>\n",
       "      <td>...</td>\n",
       "      <td>...</td>\n",
       "      <td>...</td>\n",
       "      <td>...</td>\n",
       "      <td>...</td>\n",
       "      <td>...</td>\n",
       "    </tr>\n",
       "    <tr>\n",
       "      <th>31424</th>\n",
       "      <td>...</td>\n",
       "      <td>...</td>\n",
       "      <td>...</td>\n",
       "      <td>...</td>\n",
       "      <td>...</td>\n",
       "      <td>...</td>\n",
       "    </tr>\n",
       "    <tr>\n",
       "      <th>47136</th>\n",
       "      <td>...</td>\n",
       "      <td>...</td>\n",
       "      <td>...</td>\n",
       "      <td>...</td>\n",
       "      <td>...</td>\n",
       "      <td>...</td>\n",
       "    </tr>\n",
       "    <tr>\n",
       "      <th>62847</th>\n",
       "      <td>...</td>\n",
       "      <td>...</td>\n",
       "      <td>...</td>\n",
       "      <td>...</td>\n",
       "      <td>...</td>\n",
       "      <td>...</td>\n",
       "    </tr>\n",
       "  </tbody>\n",
       "</table>\n",
       "</div>\n",
       "<div>Dask Name: assign, 48 tasks</div>"
      ],
      "text/plain": [
       "Dask GeoDataFrame Structure:\n",
       "               geometry satellite     id    time  lonspan   color\n",
       "npartitions=4                                                    \n",
       "0              geometry    object  int64  object  float64  object\n",
       "15712               ...       ...    ...     ...      ...     ...\n",
       "31424               ...       ...    ...     ...      ...     ...\n",
       "47136               ...       ...    ...     ...      ...     ...\n",
       "62847               ...       ...    ...     ...      ...     ...\n",
       "Dask Name: assign, 48 tasks"
      ]
     },
     "execution_count": 7,
     "metadata": {},
     "output_type": "execute_result"
    }
   ],
   "source": [
    "gdfs = []\n",
    "for sat in sats:\n",
    "    fov_df = forecast_fovs(sat, times, inst)\n",
    "    gdfs.append(fov_df)\n",
    "\n",
    "fov_df = gpd.GeoDataFrame(pd.concat(gdfs, ignore_index=True), crs=\"epsg:4326\")\n",
    "\n",
    "fov_df = dask_geopandas.from_geopandas(fov_df, npartitions=4)\n",
    "\n",
    "## Filter shapes crossing anti-meridian - also in main function\n",
    "## TODO: Switch to stactools solution\n",
    "fov_df[\"lonspan\"] = fov_df.bounds['maxx'] - fov_df.bounds['minx']\n",
    "fov_df = fov_df[fov_df[\"lonspan\"] < 20].copy()\n",
    "\n",
    "## Create cmap for unique satellites and create color column\n",
    "sat_ids = list(fov_df[\"id\"].unique()).sort()\n",
    "cmap = branca.colormap.StepColormap(['red', 'blue'], sat_ids, vmin=139084, vmax = 149260)\n",
    "fov_df['color'] = fov_df['id'].apply(cmap)\n",
    "\n",
    "# fov_df.to_file(\"./tmp/fovs.geojson\")\n",
    "fov_df"
   ]
  },
  {
   "cell_type": "code",
   "execution_count": 8,
   "metadata": {},
   "outputs": [
    {
     "ename": "NotImplementedError",
     "evalue": "Not yet implemented if the GeoDataFrame has no known spatial partitions (you can call the 'calculate_spatial_partitions' method to set it)",
     "output_type": "error",
     "traceback": [
      "\u001b[0;31m---------------------------------------------------------------------------\u001b[0m",
      "\u001b[0;31mNotImplementedError\u001b[0m                       Traceback (most recent call last)",
      "\u001b[1;32m/Users/kevinlalli/python_dev/leo-coverage/99-constellation.ipynb Cell 8'\u001b[0m in \u001b[0;36m<cell line: 15>\u001b[0;34m()\u001b[0m\n\u001b[1;32m     <a href='vscode-notebook-cell:/Users/kevinlalli/python_dev/leo-coverage/99-constellation.ipynb#ch0000007?line=10'>11</a>\u001b[0m \u001b[39m## Plotting FOVs\u001b[39;00m\n\u001b[1;32m     <a href='vscode-notebook-cell:/Users/kevinlalli/python_dev/leo-coverage/99-constellation.ipynb#ch0000007?line=11'>12</a>\u001b[0m \n\u001b[1;32m     <a href='vscode-notebook-cell:/Users/kevinlalli/python_dev/leo-coverage/99-constellation.ipynb#ch0000007?line=12'>13</a>\u001b[0m \u001b[39m## Crop the df TODO: make function for various spatial trims\u001b[39;00m\n\u001b[1;32m     <a href='vscode-notebook-cell:/Users/kevinlalli/python_dev/leo-coverage/99-constellation.ipynb#ch0000007?line=13'>14</a>\u001b[0m xmin, ymin, xmax, ymax\u001b[39m=\u001b[39m aoi\u001b[39m.\u001b[39mtotal_bounds\n\u001b[0;32m---> <a href='vscode-notebook-cell:/Users/kevinlalli/python_dev/leo-coverage/99-constellation.ipynb#ch0000007?line=14'>15</a>\u001b[0m fov_df \u001b[39m=\u001b[39m fov_df\u001b[39m.\u001b[39;49mcx[xmin: xmax, ymin: ymax]\n\u001b[1;32m     <a href='vscode-notebook-cell:/Users/kevinlalli/python_dev/leo-coverage/99-constellation.ipynb#ch0000007?line=16'>17</a>\u001b[0m \u001b[39m## Make a folium map\u001b[39;00m\n\u001b[1;32m     <a href='vscode-notebook-cell:/Users/kevinlalli/python_dev/leo-coverage/99-constellation.ipynb#ch0000007?line=17'>18</a>\u001b[0m m \u001b[39m=\u001b[39m fov_df\u001b[39m.\u001b[39mexplore(color\u001b[39m=\u001b[39m\u001b[39m\"\u001b[39m\u001b[39mcolor\u001b[39m\u001b[39m\"\u001b[39m, tooltip\u001b[39m=\u001b[39m[\u001b[39m\"\u001b[39m\u001b[39msatellite\u001b[39m\u001b[39m\"\u001b[39m, \u001b[39m\"\u001b[39m\u001b[39mtime\u001b[39m\u001b[39m\"\u001b[39m])\n",
      "File \u001b[0;32m~/miniconda3/envs/coverage/lib/python3.8/site-packages/dask_geopandas/core.py:909\u001b[0m, in \u001b[0;36m_CoordinateIndexer.__getitem__\u001b[0;34m(self, key)\u001b[0m\n\u001b[1;32m    905\u001b[0m     partition_idx \u001b[39m=\u001b[39m np\u001b[39m.\u001b[39mnonzero(\n\u001b[1;32m    906\u001b[0m         np\u001b[39m.\u001b[39masarray(\u001b[39mself\u001b[39m\u001b[39m.\u001b[39mobj\u001b[39m.\u001b[39mspatial_partitions\u001b[39m.\u001b[39mintersects(bbox))\n\u001b[1;32m    907\u001b[0m     )[\u001b[39m0\u001b[39m]\n\u001b[1;32m    908\u001b[0m \u001b[39melse\u001b[39;00m:\n\u001b[0;32m--> 909\u001b[0m     \u001b[39mraise\u001b[39;00m \u001b[39mNotImplementedError\u001b[39;00m(\n\u001b[1;32m    910\u001b[0m         \u001b[39m\"\u001b[39m\u001b[39mNot yet implemented if the GeoDataFrame has no known spatial \u001b[39m\u001b[39m\"\u001b[39m\n\u001b[1;32m    911\u001b[0m         \u001b[39m\"\u001b[39m\u001b[39mpartitions (you can call the \u001b[39m\u001b[39m'\u001b[39m\u001b[39mcalculate_spatial_partitions\u001b[39m\u001b[39m'\u001b[39m\u001b[39m method \u001b[39m\u001b[39m\"\u001b[39m\n\u001b[1;32m    912\u001b[0m         \u001b[39m\"\u001b[39m\u001b[39mto set it)\u001b[39m\u001b[39m\"\u001b[39m\n\u001b[1;32m    913\u001b[0m     )\n\u001b[1;32m    915\u001b[0m name \u001b[39m=\u001b[39m \u001b[39m\"\u001b[39m\u001b[39mcx-\u001b[39m\u001b[39m%s\u001b[39;00m\u001b[39m\"\u001b[39m \u001b[39m%\u001b[39m tokenize(key, \u001b[39mself\u001b[39m\u001b[39m.\u001b[39mobj)\n\u001b[1;32m    917\u001b[0m \u001b[39mif\u001b[39;00m \u001b[39mlen\u001b[39m(partition_idx):\n\u001b[1;32m    918\u001b[0m     \u001b[39m# construct graph (based on LocIndexer from dask)\u001b[39;00m\n",
      "\u001b[0;31mNotImplementedError\u001b[0m: Not yet implemented if the GeoDataFrame has no known spatial partitions (you can call the 'calculate_spatial_partitions' method to set it)"
     ]
    }
   ],
   "source": [
    "## Coverage data analysis for single satellite/ batch of satellites\n",
    "\n",
    "# aoi = gpd.read_file('./aois/eastern_us.geojson').geometry\n",
    "# from gpd naturalearth dataset (filter by .name for country, .continent for continent)\n",
    "world = gpd.read_file(gpd.datasets.get_path('naturalearth_lowres'))\n",
    "\n",
    "## Filter by AOI - should pass to forecast function instead?\n",
    "# aoi =  world[world.name == \"Venezuela\"].geometry\n",
    "aoi =  world[world.continent == \"South America\"].geometry\n",
    "\n",
    "## Plotting FOVs\n",
    "\n",
    "## Crop the df TODO: make function for various spatial trims\n",
    "xmin, ymin, xmax, ymax= aoi.total_bounds\n",
    "fov_df = fov_df.cx[xmin: xmax, ymin: ymax]\n",
    "\n",
    "## Make a folium map\n",
    "m = fov_df.explore(color=\"color\", tooltip=[\"satellite\", \"time\"])\n",
    "\n",
    "## Add WRS2\n",
    "wrs2 = gpd.read_file('./WRS2_descending_0/WRS2_descending.shp')\n",
    "wrs2 = wrs2.cx[xmin: xmax, ymin: ymax]\n",
    "\n",
    "folium.GeoJson(data=wrs2[\"geometry\"], overlay=False).add_to(m)\n",
    "\n",
    "## View or save\n",
    "# m#.save(\"./tmp/fovs_map.html\")"
   ]
  },
  {
   "cell_type": "code",
   "execution_count": null,
   "metadata": {},
   "outputs": [],
   "source": [
    "## Calculate revisits on fixed grid\n",
    "\n",
    "xcell_size = ycell_size = 0.1\n",
    "grid, grid_shape = calculate_revisits(fov_df, aoi, grid_x=xcell_size, grid_y=ycell_size)\n",
    "# grid = dask_geopandas.from_geopandas(grid, npartitions=4)\n",
    "revisit_map(grid, grid_shape, grid_x=xcell_size, grid_y=ycell_size)"
   ]
  }
 ],
 "metadata": {
  "interpreter": {
   "hash": "e08235b3b3f261cce032f41d2f5ba53bea32df87899ea41a1c550ca660aae0c9"
  },
  "kernelspec": {
   "display_name": "Python 3.7.11 ('coverage')",
   "language": "python",
   "name": "python3"
  },
  "language_info": {
   "codemirror_mode": {
    "name": "ipython",
    "version": 3
   },
   "file_extension": ".py",
   "mimetype": "text/x-python",
   "name": "python",
   "nbconvert_exporter": "python",
   "pygments_lexer": "ipython3",
   "version": "3.8.13"
  },
  "orig_nbformat": 4
 },
 "nbformat": 4,
 "nbformat_minor": 2
}
