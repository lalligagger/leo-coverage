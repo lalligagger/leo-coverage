{
 "cells": [
  {
   "cell_type": "code",
   "execution_count": null,
   "metadata": {},
   "outputs": [],
   "source": [
    "from coverage import *\n",
    "from sgp4.api import Satrec, WGS72\n",
    "from skyfield.api import load, EarthSatellite\n",
    "import folium\n",
    "import numpy as np"
   ]
  },
  {
   "cell_type": "code",
   "execution_count": null,
   "metadata": {},
   "outputs": [],
   "source": [
    "delta_mos = np.arange(0, 361, 22.5)\n",
    "\n",
    "# <EarthSatellite catalog #39084 epoch 2021-07-18 22:54:21 UTC>\n",
    "times = gen_times(start_yr=2021, start_mo=7, start_day=18, days=1, step_min=0.22)\n",
    "inst = camera_model(name=\"tirs\", fl=178, pitch=0.025, h_pix=1850, v_pix=1800, ) "
   ]
  },
  {
   "cell_type": "code",
   "execution_count": null,
   "metadata": {},
   "outputs": [],
   "source": [
    "degtorad = (np.pi/180)\n",
    "# delta_mos = np.array([0., 90., 180., 270.])*degtorad\n",
    "delta_mos = np.arange(0,360,22.5)*degtorad"
   ]
  },
  {
   "cell_type": "code",
   "execution_count": null,
   "metadata": {},
   "outputs": [],
   "source": [
    "delta_mos"
   ]
  },
  {
   "cell_type": "code",
   "execution_count": null,
   "metadata": {},
   "outputs": [],
   "source": [
    "sats = []\n",
    "ts = load.timescale()\n",
    "\n",
    "# for delta_mo in delta_mos:\n",
    "for delta_mo in delta_mos:\n",
    "    sat_ref = load.tle_file(\"./historical_tles/sat39084-tle1.txt\")[0]\n",
    "    satrec = Satrec()\n",
    "    satrec.sgp4init(\n",
    "        WGS72,           # gravity model\n",
    "        'i',             # 'a' = old AFSPC mode, 'i' = improved mode\n",
    "        sat_ref.model.satnum,               # satnum: Satellite number\n",
    "        (50 + sat_ref.model.epochyr)*365.5 + sat_ref.model.epochdays,       # epoch: days since 1949 December 31 00:00 UT\n",
    "        sat_ref.model.bstar,      # bstar: drag coefficient (/earth radii)\n",
    "        sat_ref.model.nddot, # ndot: ballistic coefficient (revs/day)\n",
    "        0.0,             # nddot: second derivative of mean motion (revs/day^3)\n",
    "        sat_ref.model.ecco,       # ecco: eccentricity\n",
    "        sat_ref.model.argpo, # argpo: argument of perigee (radians)\n",
    "        sat_ref.model.inclo, # inclo: inclination (radians)\n",
    "        sat_ref.model.mo + delta_mo, # mo: mean anomaly (radians)\n",
    "        sat_ref.model.no_kozai, # no_kozai: mean motion (radians/minute)\n",
    "        sat_ref.model.nodeo, # nodeo: right ascension of ascending node (radians)\n",
    "    )\n",
    "    sat_out = EarthSatellite.from_satrec(satrec, ts)\n",
    "    sats.append(sat_out)"
   ]
  },
  {
   "cell_type": "code",
   "execution_count": null,
   "metadata": {},
   "outputs": [],
   "source": [
    "sats[0]"
   ]
  },
  {
   "cell_type": "code",
   "execution_count": null,
   "metadata": {},
   "outputs": [],
   "source": [
    "gdfs = []\n",
    "for sat in sats:\n",
    "    poly_df = forecast_fovs(sat, times, inst)\n",
    "    gdfs.append(poly_df)\n",
    "\n",
    "poly_df = gpd.GeoDataFrame(pd.concat(gdfs, ignore_index=True), crs=\"epsg:4326\")\n",
    "\n",
    "## Filter shapes crossing anti-meridian - also in main function\n",
    "## TODO: Switch to stactools solution\n",
    "poly_df[\"lonspan\"] = poly_df.bounds['maxx'] - poly_df.bounds['minx']\n",
    "\n",
    "## Create cmap for unique satellites and create color column\n",
    "sat_ids = list(poly_df[\"id\"].unique()).sort()\n",
    "cmap = branca.colormap.StepColormap(['red', 'blue'], sat_ids, vmin=139084, vmax = 149260)\n",
    "poly_df['color'] = poly_df['id'].apply(cmap)\n",
    "\n",
    "plot_df = poly_df[poly_df[\"lonspan\"] < 20].copy()\n",
    "\n",
    "plot_df.to_file(\"./tmp/fovs.geojson\")\n",
    "plot_df"
   ]
  },
  {
   "cell_type": "code",
   "execution_count": null,
   "metadata": {},
   "outputs": [],
   "source": [
    "## Coverage data analysis for single satellite/ batch of satellites\n",
    "\n",
    "aoi = gpd.read_file('./aois/eastern_us.geojson').geometry\n",
    "xcell_size = ycell_size = 0.1\n",
    "\n",
    "# 1) Create a grid of equally spaced points\n",
    "grid, grid_shape = create_grid(aoi.total_bounds, xcell_size, ycell_size)\n",
    "\n",
    "# 2) Add \"n_visits\" column to grid using sjoin/ dissolve\n",
    "shapes = gpd.GeoDataFrame(plot_df.geometry)\n",
    "merged = gpd.sjoin(shapes, grid, how='left', predicate=\"intersects\")\n",
    "merged['n_visits']=0 # this will be replaced with nan or positive int where n_visits > 0\n",
    "dissolve = merged.dissolve(by=\"index_right\", aggfunc=\"count\") # no difference in count vs. sum here?\n",
    "grid.loc[dissolve.index, 'n_visits'] = dissolve.n_visits.values\n",
    "\n",
    "grid.to_file('./tmp/n_visits.geojson')\n",
    "grid.n_visits.fillna(0).describe()\n",
    "\n"
   ]
  },
  {
   "cell_type": "code",
   "execution_count": null,
   "metadata": {},
   "outputs": [],
   "source": [
    "## Plotting Revisit Map\n",
    "\n",
    "## Form 2D array of n_visits based on grid shape\n",
    "img = np.rot90(grid.n_visits.values.reshape(grid_shape))\n",
    "\n",
    "## Create colormap and apply to img\n",
    "## TODO: Make this our geoTIFF item for STAC catalog\n",
    "colormap = branca.colormap.step.viridis.scale(1, grid.n_visits.max())\n",
    "# colormap = branca.colormap.step.viridis.scale(1, 2)\n",
    "\n",
    "def colorfunc(x):\n",
    "    if np.isnan(x):\n",
    "        return (0,0,0,0)\n",
    "    else:\n",
    "        return colormap.rgba_bytes_tuple(x)\n",
    "\n",
    "# Apply cmap to img array and rearrange for RGBA\n",
    "cmap = np.vectorize(colorfunc)\n",
    "rgba_img = np.array(cmap(img))\n",
    "rgba_img = np.moveaxis(rgba_img, 0, 2)\n",
    "\n",
    "# Update image corner bounds based on cell size\n",
    "xmin, ymin, xmax, ymax= grid.total_bounds\n",
    "xmin = xmin - xcell_size/2\n",
    "ymin = ymin - ycell_size/2\n",
    "xmax = xmax + xcell_size/2\n",
    "ymax = ymax + ycell_size/2\n",
    "\n",
    "m = folium.Map()\n",
    "m.fit_bounds([[ymin, xmin], [ymax, xmax]])\n",
    "m.add_child(folium.raster_layers.ImageOverlay(rgba_img, opacity=.4, mercator_project=True,# crs=\"EPSG:4326\",\n",
    "                                 bounds = [[ymin,xmin],[ymax,xmax]]))\n",
    "colormap.add_to(m)\n",
    "m"
   ]
  },
  {
   "cell_type": "code",
   "execution_count": null,
   "metadata": {},
   "outputs": [],
   "source": [
    "# f = open(\"./historical_tles/sat39084.txt\", \"r\")\n",
    "\n",
    "# tles = []\n",
    "# for x in f:\n",
    "#   if x[0] == \"1\":\n",
    "#         # print(x) \n",
    "#         tle1 = x\n",
    "#   if x[0] == \"2\":\n",
    "#         # print(x) \n",
    "#         tle2 = x\n",
    "#         tle = tle1 + tle2\n",
    "#         tles.append(tle)"
   ]
  }
 ],
 "metadata": {
  "interpreter": {
   "hash": "6732e973076e7115f37404b6c02070351da73f1ea73132f1ec72b9bbd3b6f861"
  },
  "kernelspec": {
   "display_name": "Python 3.9.4 ('skyfield')",
   "language": "python",
   "name": "python3"
  },
  "language_info": {
   "codemirror_mode": {
    "name": "ipython",
    "version": 3
   },
   "file_extension": ".py",
   "mimetype": "text/x-python",
   "name": "python",
   "nbconvert_exporter": "python",
   "pygments_lexer": "ipython3",
   "version": "3.9.4"
  },
  "orig_nbformat": 4
 },
 "nbformat": 4,
 "nbformat_minor": 2
}
