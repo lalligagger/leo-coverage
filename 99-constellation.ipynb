{
 "cells": [
  {
   "cell_type": "code",
   "execution_count": null,
   "metadata": {},
   "outputs": [],
   "source": [
    "from coverage import *\n",
    "from sgp4.api import Satrec, WGS72\n",
    "from skyfield.api import load, EarthSatellite\n",
    "import folium\n",
    "import numpy as np"
   ]
  },
  {
   "cell_type": "code",
   "execution_count": null,
   "metadata": {},
   "outputs": [],
   "source": [
    "delta_mos = np.arange(0, 361, 22.5)\n",
    "\n",
    "# <EarthSatellite catalog #39084 epoch 2021-07-18 22:54:21 UTC>\n",
    "times = gen_times(start_yr=2021, start_mo=7, start_day=18, days=1, step_min=22/60)\n",
    "inst = camera_model(name=\"tirs\", fl=178, pitch=0.025, h_pix=1850, v_pix=1800) "
   ]
  },
  {
   "cell_type": "code",
   "execution_count": null,
   "metadata": {},
   "outputs": [],
   "source": [
    "degtorad = (np.pi/180)\n",
    "# delta_mos = np.array([0., 90., 180., 270.])*degtorad\n",
    "delta_mos = np.arange(0,360,22.5)*degtorad"
   ]
  },
  {
   "cell_type": "code",
   "execution_count": null,
   "metadata": {},
   "outputs": [],
   "source": [
    "delta_mos"
   ]
  },
  {
   "cell_type": "code",
   "execution_count": null,
   "metadata": {},
   "outputs": [],
   "source": [
    "sats = []\n",
    "ts = load.timescale()\n",
    "\n",
    "# for delta_mo in delta_mos:\n",
    "for delta_mo in delta_mos:\n",
    "    sat_ref = load.tle_file(\"./historical_tles/sat39084-tle1.txt\")[0]\n",
    "    satrec = Satrec()\n",
    "    satrec.sgp4init(\n",
    "        WGS72,           # gravity model\n",
    "        'i',             # 'a' = old AFSPC mode, 'i' = improved mode\n",
    "        sat_ref.model.satnum,               # satnum: Satellite number\n",
    "        (50 + sat_ref.model.epochyr)*365.5 + sat_ref.model.epochdays,       # epoch: days since 1949 December 31 00:00 UT\n",
    "        sat_ref.model.bstar,      # bstar: drag coefficient (/earth radii)\n",
    "        sat_ref.model.nddot, # ndot: ballistic coefficient (revs/day)\n",
    "        0.0,             # nddot: second derivative of mean motion (revs/day^3)\n",
    "        sat_ref.model.ecco,       # ecco: eccentricity\n",
    "        sat_ref.model.argpo, # argpo: argument of perigee (radians)\n",
    "        sat_ref.model.inclo, # inclo: inclination (radians)\n",
    "        sat_ref.model.mo + delta_mo, # mo: mean anomaly (radians)\n",
    "        sat_ref.model.no_kozai, # no_kozai: mean motion (radians/minute)\n",
    "        sat_ref.model.nodeo, # nodeo: right ascension of ascending node (radians)\n",
    "    )\n",
    "    sat_out = EarthSatellite.from_satrec(satrec, ts)\n",
    "    sats.append(sat_out)"
   ]
  },
  {
   "cell_type": "code",
   "execution_count": null,
   "metadata": {},
   "outputs": [],
   "source": [
    "sats[0]"
   ]
  },
  {
   "cell_type": "code",
   "execution_count": null,
   "metadata": {},
   "outputs": [],
   "source": [
    "gdfs = []\n",
    "for sat in sats:\n",
    "    fov_df = forecast_fovs(sat, times, inst)\n",
    "    gdfs.append(fov_df)\n",
    "\n",
    "fov_df = gpd.GeoDataFrame(pd.concat(gdfs, ignore_index=True), crs=\"epsg:4326\")\n",
    "\n",
    "## Filter shapes crossing anti-meridian - also in main function\n",
    "## TODO: Switch to stactools solution\n",
    "fov_df[\"lonspan\"] = fov_df.bounds['maxx'] - fov_df.bounds['minx']\n",
    "\n",
    "## Create cmap for unique satellites and create color column\n",
    "sat_ids = list(fov_df[\"id\"].unique()).sort()\n",
    "cmap = branca.colormap.StepColormap(['red', 'blue'], sat_ids, vmin=139084, vmax = 149260)\n",
    "fov_df['color'] = fov_df['id'].apply(cmap)\n",
    "\n",
    "fov_df = fov_df[fov_df[\"lonspan\"] < 20].copy()\n",
    "\n",
    "fov_df.to_file(\"./tmp/fovs.geojson\")\n",
    "fov_df"
   ]
  },
  {
   "cell_type": "code",
   "execution_count": null,
   "metadata": {},
   "outputs": [],
   "source": [
    "## Coverage data analysis for single satellite/ batch of satellites\n",
    "\n",
    "# aoi = gpd.read_file('./aois/eastern_us.geojson').geometry\n",
    "# from gpd naturalearth dataset (filter by .name for country, .continent for continent)\n",
    "world = gpd.read_file(gpd.datasets.get_path('naturalearth_lowres'))\n",
    "\n",
    "## Filter by AOI - should pass to forecast function instead?\n",
    "aoi =  world[world.name == \"Venezuela\"].geometry\n",
    "# aoi =  world[world.continent == \"South America\"].geometry\n",
    "\n",
    "## Plotting FOVs\n",
    "\n",
    "## Crop the df TODO: make function for various spatial trims\n",
    "xmin, ymin, xmax, ymax= aoi.total_bounds\n",
    "fov_df = fov_df.cx[xmin: xmax, ymin: ymax]\n",
    "\n",
    "## Make a folium map\n",
    "m = fov_df.explore(color=\"color\", tooltip=[\"satellite\", \"time\"])\n",
    "\n",
    "## Add WRS2\n",
    "wrs2 = gpd.read_file('./WRS2_descending_0/WRS2_descending.shp')\n",
    "wrs2 = wrs2.cx[xmin: xmax, ymin: ymax]\n",
    "\n",
    "folium.GeoJson(data=wrs2[\"geometry\"], overlay=False).add_to(m)\n",
    "\n",
    "## View or save\n",
    "m#.save(\"./tmp/fovs_map.html\")"
   ]
  },
  {
   "cell_type": "code",
   "execution_count": null,
   "metadata": {},
   "outputs": [],
   "source": [
    "## Calculate revisits on fixed grid\n",
    "\n",
    "xcell_size = ycell_size = 0.1\n",
    "grid, grid_shape = calculate_revisits(fov_df, aoi, grid_x=xcell_size, grid_y=ycell_size)\n",
    "revisit_map(grid, grid_shape, grid_x=xcell_size, grid_y=ycell_size)"
   ]
  }
 ],
 "metadata": {
  "interpreter": {
   "hash": "6732e973076e7115f37404b6c02070351da73f1ea73132f1ec72b9bbd3b6f861"
  },
  "kernelspec": {
   "display_name": "Python 3.9.4 ('skyfield')",
   "language": "python",
   "name": "python3"
  },
  "language_info": {
   "codemirror_mode": {
    "name": "ipython",
    "version": 3
   },
   "file_extension": ".py",
   "mimetype": "text/x-python",
   "name": "python",
   "nbconvert_exporter": "python",
   "pygments_lexer": "ipython3",
   "version": "3.9.4"
  },
  "orig_nbformat": 4
 },
 "nbformat": 4,
 "nbformat_minor": 2
}
