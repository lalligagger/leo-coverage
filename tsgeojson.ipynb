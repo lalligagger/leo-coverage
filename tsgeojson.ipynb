{
 "cells": [
  {
   "cell_type": "code",
   "execution_count": null,
   "metadata": {},
   "outputs": [],
   "source": [
    "# https://python-visualization.github.io/folium/plugins.html\n",
    "\n",
    "from folium.plugins import TimestampedGeoJson, TimestampedWmsTileLayers\n",
    "from folium import WmsTileLayer\n",
    "import folium\n",
    "\n",
    "# data = TimestampedGeoJson({\n",
    "\n",
    "#     'type': 'FeatureCollection',\n",
    "\n",
    "#     \"features\": [\n",
    "#         { \"type\": \"Feature\", \"properties\": { \"satellite\": \"LANDSAT 8\", \"id\": 139084, \"time\": \"2022-06-10 00:41:00 UTC\", \"lonspan\": 10.430223652592815, \"color\": \"#ff0000ff\" }, \"geometry\": { \"type\": \"Polygon\", \"coordinates\": [ [ [ 174.319268082861441, 72.98510219076141 ], [ 169.272977210535373, 73.85491251506042 ], [ 163.889044430268626, 70.487827821754209 ], [ 168.342659980479169, 69.758984481845999 ], [ 174.319268082861441, 72.98510219076141 ] ] ] } },\n",
    "#         { \"type\": \"Feature\", \"properties\": { \"satellite\": \"LANDSAT 8\", \"id\": 139084, \"time\": \"2022-06-10 00:42:00 UTC\", \"lonspan\": 8.3866104906389296, \"color\": \"#ff0000ff\" }, \"geometry\": { \"type\": \"Polygon\", \"coordinates\": [ [ [ 168.4418036910306, 69.822680676311563 ], [ 163.993669159979504, 70.567607569742677 ], [ 160.05519320039167, 67.102042556529469 ], [ 163.994118914113329, 66.463034865192469 ], [ 168.4418036910306, 69.822680676311563 ] ] ] } },\n",
    "#         { \"type\": \"Feature\", \"properties\": { \"satellite\": \"LANDSAT 8\", \"id\": 139084, \"time\": \"2022-06-10 00:43:00 UTC\", \"lonspan\": 6.9658246074639862, \"color\": \"#ff0000ff\" }, \"geometry\": { \"type\": \"Polygon\", \"coordinates\": [ [ [ 164.066116278134814, 66.525527163910482 ], [ 160.130114614047471, 67.179982951633164 ], [ 157.100291670670828, 63.654939071543275 ], [ 160.618364926523185, 63.082264998576306 ], [ 164.066116278134814, 66.525527163910482 ] ] ] } }\n",
    "#     ]\n",
    "\n",
    "#     }, duration=\"PT2M\")"
   ]
  },
  {
   "cell_type": "code",
   "execution_count": null,
   "metadata": {},
   "outputs": [],
   "source": [
    "f = open('./tmp/fovs.geojson')\n",
    "data = TimestampedGeoJson(f.read(), period=\"PT5M\", duration=\"PT100M\")\n",
    "m = folium.Map()\n",
    "data.add_to(m)\n",
    "m"
   ]
  }
 ],
 "metadata": {
  "interpreter": {
   "hash": "6732e973076e7115f37404b6c02070351da73f1ea73132f1ec72b9bbd3b6f861"
  },
  "kernelspec": {
   "display_name": "Python 3.9.4 ('skyfield')",
   "language": "python",
   "name": "python3"
  },
  "language_info": {
   "codemirror_mode": {
    "name": "ipython",
    "version": 3
   },
   "file_extension": ".py",
   "mimetype": "text/x-python",
   "name": "python",
   "nbconvert_exporter": "python",
   "pygments_lexer": "ipython3",
   "version": "3.9.4"
  },
  "orig_nbformat": 4
 },
 "nbformat": 4,
 "nbformat_minor": 2
}
