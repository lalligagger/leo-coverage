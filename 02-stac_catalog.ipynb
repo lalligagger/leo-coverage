{
 "cells": [
  {
   "cell_type": "code",
   "execution_count": null,
   "metadata": {},
   "outputs": [],
   "source": [
    "import pystac\n",
    "from pathlib import Path\n",
    "from shapely.geometry import Polygon, mapping\n",
    "\n",
    "import pandas as pd\n",
    "from rasterio.warp import transform_bounds, transform_geom\n",
    "\n",
    "import geopandas as gpd\n",
    "from datetime import datetime, timezone\n"
   ]
  },
  {
   "cell_type": "code",
   "execution_count": null,
   "metadata": {},
   "outputs": [],
   "source": [
    "catalog = pystac.Catalog(\n",
    "    id='forecast-test',\n",
    "    title=\"Landsat FOVs\",\n",
    "    description='This is a test of Landsat image forecasts',\n",
    "    stac_extensions=['https://stac-extensions.github.io/projection/v1.0.0/schema.json']\n",
    ")"
   ]
  },
  {
   "cell_type": "code",
   "execution_count": null,
   "metadata": {},
   "outputs": [],
   "source": [
    "grid = gpd.read_file('./tmp/all_revisits.geojson')\n",
    "bbox = grid.total_bounds\n",
    "print(grid.crs.to_string())\n",
    "print(bbox)"
   ]
  },
  {
   "cell_type": "code",
   "execution_count": null,
   "metadata": {},
   "outputs": [],
   "source": [
    "def get_bbox_and_footprint(bbox):\n",
    "\n",
    "    # create the footprint\n",
    "    footprint = Polygon([\n",
    "        [bbox[0], bbox[1]],\n",
    "        [bbox[0], bbox[3]],\n",
    "        [bbox[2], bbox[3]],\n",
    "        [bbox[2], bbox[1]]\n",
    "    ])\n",
    "\n",
    "    return bbox, mapping(footprint)"
   ]
  },
  {
   "cell_type": "code",
   "execution_count": null,
   "metadata": {},
   "outputs": [],
   "source": [
    "get_bbox_and_footprint(grid.total_bounds)"
   ]
  },
  {
   "cell_type": "code",
   "execution_count": null,
   "metadata": {},
   "outputs": [],
   "source": [
    "folder = Path('./tmp/')\n",
    "file_list = list(folder.rglob('*fovs.geojson'))\n",
    "\n",
    "fovs = gpd.read_file(file_list[0])\n",
    "\n",
    "fovs"
   ]
  },
  {
   "cell_type": "markdown",
   "metadata": {},
   "source": [
    "`LXSS_LLLL_PPPRRR_YYYYMMDD_yyyymmdd_CC_TX`\n",
    "\n",
    "- L = Landsat\n",
    "- X = Sensor (“C”=OLI/TIRS combined, “O”=OLI-only, “T”=TIRS-only, “E”=ETM+, “T”=“TM, “M”=MSS)\n",
    "- SS = Satellite (”07”=Landsat 7, “08”=Landsat 8)\n",
    "- LLL = Processing correction level (L1TP/L1GT/L1GS)\n",
    "- PPP = WRS path\n",
    "- RRR = WRS row\n",
    "- YYYYMMDD = Acquisition year, month, day\n",
    "- yyyymmdd - Processing year, month, day\n",
    "- CC = Collection number (01, 02, …)\n",
    "- TX = Collection category (“RT”=Real-Time, “T1”=Tier 1, “T2”=Tier 2)\n"
   ]
  },
  {
   "cell_type": "code",
   "execution_count": null,
   "metadata": {},
   "outputs": [],
   "source": [
    "for f in file_list:\n",
    "    fovs = gpd.read_file(f)\n",
    "    for i in range(len(fovs)):\n",
    "        \n",
    "        fov = fovs.iloc[i]\n",
    "\n",
    "        bounds = fov.geometry.bounds\n",
    "        bbox, footprint = get_bbox_and_footprint(bounds)\n",
    "\n",
    "        # Project to WGS84 to obtain in geometric coordinates - TODO: IF NEEDED\n",
    "        geo_bounds = transform_bounds(fovs.crs.to_string(), 'EPSG:4326', *bbox)\n",
    "        geo_footprint = transform_geom(fovs.crs.to_string(), 'EPSG:4326', footprint)\n",
    "\n",
    "        dt = datetime.fromisoformat(fov.time)\n",
    "        dtz = dt.astimezone(timezone.utc)\n",
    "\n",
    "        if fov.satellite == \"LANDSAT 8\":\n",
    "            id = str(\"LC08_L0XX_\" + dtz.strftime('%Y%m%d%M%S'))\n",
    "        if fov.satellite == \"LANDSAT 9\":\n",
    "            id = str(\"LC09_L0XX_\" + dtz.strftime('%Y%m%d%M%S'))\n",
    "\n",
    "        item = pystac.Item(\n",
    "            # id=str(i),\n",
    "            id = id,\n",
    "            geometry = geo_footprint,\n",
    "            bbox = geo_bounds,\n",
    "            datetime = dtz,\n",
    "            stac_extensions=['https://stac-extensions.github.io/projection/v1.0.0/schema.json'],\n",
    "            properties=dict(\n",
    "            # tile=tile\n",
    "            )\n",
    "        )\n",
    "\n",
    "        catalog.add_item(item)\n",
    "\n",
    "catalog.normalize_hrefs('./stac_catalog')\n",
    "catalog.save()\n",
    "\n",
    "# print(len(list(catalog.get_items())))\n",
    "# catalog.describe()"
   ]
  },
  {
   "cell_type": "code",
   "execution_count": null,
   "metadata": {},
   "outputs": [],
   "source": [
    "from pystac import Catalog, get_stac_version\n",
    "root_catalog = Catalog.from_file('./stac_catalog/catalog.json')\n",
    "print(f\"ID: {root_catalog.id}\")\n",
    "print(f\"Title: {root_catalog.title or 'N/A'}\")\n",
    "print(f\"Description: {root_catalog.description or 'N/A'}\")"
   ]
  },
  {
   "cell_type": "code",
   "execution_count": null,
   "metadata": {},
   "outputs": [],
   "source": [
    "item = root_catalog.get_item(\"LC09_L0XX_202206245948\", recursive=True)\n"
   ]
  },
  {
   "cell_type": "code",
   "execution_count": null,
   "metadata": {},
   "outputs": [],
   "source": [
    "item.geometry"
   ]
  },
  {
   "cell_type": "code",
   "execution_count": null,
   "metadata": {},
   "outputs": [],
   "source": []
  }
 ],
 "metadata": {
  "interpreter": {
   "hash": "d637c763bf922768e601b8281cb3dfa3236defada1d261161ed5e5b2d5297279"
  },
  "kernelspec": {
   "display_name": "Python 3.10.4 ('stactools')",
   "language": "python",
   "name": "python3"
  },
  "language_info": {
   "codemirror_mode": {
    "name": "ipython",
    "version": 3
   },
   "file_extension": ".py",
   "mimetype": "text/x-python",
   "name": "python",
   "nbconvert_exporter": "python",
   "pygments_lexer": "ipython3",
   "version": "3.10.4"
  },
  "orig_nbformat": 4
 },
 "nbformat": 4,
 "nbformat_minor": 2
}
