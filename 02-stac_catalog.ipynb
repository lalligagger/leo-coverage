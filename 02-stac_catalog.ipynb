{
 "cells": [
  {
   "cell_type": "code",
   "execution_count": 1,
   "metadata": {},
   "outputs": [],
   "source": [
    "import pystac\n",
    "from pathlib import Path\n",
    "from shapely.geometry import Polygon, mapping\n",
    "\n",
    "import pandas as pd\n",
    "from rasterio.warp import transform_bounds, transform_geom\n",
    "\n",
    "import geopandas as gpd\n",
    "from datetime import datetime, timezone\n"
   ]
  },
  {
   "cell_type": "code",
   "execution_count": 2,
   "metadata": {},
   "outputs": [],
   "source": [
    "catalog = pystac.Catalog(\n",
    "    id='forecast-test',\n",
    "    title=\"Landsat FOVs\",\n",
    "    description='This is a test of Landsat image forecasts',\n",
    "    stac_extensions=['https://stac-extensions.github.io/projection/v1.0.0/schema.json']\n",
    ")"
   ]
  },
  {
   "cell_type": "code",
   "execution_count": 3,
   "metadata": {},
   "outputs": [
    {
     "name": "stdout",
     "output_type": "stream",
     "text": [
      "EPSG:4326\n",
      "[-81.41094255 -55.61183    -34.41094255  13.38817   ]\n"
     ]
    }
   ],
   "source": [
    "grid = gpd.read_file('./tmp/n_visits.geojson')\n",
    "bbox = grid.total_bounds\n",
    "print(grid.crs.to_string())\n",
    "print(bbox)"
   ]
  },
  {
   "cell_type": "code",
   "execution_count": 4,
   "metadata": {},
   "outputs": [],
   "source": [
    "def get_bbox_and_footprint(bounds):\n",
    "\n",
    "    # create the bounding box (not really needed for gpd - is lat/ lon right?)\n",
    "    bbox = bounds\n",
    "\n",
    "    # create the footprint\n",
    "    footprint = Polygon([\n",
    "        [bbox[0], bbox[1]],\n",
    "        [bbox[0], bbox[3]],\n",
    "        [bbox[2], bbox[3]],\n",
    "        [bbox[2], bbox[1]]\n",
    "    ])\n",
    "\n",
    "    return bbox, mapping(footprint)"
   ]
  },
  {
   "cell_type": "code",
   "execution_count": 5,
   "metadata": {},
   "outputs": [
    {
     "data": {
      "text/plain": [
       "(array([-81.41094255, -55.61183   , -34.41094255,  13.38817   ]),\n",
       " {'type': 'Polygon',\n",
       "  'coordinates': (((-81.41094255239946, -55.61183),\n",
       "    (-81.41094255239946, 13.38817),\n",
       "    (-34.41094255239946, 13.38817),\n",
       "    (-34.41094255239946, -55.61183),\n",
       "    (-81.41094255239946, -55.61183)),)})"
      ]
     },
     "execution_count": 5,
     "metadata": {},
     "output_type": "execute_result"
    }
   ],
   "source": [
    "get_bbox_and_footprint(grid.total_bounds)"
   ]
  },
  {
   "cell_type": "code",
   "execution_count": 6,
   "metadata": {},
   "outputs": [
    {
     "data": {
      "text/html": [
       "<div>\n",
       "<style scoped>\n",
       "    .dataframe tbody tr th:only-of-type {\n",
       "        vertical-align: middle;\n",
       "    }\n",
       "\n",
       "    .dataframe tbody tr th {\n",
       "        vertical-align: top;\n",
       "    }\n",
       "\n",
       "    .dataframe thead th {\n",
       "        text-align: right;\n",
       "    }\n",
       "</style>\n",
       "<table border=\"1\" class=\"dataframe\">\n",
       "  <thead>\n",
       "    <tr style=\"text-align: right;\">\n",
       "      <th></th>\n",
       "      <th>satellite</th>\n",
       "      <th>id</th>\n",
       "      <th>time</th>\n",
       "      <th>lonspan</th>\n",
       "      <th>color</th>\n",
       "      <th>geometry</th>\n",
       "    </tr>\n",
       "  </thead>\n",
       "  <tbody>\n",
       "    <tr>\n",
       "      <th>0</th>\n",
       "      <td>LANDSAT 8</td>\n",
       "      <td>139084</td>\n",
       "      <td>2021-12-10T11:36:00</td>\n",
       "      <td>4.708169</td>\n",
       "      <td>#ff0000ff</td>\n",
       "      <td>POLYGON ((-30.59647 -53.14575, -33.31647 -52.6...</td>\n",
       "    </tr>\n",
       "    <tr>\n",
       "      <th>1</th>\n",
       "      <td>LANDSAT 8</td>\n",
       "      <td>139084</td>\n",
       "      <td>2021-12-10T12:56:00</td>\n",
       "      <td>2.479858</td>\n",
       "      <td>#ff0000ff</td>\n",
       "      <td>POLYGON ((-37.94314 14.90338, -39.62978 15.260...</td>\n",
       "    </tr>\n",
       "    <tr>\n",
       "      <th>2</th>\n",
       "      <td>LANDSAT 8</td>\n",
       "      <td>139084</td>\n",
       "      <td>2021-12-10T12:57:00</td>\n",
       "      <td>2.444997</td>\n",
       "      <td>#ff0000ff</td>\n",
       "      <td>POLYGON ((-38.75557 11.28052, -40.41769 11.635...</td>\n",
       "    </tr>\n",
       "    <tr>\n",
       "      <th>3</th>\n",
       "      <td>LANDSAT 8</td>\n",
       "      <td>139084</td>\n",
       "      <td>2021-12-10T12:58:00</td>\n",
       "      <td>2.422150</td>\n",
       "      <td>#ff0000ff</td>\n",
       "      <td>POLYGON ((-39.55042 7.65597, -41.19535 8.00918...</td>\n",
       "    </tr>\n",
       "    <tr>\n",
       "      <th>4</th>\n",
       "      <td>LANDSAT 8</td>\n",
       "      <td>139084</td>\n",
       "      <td>2021-12-10T12:59:00</td>\n",
       "      <td>2.410751</td>\n",
       "      <td>#ff0000ff</td>\n",
       "      <td>POLYGON ((-40.33246 4.03050, -41.96721 4.38252...</td>\n",
       "    </tr>\n",
       "    <tr>\n",
       "      <th>...</th>\n",
       "      <td>...</td>\n",
       "      <td>...</td>\n",
       "      <td>...</td>\n",
       "      <td>...</td>\n",
       "      <td>...</td>\n",
       "      <td>...</td>\n",
       "    </tr>\n",
       "    <tr>\n",
       "      <th>157</th>\n",
       "      <td>LANDSAT 9</td>\n",
       "      <td>149260</td>\n",
       "      <td>2021-12-11T14:43:00</td>\n",
       "      <td>3.515689</td>\n",
       "      <td>#0000ffff</td>\n",
       "      <td>POLYGON ((-74.13549 -41.49507, -76.32620 -41.0...</td>\n",
       "    </tr>\n",
       "    <tr>\n",
       "      <th>158</th>\n",
       "      <td>LANDSAT 9</td>\n",
       "      <td>149260</td>\n",
       "      <td>2021-12-11T14:44:00</td>\n",
       "      <td>3.793507</td>\n",
       "      <td>#0000ffff</td>\n",
       "      <td>POLYGON ((-75.28933 -45.06404, -77.61055 -44.6...</td>\n",
       "    </tr>\n",
       "    <tr>\n",
       "      <th>159</th>\n",
       "      <td>LANDSAT 9</td>\n",
       "      <td>149260</td>\n",
       "      <td>2021-12-11T14:45:00</td>\n",
       "      <td>4.137264</td>\n",
       "      <td>#0000ffff</td>\n",
       "      <td>POLYGON ((-76.55755 -48.62215, -79.03380 -48.1...</td>\n",
       "    </tr>\n",
       "    <tr>\n",
       "      <th>160</th>\n",
       "      <td>LANDSAT 9</td>\n",
       "      <td>149260</td>\n",
       "      <td>2021-12-11T14:46:00</td>\n",
       "      <td>4.568451</td>\n",
       "      <td>#0000ffff</td>\n",
       "      <td>POLYGON ((-77.97371 -52.16732, -80.63510 -51.7...</td>\n",
       "    </tr>\n",
       "    <tr>\n",
       "      <th>161</th>\n",
       "      <td>LANDSAT 9</td>\n",
       "      <td>149260</td>\n",
       "      <td>2021-12-11T14:47:00</td>\n",
       "      <td>5.118644</td>\n",
       "      <td>#0000ffff</td>\n",
       "      <td>POLYGON ((-79.58464 -55.69665, -82.46862 -55.2...</td>\n",
       "    </tr>\n",
       "  </tbody>\n",
       "</table>\n",
       "<p>162 rows × 6 columns</p>\n",
       "</div>"
      ],
      "text/plain": [
       "     satellite      id                 time   lonspan      color  \\\n",
       "0    LANDSAT 8  139084  2021-12-10T11:36:00  4.708169  #ff0000ff   \n",
       "1    LANDSAT 8  139084  2021-12-10T12:56:00  2.479858  #ff0000ff   \n",
       "2    LANDSAT 8  139084  2021-12-10T12:57:00  2.444997  #ff0000ff   \n",
       "3    LANDSAT 8  139084  2021-12-10T12:58:00  2.422150  #ff0000ff   \n",
       "4    LANDSAT 8  139084  2021-12-10T12:59:00  2.410751  #ff0000ff   \n",
       "..         ...     ...                  ...       ...        ...   \n",
       "157  LANDSAT 9  149260  2021-12-11T14:43:00  3.515689  #0000ffff   \n",
       "158  LANDSAT 9  149260  2021-12-11T14:44:00  3.793507  #0000ffff   \n",
       "159  LANDSAT 9  149260  2021-12-11T14:45:00  4.137264  #0000ffff   \n",
       "160  LANDSAT 9  149260  2021-12-11T14:46:00  4.568451  #0000ffff   \n",
       "161  LANDSAT 9  149260  2021-12-11T14:47:00  5.118644  #0000ffff   \n",
       "\n",
       "                                              geometry  \n",
       "0    POLYGON ((-30.59647 -53.14575, -33.31647 -52.6...  \n",
       "1    POLYGON ((-37.94314 14.90338, -39.62978 15.260...  \n",
       "2    POLYGON ((-38.75557 11.28052, -40.41769 11.635...  \n",
       "3    POLYGON ((-39.55042 7.65597, -41.19535 8.00918...  \n",
       "4    POLYGON ((-40.33246 4.03050, -41.96721 4.38252...  \n",
       "..                                                 ...  \n",
       "157  POLYGON ((-74.13549 -41.49507, -76.32620 -41.0...  \n",
       "158  POLYGON ((-75.28933 -45.06404, -77.61055 -44.6...  \n",
       "159  POLYGON ((-76.55755 -48.62215, -79.03380 -48.1...  \n",
       "160  POLYGON ((-77.97371 -52.16732, -80.63510 -51.7...  \n",
       "161  POLYGON ((-79.58464 -55.69665, -82.46862 -55.2...  \n",
       "\n",
       "[162 rows x 6 columns]"
      ]
     },
     "execution_count": 6,
     "metadata": {},
     "output_type": "execute_result"
    }
   ],
   "source": [
    "folder = Path('./tmp/')\n",
    "file_list = list(folder.rglob('*fovs.geojson'))\n",
    "\n",
    "fovs = gpd.read_file(file_list[0])\n",
    "\n",
    "fovs"
   ]
  },
  {
   "cell_type": "code",
   "execution_count": 7,
   "metadata": {},
   "outputs": [
    {
     "name": "stdout",
     "output_type": "stream",
     "text": [
      "2\n",
      "* <Catalog id=forecast-test>\n",
      "  * <Item id=0>\n",
      "  * <Item id=1>\n"
     ]
    }
   ],
   "source": [
    "for f in file_list:\n",
    "    fovs = gpd.read_file(f)\n",
    "    for i in range(len(fovs[:2])):\n",
    "        \n",
    "        fov = fovs.iloc[i]\n",
    "\n",
    "        bounds = fov.geometry.bounds\n",
    "        bbox, footprint = get_bbox_and_footprint(bounds)\n",
    "\n",
    "        # Project to WGS84 to obtain in geometric coordinates\n",
    "        geo_bounds = transform_bounds(fovs.crs.to_string(), 'EPSG:4326', *bbox)\n",
    "        geo_footprint = transform_geom(fovs.crs.to_string(), 'EPSG:4326', footprint)\n",
    "\n",
    "        dt = datetime.fromisoformat(fov.time)\n",
    "        dtz = dt.astimezone(timezone.utc)\n",
    "\n",
    "        item = pystac.Item(\n",
    "            # id=idx,\n",
    "            id = str(i),\n",
    "            geometry=geo_footprint,\n",
    "            bbox=geo_bounds,\n",
    "            datetime = dtz,\n",
    "            stac_extensions=['https://stac-extensions.github.io/projection/v1.0.0/schema.json'],\n",
    "            properties=dict(\n",
    "                # tile=tile\n",
    "            )\n",
    "        )\n",
    "\n",
    "        catalog.add_item(item)\n",
    "\n",
    "print(len(list(catalog.get_items())))\n",
    "catalog.describe()"
   ]
  },
  {
   "cell_type": "code",
   "execution_count": null,
   "metadata": {},
   "outputs": [],
   "source": []
  },
  {
   "cell_type": "code",
   "execution_count": 8,
   "metadata": {},
   "outputs": [
    {
     "data": {
      "text/plain": [
       "'2021-12-10T12:56:00'"
      ]
     },
     "execution_count": 8,
     "metadata": {},
     "output_type": "execute_result"
    }
   ],
   "source": [
    "fov.time"
   ]
  },
  {
   "cell_type": "code",
   "execution_count": 9,
   "metadata": {},
   "outputs": [],
   "source": [
    "# ! git clone https://github.com/stac-utils/pystac.git"
   ]
  },
  {
   "cell_type": "code",
   "execution_count": 10,
   "metadata": {},
   "outputs": [
    {
     "name": "stdout",
     "output_type": "stream",
     "text": [
      "* <Catalog id=forecast-test>\n",
      "  * <Item id=0>\n",
      "  * <Item id=1>\n"
     ]
    }
   ],
   "source": [
    "catalog.describe()"
   ]
  },
  {
   "cell_type": "code",
   "execution_count": 11,
   "metadata": {},
   "outputs": [],
   "source": [
    "catalog.normalize_hrefs('./stac_catalog')\n",
    "catalog.save()"
   ]
  },
  {
   "cell_type": "code",
   "execution_count": 12,
   "metadata": {},
   "outputs": [
    {
     "name": "stdout",
     "output_type": "stream",
     "text": [
      "ID: forecast-test\n",
      "Title: Landsat FOVs\n",
      "Description: This is a test of Landsat image forecasts\n"
     ]
    }
   ],
   "source": [
    "from pystac import Catalog, get_stac_version\n",
    "root_catalog = Catalog.from_file('./stac_catalog/catalog.json')\n",
    "print(f\"ID: {root_catalog.id}\")\n",
    "print(f\"Title: {root_catalog.title or 'N/A'}\")\n",
    "print(f\"Description: {root_catalog.description or 'N/A'}\")"
   ]
  },
  {
   "cell_type": "code",
   "execution_count": 13,
   "metadata": {},
   "outputs": [],
   "source": [
    "item = catalog.get_item(\"1\", recursive=True)\n"
   ]
  },
  {
   "cell_type": "code",
   "execution_count": 14,
   "metadata": {},
   "outputs": [
    {
     "data": {
      "text/plain": [
       "{'type': 'Polygon',\n",
       " 'coordinates': [[(-40.42299424761815, 11.255596061458949),\n",
       "   (-40.42299424761815, 15.260761206159888),\n",
       "   (-37.94313663718168, 15.260761206159888),\n",
       "   (-37.94313663718168, 11.255596061458949),\n",
       "   (-40.42299424761815, 11.255596061458949)]]}"
      ]
     },
     "execution_count": 14,
     "metadata": {},
     "output_type": "execute_result"
    }
   ],
   "source": [
    "item.geometry"
   ]
  },
  {
   "cell_type": "code",
   "execution_count": 15,
   "metadata": {},
   "outputs": [
    {
     "name": "stdout",
     "output_type": "stream",
     "text": [
      "None\n"
     ]
    }
   ],
   "source": [
    "print(item.collection_id)"
   ]
  },
  {
   "cell_type": "code",
   "execution_count": null,
   "metadata": {},
   "outputs": [],
   "source": []
  }
 ],
 "metadata": {
  "interpreter": {
   "hash": "d637c763bf922768e601b8281cb3dfa3236defada1d261161ed5e5b2d5297279"
  },
  "kernelspec": {
   "display_name": "Python 3.10.4 ('stactools')",
   "language": "python",
   "name": "python3"
  },
  "language_info": {
   "codemirror_mode": {
    "name": "ipython",
    "version": 3
   },
   "file_extension": ".py",
   "mimetype": "text/x-python",
   "name": "python",
   "nbconvert_exporter": "python",
   "pygments_lexer": "ipython3",
   "version": "3.10.4"
  },
  "orig_nbformat": 4
 },
 "nbformat": 4,
 "nbformat_minor": 2
}
