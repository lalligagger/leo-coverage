{
 "cells": [
  {
   "cell_type": "code",
   "execution_count": null,
   "metadata": {},
   "outputs": [],
   "source": [
    "import coverage_v1 as cov\n",
    "import geopandas as gpd\n",
    "import plotly.express as px"
   ]
  },
  {
   "cell_type": "code",
   "execution_count": null,
   "metadata": {},
   "outputs": [],
   "source": [
    "tles = cov.gen_sats(sat_nos=[39084, 49260])\n",
    "times = cov.gen_times(start_yr=2021, start_mo=11, start_day=27, days=1, step_min=1)\n",
    "df1 = cov.prop_orbits(tles, times)\n",
    "df1 = cov.add_bearing(df1)\n",
    "dt_df = df1.set_index(\"time\")\n"
   ]
  },
  {
   "cell_type": "code",
   "execution_count": null,
   "metadata": {},
   "outputs": [],
   "source": [
    "# fig1 = px.scatter_geo(dt_df, lon=\"lon\", lat=\"lat\", color=\"satellite\", projection=\"orthographic\")\n",
    "# fig1.show()"
   ]
  },
  {
   "cell_type": "code",
   "execution_count": null,
   "metadata": {},
   "outputs": [],
   "source": [
    "df1"
   ]
  },
  {
   "cell_type": "code",
   "execution_count": null,
   "metadata": {},
   "outputs": [],
   "source": [
    "# inst = cov.gen_instrument(name=\"instrument\", fl=100, pitch=0.017, h_pix=1024*3, v_pix=768, mm=True)\n",
    "inst = cov.gen_instrument(name=\"tirs\", fl=178, pitch=0.025, h_pix=1850, v_pix=1800, mm=True)\n",
    "\n",
    "inst"
   ]
  },
  {
   "cell_type": "code",
   "execution_count": null,
   "metadata": {},
   "outputs": [],
   "source": [
    "df1"
   ]
  },
  {
   "cell_type": "code",
   "execution_count": null,
   "metadata": {},
   "outputs": [],
   "source": [
    "# df = df1[df1.satellite == \"LANDSAT 8\"]\n",
    "df = df1\n",
    "df.loc[0]"
   ]
  },
  {
   "cell_type": "code",
   "execution_count": null,
   "metadata": {},
   "outputs": [],
   "source": [
    "df1 = df1.dropna()"
   ]
  },
  {
   "cell_type": "code",
   "execution_count": null,
   "metadata": {},
   "outputs": [],
   "source": [
    "df, polys = cov.gen_los_offsets(df1, inst)"
   ]
  },
  {
   "cell_type": "code",
   "execution_count": null,
   "metadata": {},
   "outputs": [],
   "source": [
    "cmap = px.colors.qualitative.Plotly\n",
    "sats = polys.satellite.unique()\n",
    "color_key = dict(zip(sats, cmap))\n",
    "\n",
    "color_key\n",
    "\n",
    "\n",
    "polys['color'] = polys.apply(\n",
    "    lambda row: color_key[row.satellite], axis=1)\n",
    "\n"
   ]
  },
  {
   "cell_type": "code",
   "execution_count": null,
   "metadata": {},
   "outputs": [],
   "source": [
    "polys = polys.to_crs(\"ESRI:54009\")\n",
    "polys = polys[polys.area < polys.area.quantile(0.98)]\n",
    "polys"
   ]
  },
  {
   "cell_type": "code",
   "execution_count": null,
   "metadata": {},
   "outputs": [],
   "source": [
    "# fig = polys.explore(color=\"color\", tooltip=\"satellite\")\n",
    "polys.explore(color=\"color\", tooltip=\"satellite\")\n",
    "# for tomorrow... https://towardsdatascience.com/around-the-world-in-80-lines-crossing-the-antimeridian-with-python-and-shapely-c87c9b6e1513"
   ]
  },
  {
   "cell_type": "code",
   "execution_count": null,
   "metadata": {},
   "outputs": [],
   "source": [
    "fig.save(\"../lalligagger.github.io/index.html\")"
   ]
  },
  {
   "cell_type": "code",
   "execution_count": null,
   "metadata": {},
   "outputs": [],
   "source": [
    "polys.area.mean()"
   ]
  },
  {
   "cell_type": "code",
   "execution_count": null,
   "metadata": {},
   "outputs": [],
   "source": [
    "polys.to_parquet(\"v1_test.parquet\")"
   ]
  },
  {
   "cell_type": "code",
   "execution_count": null,
   "metadata": {},
   "outputs": [],
   "source": []
  }
 ],
 "metadata": {
  "interpreter": {
   "hash": "6732e973076e7115f37404b6c02070351da73f1ea73132f1ec72b9bbd3b6f861"
  },
  "kernelspec": {
   "display_name": "Python 3.9.4 64-bit ('skyfield': virtualenv)",
   "language": "python",
   "name": "python3"
  },
  "language_info": {
   "codemirror_mode": {
    "name": "ipython",
    "version": 3
   },
   "file_extension": ".py",
   "mimetype": "text/x-python",
   "name": "python",
   "nbconvert_exporter": "python",
   "pygments_lexer": "ipython3",
   "version": "3.9.4"
  },
  "orig_nbformat": 4
 },
 "nbformat": 4,
 "nbformat_minor": 2
}
